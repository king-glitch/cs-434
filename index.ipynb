{
 "cells": [
  {
   "cell_type": "code",
   "execution_count": 6279,
   "metadata": {},
   "outputs": [],
   "source": [
    "# imports\n",
    "# ref: https://www.kaggle.com/nandalald/android-app-recommendation\n",
    "from sklearn.feature_extraction.text import CountVectorizer\n",
    "from sklearn.feature_extraction.text import TfidfVectorizer\n",
    "from sklearn.metrics.pairwise import cosine_similarity, linear_kernel\n",
    "import pandas as pd\n",
    "import numpy as np\n",
    "import gradio as gr\n",
    "from matplotlib import pyplot as plt\n",
    "import seaborn as sns\n",
    "plt.style.use('seaborn')\n"
   ]
  },
  {
   "cell_type": "code",
   "execution_count": 6280,
   "metadata": {},
   "outputs": [],
   "source": [
    "\n",
    "file_name = \"data/googleplaystore.csv\"\n",
    "df_temp = pd.read_csv(file_name, encoding=\"utf-8\")\n"
   ]
  },
  {
   "cell_type": "code",
   "execution_count": 6281,
   "metadata": {},
   "outputs": [
    {
     "data": {
      "text/html": [
       "<div>\n",
       "<style scoped>\n",
       "    .dataframe tbody tr th:only-of-type {\n",
       "        vertical-align: middle;\n",
       "    }\n",
       "\n",
       "    .dataframe tbody tr th {\n",
       "        vertical-align: top;\n",
       "    }\n",
       "\n",
       "    .dataframe thead th {\n",
       "        text-align: right;\n",
       "    }\n",
       "</style>\n",
       "<table border=\"1\" class=\"dataframe\">\n",
       "  <thead>\n",
       "    <tr style=\"text-align: right;\">\n",
       "      <th></th>\n",
       "      <th>App</th>\n",
       "      <th>Category</th>\n",
       "      <th>Rating</th>\n",
       "      <th>Reviews</th>\n",
       "      <th>Size</th>\n",
       "      <th>Installs</th>\n",
       "      <th>Type</th>\n",
       "      <th>Price</th>\n",
       "      <th>Content Rating</th>\n",
       "      <th>Genres</th>\n",
       "      <th>Last Updated</th>\n",
       "      <th>Current Ver</th>\n",
       "      <th>Android Ver</th>\n",
       "    </tr>\n",
       "  </thead>\n",
       "  <tbody>\n",
       "    <tr>\n",
       "      <th>6602</th>\n",
       "      <td>Wireless BP</td>\n",
       "      <td>MEDICAL</td>\n",
       "      <td>1.8</td>\n",
       "      <td>30</td>\n",
       "      <td>887k</td>\n",
       "      <td>500+</td>\n",
       "      <td>Free</td>\n",
       "      <td>0</td>\n",
       "      <td>Everyone</td>\n",
       "      <td>Medical</td>\n",
       "      <td>May 27, 2016</td>\n",
       "      <td>1.1</td>\n",
       "      <td>4.3 and up</td>\n",
       "    </tr>\n",
       "    <tr>\n",
       "      <th>8770</th>\n",
       "      <td>Dr. Rocket</td>\n",
       "      <td>GAME</td>\n",
       "      <td>4.0</td>\n",
       "      <td>42182</td>\n",
       "      <td>3.4M</td>\n",
       "      <td>1,000,000+</td>\n",
       "      <td>Free</td>\n",
       "      <td>0</td>\n",
       "      <td>Everyone</td>\n",
       "      <td>Arcade</td>\n",
       "      <td>January 6, 2018</td>\n",
       "      <td>1.11</td>\n",
       "      <td>4.1 and up</td>\n",
       "    </tr>\n",
       "    <tr>\n",
       "      <th>3735</th>\n",
       "      <td>BBC Persian | BBC Farsi News</td>\n",
       "      <td>NEWS_AND_MAGAZINES</td>\n",
       "      <td>4.3</td>\n",
       "      <td>978</td>\n",
       "      <td>2.9M</td>\n",
       "      <td>100,000+</td>\n",
       "      <td>Free</td>\n",
       "      <td>0</td>\n",
       "      <td>Everyone</td>\n",
       "      <td>News &amp; Magazines</td>\n",
       "      <td>May 12, 2018</td>\n",
       "      <td>1.8.2</td>\n",
       "      <td>4.0.3 and up</td>\n",
       "    </tr>\n",
       "    <tr>\n",
       "      <th>8003</th>\n",
       "      <td>CW Studio ®</td>\n",
       "      <td>COMMUNICATION</td>\n",
       "      <td>3.8</td>\n",
       "      <td>9</td>\n",
       "      <td>780k</td>\n",
       "      <td>100+</td>\n",
       "      <td>Paid</td>\n",
       "      <td>$0.99</td>\n",
       "      <td>Everyone</td>\n",
       "      <td>Communication</td>\n",
       "      <td>May 19, 2015</td>\n",
       "      <td>1.2</td>\n",
       "      <td>2.3.3 and up</td>\n",
       "    </tr>\n",
       "    <tr>\n",
       "      <th>3747</th>\n",
       "      <td>Vietnam Today - Read online newspapers, the ho...</td>\n",
       "      <td>NEWS_AND_MAGAZINES</td>\n",
       "      <td>4.2</td>\n",
       "      <td>21147</td>\n",
       "      <td>9.0M</td>\n",
       "      <td>5,000,000+</td>\n",
       "      <td>Free</td>\n",
       "      <td>0</td>\n",
       "      <td>Teen</td>\n",
       "      <td>News &amp; Magazines</td>\n",
       "      <td>August 6, 2018</td>\n",
       "      <td>2.2.1</td>\n",
       "      <td>4.0.3 and up</td>\n",
       "    </tr>\n",
       "  </tbody>\n",
       "</table>\n",
       "</div>"
      ],
      "text/plain": [
       "                                                    App            Category  \\\n",
       "6602                                        Wireless BP             MEDICAL   \n",
       "8770                                         Dr. Rocket                GAME   \n",
       "3735                       BBC Persian | BBC Farsi News  NEWS_AND_MAGAZINES   \n",
       "8003                                        CW Studio ®       COMMUNICATION   \n",
       "3747  Vietnam Today - Read online newspapers, the ho...  NEWS_AND_MAGAZINES   \n",
       "\n",
       "      Rating Reviews  Size    Installs  Type  Price Content Rating  \\\n",
       "6602     1.8      30  887k        500+  Free      0       Everyone   \n",
       "8770     4.0   42182  3.4M  1,000,000+  Free      0       Everyone   \n",
       "3735     4.3     978  2.9M    100,000+  Free      0       Everyone   \n",
       "8003     3.8       9  780k        100+  Paid  $0.99       Everyone   \n",
       "3747     4.2   21147  9.0M  5,000,000+  Free      0           Teen   \n",
       "\n",
       "                Genres     Last Updated Current Ver   Android Ver  \n",
       "6602           Medical     May 27, 2016         1.1    4.3 and up  \n",
       "8770            Arcade  January 6, 2018        1.11    4.1 and up  \n",
       "3735  News & Magazines     May 12, 2018       1.8.2  4.0.3 and up  \n",
       "8003     Communication     May 19, 2015         1.2  2.3.3 and up  \n",
       "3747  News & Magazines   August 6, 2018       2.2.1  4.0.3 and up  "
      ]
     },
     "execution_count": 6281,
     "metadata": {},
     "output_type": "execute_result"
    }
   ],
   "source": [
    "df_temp.sample(5)\n"
   ]
  },
  {
   "cell_type": "code",
   "execution_count": 6282,
   "metadata": {},
   "outputs": [
    {
     "name": "stdout",
     "output_type": "stream",
     "text": [
      "<class 'pandas.core.frame.DataFrame'>\n",
      "RangeIndex: 10841 entries, 0 to 10840\n",
      "Data columns (total 13 columns):\n",
      " #   Column          Non-Null Count  Dtype  \n",
      "---  ------          --------------  -----  \n",
      " 0   App             10841 non-null  object \n",
      " 1   Category        10841 non-null  object \n",
      " 2   Rating          9367 non-null   float64\n",
      " 3   Reviews         10841 non-null  object \n",
      " 4   Size            10841 non-null  object \n",
      " 5   Installs        10841 non-null  object \n",
      " 6   Type            10840 non-null  object \n",
      " 7   Price           10841 non-null  object \n",
      " 8   Content Rating  10840 non-null  object \n",
      " 9   Genres          10841 non-null  object \n",
      " 10  Last Updated    10841 non-null  object \n",
      " 11  Current Ver     10833 non-null  object \n",
      " 12  Android Ver     10838 non-null  object \n",
      "dtypes: float64(1), object(12)\n",
      "memory usage: 1.1+ MB\n"
     ]
    }
   ],
   "source": [
    "# เข้าใจข้อมูล\n",
    "# check dataset info\n",
    "df_temp.info()\n"
   ]
  },
  {
   "cell_type": "code",
   "execution_count": 6283,
   "metadata": {},
   "outputs": [
    {
     "data": {
      "text/plain": [
       "App                  0\n",
       "Category             0\n",
       "Rating            1474\n",
       "Reviews              0\n",
       "Size                 0\n",
       "Installs             0\n",
       "Type                 1\n",
       "Price                0\n",
       "Content Rating       1\n",
       "Genres               0\n",
       "Last Updated         0\n",
       "Current Ver          8\n",
       "Android Ver          3\n",
       "dtype: int64"
      ]
     },
     "execution_count": 6283,
     "metadata": {},
     "output_type": "execute_result"
    }
   ],
   "source": [
    "# check null\n",
    "df_temp.isna().sum()\n",
    "# จะเห็นได้ว่า rating มีข้อมูลเสียเยอะ\n"
   ]
  },
  {
   "cell_type": "code",
   "execution_count": 6284,
   "metadata": {},
   "outputs": [],
   "source": [
    "# data prep & data cleaning\n",
    "# เราจะใช้ข้อมูลที่จำเป็นสำหรับการใช้ข้อมูลนี้เท่านั้น\n",
    "# ข้อมูลที่ไม่จำเป็นเราจะนำออกไป เช่น rating, reviews บลาๆ\n",
    "\n",
    "df = df_temp.copy()\n",
    "\n",
    "# remove unuse cols\n",
    "df = df.reindex(columns=['App', 'Category', 'Size',\n",
    "                'Type', 'Genres', 'Price', 'Installs', 'Content Rating'])\n"
   ]
  },
  {
   "cell_type": "code",
   "execution_count": 6285,
   "metadata": {},
   "outputs": [],
   "source": [
    "# rename col\n",
    "temp_keys = {}\n",
    "for i in df.columns:\n",
    "    temp_keys[i] = i.lower()\n",
    "df = df.rename(columns=temp_keys)\n"
   ]
  },
  {
   "cell_type": "code",
   "execution_count": 6286,
   "metadata": {},
   "outputs": [
    {
     "data": {
      "text/plain": [
       "app               0\n",
       "category          0\n",
       "size              0\n",
       "type              1\n",
       "genres            0\n",
       "price             0\n",
       "installs          0\n",
       "content rating    1\n",
       "dtype: int64"
      ]
     },
     "execution_count": 6286,
     "metadata": {},
     "output_type": "execute_result"
    }
   ],
   "source": [
    "df.isna().sum()\n",
    "# ข้อมูลที่เสียมีน้อยมาก\n"
   ]
  },
  {
   "cell_type": "code",
   "execution_count": 6287,
   "metadata": {},
   "outputs": [
    {
     "data": {
      "text/plain": [
       "app               0\n",
       "category          0\n",
       "size              0\n",
       "type              0\n",
       "genres            0\n",
       "price             0\n",
       "installs          0\n",
       "content rating    0\n",
       "dtype: int64"
      ]
     },
     "execution_count": 6287,
     "metadata": {},
     "output_type": "execute_result"
    }
   ],
   "source": [
    "# เราจะทำการลบข้อมูล ที่เสียหาย\n",
    "df.dropna(axis=0, inplace=True)\n",
    "df.isna().sum()\n"
   ]
  },
  {
   "cell_type": "code",
   "execution_count": 6288,
   "metadata": {},
   "outputs": [
    {
     "data": {
      "text/html": [
       "<div>\n",
       "<style scoped>\n",
       "    .dataframe tbody tr th:only-of-type {\n",
       "        vertical-align: middle;\n",
       "    }\n",
       "\n",
       "    .dataframe tbody tr th {\n",
       "        vertical-align: top;\n",
       "    }\n",
       "\n",
       "    .dataframe thead th {\n",
       "        text-align: right;\n",
       "    }\n",
       "</style>\n",
       "<table border=\"1\" class=\"dataframe\">\n",
       "  <thead>\n",
       "    <tr style=\"text-align: right;\">\n",
       "      <th></th>\n",
       "      <th>app</th>\n",
       "      <th>category</th>\n",
       "      <th>size</th>\n",
       "      <th>type</th>\n",
       "      <th>genres</th>\n",
       "      <th>price</th>\n",
       "      <th>installs</th>\n",
       "      <th>content rating</th>\n",
       "    </tr>\n",
       "  </thead>\n",
       "  <tbody>\n",
       "    <tr>\n",
       "      <th>5340</th>\n",
       "      <td>Al Quran MP3 - Quran Reading®</td>\n",
       "      <td>FAMILY</td>\n",
       "      <td>22M</td>\n",
       "      <td>Free</td>\n",
       "      <td>Education</td>\n",
       "      <td>0</td>\n",
       "      <td>1,000,000+</td>\n",
       "      <td>Everyone</td>\n",
       "    </tr>\n",
       "    <tr>\n",
       "      <th>10419</th>\n",
       "      <td>Fast Motorcycle Driver 2016</td>\n",
       "      <td>GAME</td>\n",
       "      <td>49M</td>\n",
       "      <td>Free</td>\n",
       "      <td>Racing</td>\n",
       "      <td>0</td>\n",
       "      <td>1,000,000+</td>\n",
       "      <td>Everyone 10+</td>\n",
       "    </tr>\n",
       "    <tr>\n",
       "      <th>4371</th>\n",
       "      <td>M Theme - Dark Green Icon Pack</td>\n",
       "      <td>PERSONALIZATION</td>\n",
       "      <td>4.9M</td>\n",
       "      <td>Free</td>\n",
       "      <td>Personalization</td>\n",
       "      <td>0</td>\n",
       "      <td>10,000+</td>\n",
       "      <td>Everyone</td>\n",
       "    </tr>\n",
       "    <tr>\n",
       "      <th>10307</th>\n",
       "      <td>FD VR - Virtual Photo Gallery</td>\n",
       "      <td>FAMILY</td>\n",
       "      <td>7.4M</td>\n",
       "      <td>Free</td>\n",
       "      <td>Entertainment</td>\n",
       "      <td>0</td>\n",
       "      <td>10,000+</td>\n",
       "      <td>Everyone</td>\n",
       "    </tr>\n",
       "    <tr>\n",
       "      <th>2446</th>\n",
       "      <td>Diabetes Testing</td>\n",
       "      <td>MEDICAL</td>\n",
       "      <td>3.6M</td>\n",
       "      <td>Free</td>\n",
       "      <td>Medical</td>\n",
       "      <td>0</td>\n",
       "      <td>500+</td>\n",
       "      <td>Mature 17+</td>\n",
       "    </tr>\n",
       "    <tr>\n",
       "      <th>5874</th>\n",
       "      <td>AZ Camera - Manual Pro Cam</td>\n",
       "      <td>PHOTOGRAPHY</td>\n",
       "      <td>1.6M</td>\n",
       "      <td>Free</td>\n",
       "      <td>Photography</td>\n",
       "      <td>0</td>\n",
       "      <td>100,000+</td>\n",
       "      <td>Everyone</td>\n",
       "    </tr>\n",
       "    <tr>\n",
       "      <th>5294</th>\n",
       "      <td>RULES OF SURVIVAL</td>\n",
       "      <td>GAME</td>\n",
       "      <td>56M</td>\n",
       "      <td>Free</td>\n",
       "      <td>Action</td>\n",
       "      <td>0</td>\n",
       "      <td>10,000,000+</td>\n",
       "      <td>Teen</td>\n",
       "    </tr>\n",
       "    <tr>\n",
       "      <th>2932</th>\n",
       "      <td>Pixlr – Free Photo Editor</td>\n",
       "      <td>PHOTOGRAPHY</td>\n",
       "      <td>31M</td>\n",
       "      <td>Free</td>\n",
       "      <td>Photography</td>\n",
       "      <td>0</td>\n",
       "      <td>50,000,000+</td>\n",
       "      <td>Everyone</td>\n",
       "    </tr>\n",
       "    <tr>\n",
       "      <th>6266</th>\n",
       "      <td>BI News</td>\n",
       "      <td>NEWS_AND_MAGAZINES</td>\n",
       "      <td>25M</td>\n",
       "      <td>Free</td>\n",
       "      <td>News &amp; Magazines</td>\n",
       "      <td>0</td>\n",
       "      <td>1,000+</td>\n",
       "      <td>Everyone</td>\n",
       "    </tr>\n",
       "    <tr>\n",
       "      <th>911</th>\n",
       "      <td>Investigation Discovery GO</td>\n",
       "      <td>ENTERTAINMENT</td>\n",
       "      <td>13M</td>\n",
       "      <td>Free</td>\n",
       "      <td>Entertainment</td>\n",
       "      <td>0</td>\n",
       "      <td>1,000,000+</td>\n",
       "      <td>Teen</td>\n",
       "    </tr>\n",
       "  </tbody>\n",
       "</table>\n",
       "</div>"
      ],
      "text/plain": [
       "                                  app            category  size  type  \\\n",
       "5340    Al Quran MP3 - Quran Reading®              FAMILY   22M  Free   \n",
       "10419     Fast Motorcycle Driver 2016                GAME   49M  Free   \n",
       "4371   M Theme - Dark Green Icon Pack     PERSONALIZATION  4.9M  Free   \n",
       "10307   FD VR - Virtual Photo Gallery              FAMILY  7.4M  Free   \n",
       "2446                 Diabetes Testing             MEDICAL  3.6M  Free   \n",
       "5874       AZ Camera - Manual Pro Cam         PHOTOGRAPHY  1.6M  Free   \n",
       "5294                RULES OF SURVIVAL                GAME   56M  Free   \n",
       "2932        Pixlr – Free Photo Editor         PHOTOGRAPHY   31M  Free   \n",
       "6266                          BI News  NEWS_AND_MAGAZINES   25M  Free   \n",
       "911        Investigation Discovery GO       ENTERTAINMENT   13M  Free   \n",
       "\n",
       "                 genres price     installs content rating  \n",
       "5340          Education     0   1,000,000+       Everyone  \n",
       "10419            Racing     0   1,000,000+   Everyone 10+  \n",
       "4371    Personalization     0      10,000+       Everyone  \n",
       "10307     Entertainment     0      10,000+       Everyone  \n",
       "2446            Medical     0         500+     Mature 17+  \n",
       "5874        Photography     0     100,000+       Everyone  \n",
       "5294             Action     0  10,000,000+           Teen  \n",
       "2932        Photography     0  50,000,000+       Everyone  \n",
       "6266   News & Magazines     0       1,000+       Everyone  \n",
       "911       Entertainment     0   1,000,000+           Teen  "
      ]
     },
     "execution_count": 6288,
     "metadata": {},
     "output_type": "execute_result"
    }
   ],
   "source": [
    "# แสดงข้อมูลเบื้องต้น\n",
    "df.sample(10)\n"
   ]
  },
  {
   "cell_type": "code",
   "execution_count": 6289,
   "metadata": {},
   "outputs": [
    {
     "data": {
      "text/plain": [
       "category\n",
       "ART_AND_DESIGN           65\n",
       "AUTO_AND_VEHICLES        85\n",
       "BEAUTY                   53\n",
       "BOOKS_AND_REFERENCE     231\n",
       "BUSINESS                460\n",
       "COMICS                   60\n",
       "COMMUNICATION           387\n",
       "DATING                  234\n",
       "EDUCATION               156\n",
       "ENTERTAINMENT           149\n",
       "EVENTS                   64\n",
       "FAMILY                 1971\n",
       "FINANCE                 366\n",
       "FOOD_AND_DRINK          127\n",
       "GAME                   1144\n",
       "HEALTH_AND_FITNESS      341\n",
       "HOUSE_AND_HOME           88\n",
       "LIBRARIES_AND_DEMO       85\n",
       "LIFESTYLE               382\n",
       "MAPS_AND_NAVIGATION     137\n",
       "MEDICAL                 463\n",
       "NEWS_AND_MAGAZINES      283\n",
       "PARENTING                60\n",
       "PERSONALIZATION         392\n",
       "PHOTOGRAPHY             335\n",
       "PRODUCTIVITY            424\n",
       "SHOPPING                260\n",
       "SOCIAL                  295\n",
       "SPORTS                  384\n",
       "TOOLS                   843\n",
       "TRAVEL_AND_LOCAL        258\n",
       "VIDEO_PLAYERS           175\n",
       "WEATHER                  82\n",
       "Name: category, dtype: int64"
      ]
     },
     "execution_count": 6289,
     "metadata": {},
     "output_type": "execute_result"
    }
   ],
   "source": [
    "# เช็คข้อมูล insight หลักๆ ที่อาจจะทำให้เรามีปัญหาในการใช้ข้อมูล\n",
    "df.groupby(['category'])['category'].count()\n"
   ]
  },
  {
   "cell_type": "code",
   "execution_count": 6290,
   "metadata": {},
   "outputs": [
    {
     "data": {
      "text/html": [
       "<div>\n",
       "<style scoped>\n",
       "    .dataframe tbody tr th:only-of-type {\n",
       "        vertical-align: middle;\n",
       "    }\n",
       "\n",
       "    .dataframe tbody tr th {\n",
       "        vertical-align: top;\n",
       "    }\n",
       "\n",
       "    .dataframe thead th {\n",
       "        text-align: right;\n",
       "    }\n",
       "</style>\n",
       "<table border=\"1\" class=\"dataframe\">\n",
       "  <thead>\n",
       "    <tr style=\"text-align: right;\">\n",
       "      <th></th>\n",
       "      <th>app</th>\n",
       "      <th>category</th>\n",
       "      <th>size</th>\n",
       "      <th>type</th>\n",
       "      <th>genres</th>\n",
       "      <th>price</th>\n",
       "      <th>installs</th>\n",
       "      <th>content rating</th>\n",
       "    </tr>\n",
       "  </thead>\n",
       "  <tbody>\n",
       "  </tbody>\n",
       "</table>\n",
       "</div>"
      ],
      "text/plain": [
       "Empty DataFrame\n",
       "Columns: [app, category, size, type, genres, price, installs, content rating]\n",
       "Index: []"
      ]
     },
     "execution_count": 6290,
     "metadata": {},
     "output_type": "execute_result"
    }
   ],
   "source": [
    "# จะเห็นได้ว่า 1.9 นั้นไม่รู้คือ type อะไร\n",
    "# และ genres, price,size installs นั้นสลับกันหมดเลย\n",
    "# เรามาลองแก้กันดีกว่า\n",
    "df.loc[df['category'] == '1.9']\n"
   ]
  },
  {
   "cell_type": "code",
   "execution_count": 6291,
   "metadata": {},
   "outputs": [
    {
     "data": {
      "text/html": [
       "<div>\n",
       "<style scoped>\n",
       "    .dataframe tbody tr th:only-of-type {\n",
       "        vertical-align: middle;\n",
       "    }\n",
       "\n",
       "    .dataframe tbody tr th {\n",
       "        vertical-align: top;\n",
       "    }\n",
       "\n",
       "    .dataframe thead th {\n",
       "        text-align: right;\n",
       "    }\n",
       "</style>\n",
       "<table border=\"1\" class=\"dataframe\">\n",
       "  <thead>\n",
       "    <tr style=\"text-align: right;\">\n",
       "      <th></th>\n",
       "      <th>App</th>\n",
       "      <th>Category</th>\n",
       "      <th>Rating</th>\n",
       "      <th>Reviews</th>\n",
       "      <th>Size</th>\n",
       "      <th>Installs</th>\n",
       "      <th>Type</th>\n",
       "      <th>Price</th>\n",
       "      <th>Content Rating</th>\n",
       "      <th>Genres</th>\n",
       "      <th>Last Updated</th>\n",
       "      <th>Current Ver</th>\n",
       "      <th>Android Ver</th>\n",
       "    </tr>\n",
       "  </thead>\n",
       "  <tbody>\n",
       "    <tr>\n",
       "      <th>10472</th>\n",
       "      <td>Life Made WI-Fi Touchscreen Photo Frame</td>\n",
       "      <td>1.9</td>\n",
       "      <td>19.0</td>\n",
       "      <td>3.0M</td>\n",
       "      <td>1,000+</td>\n",
       "      <td>Free</td>\n",
       "      <td>0</td>\n",
       "      <td>Everyone</td>\n",
       "      <td>NaN</td>\n",
       "      <td>February 11, 2018</td>\n",
       "      <td>1.0.19</td>\n",
       "      <td>4.0 and up</td>\n",
       "      <td>NaN</td>\n",
       "    </tr>\n",
       "  </tbody>\n",
       "</table>\n",
       "</div>"
      ],
      "text/plain": [
       "                                           App Category  Rating Reviews  \\\n",
       "10472  Life Made WI-Fi Touchscreen Photo Frame      1.9    19.0    3.0M   \n",
       "\n",
       "         Size Installs Type     Price Content Rating             Genres  \\\n",
       "10472  1,000+     Free    0  Everyone            NaN  February 11, 2018   \n",
       "\n",
       "      Last Updated Current Ver Android Ver  \n",
       "10472       1.0.19  4.0 and up         NaN  "
      ]
     },
     "execution_count": 6291,
     "metadata": {},
     "output_type": "execute_result"
    }
   ],
   "source": [
    "# ข้อมูลที่เราพบปัญหานั้น col ไม่ครบ เราเลยจะนำข้อมูลจากตารางหลักมา\n",
    "# ข้อมูลจากตารางหลักบางอย่างนั้นไม่มี เช่น Category, Gengre\n",
    "# ซึ่งจากที่ดูๆ ข้อมูลเหมาะกับ HOUSE_AND_HOME, House & Home\n",
    "# เราเลยจะเปลี่ยนข้อมูลให้กับข้อมูลนี้\n",
    "temp_data = df_temp.loc[df_temp['App'] ==\n",
    "                        'Life Made WI-Fi Touchscreen Photo Frame']\n",
    "temp_data\n"
   ]
  },
  {
   "cell_type": "code",
   "execution_count": 6292,
   "metadata": {},
   "outputs": [
    {
     "data": {
      "text/html": [
       "<div>\n",
       "<style scoped>\n",
       "    .dataframe tbody tr th:only-of-type {\n",
       "        vertical-align: middle;\n",
       "    }\n",
       "\n",
       "    .dataframe tbody tr th {\n",
       "        vertical-align: top;\n",
       "    }\n",
       "\n",
       "    .dataframe thead th {\n",
       "        text-align: right;\n",
       "    }\n",
       "</style>\n",
       "<table border=\"1\" class=\"dataframe\">\n",
       "  <thead>\n",
       "    <tr style=\"text-align: right;\">\n",
       "      <th></th>\n",
       "      <th>app</th>\n",
       "      <th>category</th>\n",
       "      <th>size</th>\n",
       "      <th>type</th>\n",
       "      <th>genres</th>\n",
       "      <th>price</th>\n",
       "      <th>installs</th>\n",
       "      <th>content rating</th>\n",
       "    </tr>\n",
       "  </thead>\n",
       "  <tbody>\n",
       "  </tbody>\n",
       "</table>\n",
       "</div>"
      ],
      "text/plain": [
       "Empty DataFrame\n",
       "Columns: [app, category, size, type, genres, price, installs, content rating]\n",
       "Index: []"
      ]
     },
     "execution_count": 6292,
     "metadata": {},
     "output_type": "execute_result"
    }
   ],
   "source": [
    "df.loc[df['app'] == 'Life Made WI-Fi Touchscreen Photo Frame',\n",
    "       'type'] = temp_data['Price']\n",
    "df.loc[df['app'] == 'Life Made WI-Fi Touchscreen Photo Frame',\n",
    "       'size'] = temp_data['Category']\n",
    "df.loc[df['app'] == 'Life Made WI-Fi Touchscreen Photo Frame',\n",
    "       'price'] = temp_data['Installs']\n",
    "df.loc[df['app'] == 'Life Made WI-Fi Touchscreen Photo Frame',\n",
    "       'installs'] = temp_data['Size']\n",
    "df.loc[df['app'] == 'Life Made WI-Fi Touchscreen Photo Frame',\n",
    "       'category'] = 'HOUSE_AND_HOME'\n",
    "df.loc[df['app'] == 'Life Made WI-Fi Touchscreen Photo Frame',\n",
    "       'genres'] = 'House & Home'\n",
    "\n",
    "# เพื่อความแน่ใจ ลองเช็คข้อมูลอีกรอบ\n",
    "df.loc[df['app'] == 'Life Made WI-Fi Touchscreen Photo Frame']\n",
    "\n",
    "# ข้อมูลได้ถูกเปลี่ยนแล้วเย้\n"
   ]
  },
  {
   "cell_type": "code",
   "execution_count": 6293,
   "metadata": {},
   "outputs": [
    {
     "data": {
      "text/plain": [
       "0                 Art & Design\n",
       "1    Art & Design;Pretend Play\n",
       "2                 Art & Design\n",
       "3                 Art & Design\n",
       "4      Art & Design;Creativity\n",
       "Name: genres, dtype: object"
      ]
     },
     "execution_count": 6293,
     "metadata": {},
     "output_type": "execute_result"
    }
   ],
   "source": [
    "# มาดูส่วนของ genres\n",
    "df['genres'].head(5)\n",
    "\n",
    "# จะเป็นได้ว่าบาง genres มีมา่กกว่า 1 รูปแบบ ซึ่งแบ่งด้วย ตัว semi colon\n"
   ]
  },
  {
   "cell_type": "code",
   "execution_count": 6294,
   "metadata": {},
   "outputs": [
    {
     "data": {
      "text/plain": [
       "{'Art & Design': 69,\n",
       " 'Pretend Play': 90,\n",
       " 'Creativity': 37,\n",
       " 'Action & Adventure': 138,\n",
       " 'Auto & Vehicles': 85,\n",
       " 'Beauty': 53,\n",
       " 'Books & Reference': 234,\n",
       " 'Business': 460,\n",
       " 'Comics': 60,\n",
       " 'Communication': 388,\n",
       " 'Dating': 234,\n",
       " 'Education': 761,\n",
       " 'Music & Video': 47,\n",
       " 'Brain Games': 70,\n",
       " 'Entertainment': 667,\n",
       " 'Events': 64,\n",
       " 'Finance': 366,\n",
       " 'Food & Drink': 127,\n",
       " 'Health & Fitness': 343,\n",
       " 'House & Home': 88,\n",
       " 'Libraries & Demo': 85,\n",
       " 'Lifestyle': 383,\n",
       " 'Adventure': 91,\n",
       " 'Arcade': 237,\n",
       " 'Casual': 270,\n",
       " 'Card': 51,\n",
       " 'Action': 382,\n",
       " 'Strategy': 110,\n",
       " 'Puzzle': 167,\n",
       " 'Sports': 402,\n",
       " 'Music': 25,\n",
       " 'Word': 29,\n",
       " 'Racing': 119,\n",
       " 'Simulation': 218,\n",
       " 'Board': 63,\n",
       " 'Trivia': 39,\n",
       " 'Role Playing': 123,\n",
       " 'Educational': 112,\n",
       " 'Music & Audio': 1,\n",
       " 'Video Players & Editors': 178,\n",
       " 'Medical': 463,\n",
       " 'Social': 295,\n",
       " 'Shopping': 260,\n",
       " 'Photography': 335,\n",
       " 'Travel & Local': 258,\n",
       " 'Tools': 843,\n",
       " 'Personalization': 392,\n",
       " 'Productivity': 424,\n",
       " 'Parenting': 60,\n",
       " 'Weather': 82,\n",
       " 'News & Magazines': 283,\n",
       " 'Maps & Navigation': 137,\n",
       " 'Casino': 39}"
      ]
     },
     "execution_count": 6294,
     "metadata": {},
     "output_type": "execute_result"
    }
   ],
   "source": [
    "# เราจะแบ่งตัว genres ให้เป็นรูปแบบ ว่าตัว genres มันมีเท่าไหร่\n",
    "genres = df['genres']\n",
    "results = {}\n",
    "for gen in genres:\n",
    "    for g in gen.split(';'):\n",
    "        if g not in results:\n",
    "            results[g] = 1\n",
    "            continue\n",
    "        results[g] += 1\n",
    "results\n"
   ]
  },
  {
   "cell_type": "code",
   "execution_count": 6295,
   "metadata": {},
   "outputs": [],
   "source": [
    "def convert_size(s):\n",
    "    if s.replace('M', '').replace('.', '', 1).isdigit():\n",
    "        size = float(s.replace('M', ''))\n",
    "        return 1024 * size\n",
    "    if s.replace('k', '').replace('.', '', 1).isdigit():\n",
    "        return float(s.replace('k', ''))\n",
    "    return 0\n"
   ]
  },
  {
   "cell_type": "code",
   "execution_count": 6296,
   "metadata": {},
   "outputs": [
    {
     "data": {
      "text/plain": [
       "4929     2355.2\n",
       "8858    22528.0\n",
       "7526     6963.2\n",
       "3543     4300.8\n",
       "591     21504.0\n",
       "Name: size, dtype: float64"
      ]
     },
     "execution_count": 6296,
     "metadata": {},
     "output_type": "execute_result"
    }
   ],
   "source": [
    "# จะเห็นได้ว่า size เป็น type object ต้องเปลี่ยนเป็น int\n",
    "# ซึ่งเราจะแปลกตัวเลขนี้ ให้เป็นค่า kb ทั้งหมด จะได้ใช้ได้ง่าย เมื่อมีค่าอิน นอกจากตัวค่า mb\n",
    "# df['size'] = df['size'].str.replace('+', '', regex=True).replace(',', '', regex=True).astype(int)\n",
    "df['size'] = df['size'].apply(convert_size)\n",
    "df['size'].sample(5)\n"
   ]
  },
  {
   "cell_type": "code",
   "execution_count": 6297,
   "metadata": {},
   "outputs": [
    {
     "data": {
      "text/plain": [
       "6321       10,000+\n",
       "6666    5,000,000+\n",
       "Name: installs, dtype: object"
      ]
     },
     "execution_count": 6297,
     "metadata": {},
     "output_type": "execute_result"
    }
   ],
   "source": [
    "# จะเห็นได้ว่า installs เป็น type object ต้องเปลี่ยนเป็น int\n",
    "\n",
    "df['installs'].sample(2)\n"
   ]
  },
  {
   "cell_type": "code",
   "execution_count": 6298,
   "metadata": {},
   "outputs": [
    {
     "data": {
      "text/plain": [
       "0           10000\n",
       "1          500000\n",
       "2         5000000\n",
       "3        50000000\n",
       "4          100000\n",
       "           ...   \n",
       "10836        5000\n",
       "10837         100\n",
       "10838        1000\n",
       "10839        1000\n",
       "10840    10000000\n",
       "Name: installs, Length: 10839, dtype: int32"
      ]
     },
     "execution_count": 6298,
     "metadata": {},
     "output_type": "execute_result"
    }
   ],
   "source": [
    "# ข้อมูลจะมี + ตามหลัง และ comma เราจะนำออก; และเปลี่ยนค่าเป็น int32\n",
    "df['installs'] = df['installs'].str.replace(\n",
    "    '+', '', regex=True).replace(',', '', regex=True).astype(int)\n",
    "df['installs']\n"
   ]
  },
  {
   "cell_type": "code",
   "execution_count": 6299,
   "metadata": {},
   "outputs": [
    {
     "data": {
      "text/plain": [
       "1162    0\n",
       "4843    0\n",
       "5253    0\n",
       "7742    0\n",
       "4746    0\n",
       "Name: price, dtype: object"
      ]
     },
     "execution_count": 6299,
     "metadata": {},
     "output_type": "execute_result"
    }
   ],
   "source": [
    "# price จะมีสองรูปแบบคือ free กับ paid ต้องเปลี่ยนเป็น bin ถึงจะได้ง่ายต่อการทำงาน\n",
    "\n",
    "df.loc[df['price'] != \"Free\", 'price'] = df.loc[df['price']\n",
    "                                                != \"Free\", 'price'].apply(lambda x: x.replace('$', ''))\n",
    "\n",
    "df.loc[df['price'] == 'Free', 'price'] = 0\n",
    "\n",
    "df['price'].sample(5)\n"
   ]
  },
  {
   "cell_type": "code",
   "execution_count": 6300,
   "metadata": {},
   "outputs": [
    {
     "data": {
      "image/png": "[encoded data removed]",
      "text/plain": [
       "<Figure size 576x396 with 1 Axes>"
      ]
     },
     "metadata": {},
     "output_type": "display_data"
    }
   ],
   "source": [
    "# EDA\n",
    "df['content rating'].value_counts().plot(kind='pie', autopct=\"%.2f\")\n",
    "plt.show()\n"
   ]
  },
  {
   "cell_type": "code",
   "execution_count": 6301,
   "metadata": {},
   "outputs": [
    {
     "data": {
      "image/png": "[encoded data removed]",
      "text/plain": [
       "<Figure size 720x720 with 1 Axes>"
      ]
     },
     "metadata": {},
     "output_type": "display_data"
    }
   ],
   "source": [
    "plt.figure(figsize=(10, 10))\n",
    "sns.countplot(y=df['category'])\n",
    "plt.show()\n"
   ]
  },
  {
   "cell_type": "code",
   "execution_count": 6302,
   "metadata": {},
   "outputs": [
    {
     "data": {
      "image/png": "[encoded data removed]",
      "text/plain": [
       "<Figure size 576x396 with 1 Axes>"
      ]
     },
     "metadata": {},
     "output_type": "display_data"
    }
   ],
   "source": [
    "df['genres'].value_counts().plot(kind='hist')\n",
    "plt.title(\"Genres Histogram\")\n",
    "plt.show()\n"
   ]
  },
  {
   "cell_type": "code",
   "execution_count": 6303,
   "metadata": {},
   "outputs": [],
   "source": [
    "# Feature Engineer\n",
    "\n",
    "df.drop_duplicates(subset=['app'], inplace=True)\n"
   ]
  },
  {
   "cell_type": "code",
   "execution_count": 6304,
   "metadata": {},
   "outputs": [
    {
     "data": {
      "text/html": [
       "<div>\n",
       "<style scoped>\n",
       "    .dataframe tbody tr th:only-of-type {\n",
       "        vertical-align: middle;\n",
       "    }\n",
       "\n",
       "    .dataframe tbody tr th {\n",
       "        vertical-align: top;\n",
       "    }\n",
       "\n",
       "    .dataframe thead th {\n",
       "        text-align: right;\n",
       "    }\n",
       "</style>\n",
       "<table border=\"1\" class=\"dataframe\">\n",
       "  <thead>\n",
       "    <tr style=\"text-align: right;\">\n",
       "      <th></th>\n",
       "      <th>app</th>\n",
       "      <th>category</th>\n",
       "      <th>size</th>\n",
       "      <th>type</th>\n",
       "      <th>genres</th>\n",
       "      <th>price</th>\n",
       "      <th>installs</th>\n",
       "      <th>content rating</th>\n",
       "      <th>describe</th>\n",
       "    </tr>\n",
       "  </thead>\n",
       "  <tbody>\n",
       "    <tr>\n",
       "      <th>0</th>\n",
       "      <td>Photo Editor &amp; Candy Camera &amp; Grid &amp; ScrapBook</td>\n",
       "      <td>ART_AND_DESIGN</td>\n",
       "      <td>19456.0</td>\n",
       "      <td>Free</td>\n",
       "      <td>Art &amp; Design</td>\n",
       "      <td>0</td>\n",
       "      <td>10000</td>\n",
       "      <td>Everyone</td>\n",
       "      <td>Art   Design ART_AND_DESIGN Free</td>\n",
       "    </tr>\n",
       "    <tr>\n",
       "      <th>1</th>\n",
       "      <td>Coloring book moana</td>\n",
       "      <td>ART_AND_DESIGN</td>\n",
       "      <td>14336.0</td>\n",
       "      <td>Free</td>\n",
       "      <td>Art &amp; Design;Pretend Play</td>\n",
       "      <td>0</td>\n",
       "      <td>500000</td>\n",
       "      <td>Everyone</td>\n",
       "      <td>Art   Design Pretend Play ART_AND_DESIGN Free</td>\n",
       "    </tr>\n",
       "    <tr>\n",
       "      <th>2</th>\n",
       "      <td>U Launcher Lite – FREE Live Cool Themes, Hide ...</td>\n",
       "      <td>ART_AND_DESIGN</td>\n",
       "      <td>8908.8</td>\n",
       "      <td>Free</td>\n",
       "      <td>Art &amp; Design</td>\n",
       "      <td>0</td>\n",
       "      <td>5000000</td>\n",
       "      <td>Everyone</td>\n",
       "      <td>Art   Design ART_AND_DESIGN Free</td>\n",
       "    </tr>\n",
       "    <tr>\n",
       "      <th>3</th>\n",
       "      <td>Sketch - Draw &amp; Paint</td>\n",
       "      <td>ART_AND_DESIGN</td>\n",
       "      <td>25600.0</td>\n",
       "      <td>Free</td>\n",
       "      <td>Art &amp; Design</td>\n",
       "      <td>0</td>\n",
       "      <td>50000000</td>\n",
       "      <td>Teen</td>\n",
       "      <td>Art   Design ART_AND_DESIGN Free</td>\n",
       "    </tr>\n",
       "    <tr>\n",
       "      <th>4</th>\n",
       "      <td>Pixel Draw - Number Art Coloring Book</td>\n",
       "      <td>ART_AND_DESIGN</td>\n",
       "      <td>2867.2</td>\n",
       "      <td>Free</td>\n",
       "      <td>Art &amp; Design;Creativity</td>\n",
       "      <td>0</td>\n",
       "      <td>100000</td>\n",
       "      <td>Everyone</td>\n",
       "      <td>Art   Design Creativity ART_AND_DESIGN Free</td>\n",
       "    </tr>\n",
       "  </tbody>\n",
       "</table>\n",
       "</div>"
      ],
      "text/plain": [
       "                                                 app        category     size  \\\n",
       "0     Photo Editor & Candy Camera & Grid & ScrapBook  ART_AND_DESIGN  19456.0   \n",
       "1                                Coloring book moana  ART_AND_DESIGN  14336.0   \n",
       "2  U Launcher Lite – FREE Live Cool Themes, Hide ...  ART_AND_DESIGN   8908.8   \n",
       "3                              Sketch - Draw & Paint  ART_AND_DESIGN  25600.0   \n",
       "4              Pixel Draw - Number Art Coloring Book  ART_AND_DESIGN   2867.2   \n",
       "\n",
       "   type                     genres price  installs content rating  \\\n",
       "0  Free               Art & Design     0     10000       Everyone   \n",
       "1  Free  Art & Design;Pretend Play     0    500000       Everyone   \n",
       "2  Free               Art & Design     0   5000000       Everyone   \n",
       "3  Free               Art & Design     0  50000000           Teen   \n",
       "4  Free    Art & Design;Creativity     0    100000       Everyone   \n",
       "\n",
       "                                        describe  \n",
       "0               Art   Design ART_AND_DESIGN Free  \n",
       "1  Art   Design Pretend Play ART_AND_DESIGN Free  \n",
       "2               Art   Design ART_AND_DESIGN Free  \n",
       "3               Art   Design ART_AND_DESIGN Free  \n",
       "4    Art   Design Creativity ART_AND_DESIGN Free  "
      ]
     },
     "execution_count": 6304,
     "metadata": {},
     "output_type": "execute_result"
    }
   ],
   "source": [
    "data = df.copy()\n",
    "\n",
    "describe = (data['genres'].replace(to_replace='(;|&| +)',\n",
    "            value=' ', regex=True) + \" \" + data['category'] + \" \" + data['type'])\n",
    "data['describe'] = describe\n",
    "\n",
    "data.head()\n"
   ]
  },
  {
   "cell_type": "code",
   "execution_count": 6305,
   "metadata": {},
   "outputs": [],
   "source": [
    "data.reset_index(drop=True, inplace=True)\n"
   ]
  },
  {
   "cell_type": "code",
   "execution_count": 6306,
   "metadata": {},
   "outputs": [
    {
     "data": {
      "text/plain": [
       "(9658, 81)"
      ]
     },
     "execution_count": 6306,
     "metadata": {},
     "output_type": "execute_result"
    }
   ],
   "source": [
    "count = CountVectorizer(stop_words='english')\n",
    "count_matrix = count.fit_transform(data['describe'])\n",
    "count_matrix.shape"
   ]
  },
  {
   "cell_type": "code",
   "execution_count": 6307,
   "metadata": {},
   "outputs": [],
   "source": [
    "cosine_sim = cosine_similarity(count_matrix, count_matrix)\n"
   ]
  },
  {
   "cell_type": "code",
   "execution_count": 6308,
   "metadata": {},
   "outputs": [],
   "source": [
    "def get_recommendations(app, cosine_sim=cosine_sim):\n",
    "    # Get the index of the movie that matches the app\n",
    "    metadata = df.reset_index()\n",
    "    indices = pd.Series(metadata.index, index=metadata['app'])\n",
    "    idx = indices[app]\n",
    "\n",
    "    # Get the pairwsie similarity scores of all movies with that movie\n",
    "    sim_scores = list(enumerate(cosine_sim[idx]))\n",
    "\n",
    "    # Sort the movies based on the similarity scores\n",
    "    sim_scores = sorted(sim_scores, key=lambda x: x[1], reverse=True)\n",
    "\n",
    "    # Get the scores of the 10 most similar movies\n",
    "    sim_scores = sim_scores[1:11]\n",
    "\n",
    "    _indices = [i[0] for i in sim_scores]\n",
    "    recs = df[['app', 'genres', 'category', 'type']].iloc[_indices]\n",
    "    recs['match_score'] = [i[1] for i in sim_scores]  # column match score\n",
    "    recs['match_score'] = recs['match_score'].apply(lambda x: round(x, 4))\n",
    "    return recs\n",
    "\n",
    "\n",
    "def get_app_detail(app):\n",
    "    return df.loc[df.app == app, ['app', 'genres', 'category', 'type']]\n"
   ]
  },
  {
   "cell_type": "code",
   "execution_count": 6309,
   "metadata": {},
   "outputs": [
    {
     "data": {
      "text/html": [
       "<div>\n",
       "<style scoped>\n",
       "    .dataframe tbody tr th:only-of-type {\n",
       "        vertical-align: middle;\n",
       "    }\n",
       "\n",
       "    .dataframe tbody tr th {\n",
       "        vertical-align: top;\n",
       "    }\n",
       "\n",
       "    .dataframe thead th {\n",
       "        text-align: right;\n",
       "    }\n",
       "</style>\n",
       "<table border=\"1\" class=\"dataframe\">\n",
       "  <thead>\n",
       "    <tr style=\"text-align: right;\">\n",
       "      <th></th>\n",
       "      <th>app</th>\n",
       "      <th>genres</th>\n",
       "      <th>category</th>\n",
       "      <th>type</th>\n",
       "    </tr>\n",
       "  </thead>\n",
       "  <tbody>\n",
       "    <tr>\n",
       "      <th>5227</th>\n",
       "      <td>Jamaa Amino for Animal Jam</td>\n",
       "      <td>Social</td>\n",
       "      <td>SOCIAL</td>\n",
       "      <td>Free</td>\n",
       "    </tr>\n",
       "  </tbody>\n",
       "</table>\n",
       "</div>"
      ],
      "text/plain": [
       "                             app  genres category  type\n",
       "5227  Jamaa Amino for Animal Jam  Social   SOCIAL  Free"
      ]
     },
     "execution_count": 6309,
     "metadata": {},
     "output_type": "execute_result"
    }
   ],
   "source": [
    "get_app_detail('Dr. Rocket')"
   ]
  },
  {
   "cell_type": "code",
   "execution_count": 6310,
   "metadata": {},
   "outputs": [
    {
     "data": {
      "text/html": [
       "<div>\n",
       "<style scoped>\n",
       "    .dataframe tbody tr th:only-of-type {\n",
       "        vertical-align: middle;\n",
       "    }\n",
       "\n",
       "    .dataframe tbody tr th {\n",
       "        vertical-align: top;\n",
       "    }\n",
       "\n",
       "    .dataframe thead th {\n",
       "        text-align: right;\n",
       "    }\n",
       "</style>\n",
       "<table border=\"1\" class=\"dataframe\">\n",
       "  <thead>\n",
       "    <tr style=\"text-align: right;\">\n",
       "      <th></th>\n",
       "      <th>app</th>\n",
       "      <th>genres</th>\n",
       "      <th>category</th>\n",
       "      <th>type</th>\n",
       "      <th>match_score</th>\n",
       "    </tr>\n",
       "  </thead>\n",
       "  <tbody>\n",
       "    <tr>\n",
       "      <th>2545</th>\n",
       "      <td>Instagram</td>\n",
       "      <td>Social</td>\n",
       "      <td>SOCIAL</td>\n",
       "      <td>Free</td>\n",
       "      <td>1.0</td>\n",
       "    </tr>\n",
       "    <tr>\n",
       "      <th>2546</th>\n",
       "      <td>Facebook Lite</td>\n",
       "      <td>Social</td>\n",
       "      <td>SOCIAL</td>\n",
       "      <td>Free</td>\n",
       "      <td>1.0</td>\n",
       "    </tr>\n",
       "    <tr>\n",
       "      <th>2547</th>\n",
       "      <td>Messages, Text and Video Chat for Messenger</td>\n",
       "      <td>Social</td>\n",
       "      <td>SOCIAL</td>\n",
       "      <td>Free</td>\n",
       "      <td>1.0</td>\n",
       "    </tr>\n",
       "    <tr>\n",
       "      <th>2548</th>\n",
       "      <td>Tumblr</td>\n",
       "      <td>Social</td>\n",
       "      <td>SOCIAL</td>\n",
       "      <td>Free</td>\n",
       "      <td>1.0</td>\n",
       "    </tr>\n",
       "    <tr>\n",
       "      <th>2549</th>\n",
       "      <td>All Social Networks</td>\n",
       "      <td>Social</td>\n",
       "      <td>SOCIAL</td>\n",
       "      <td>Free</td>\n",
       "      <td>1.0</td>\n",
       "    </tr>\n",
       "    <tr>\n",
       "      <th>2550</th>\n",
       "      <td>Snapchat</td>\n",
       "      <td>Social</td>\n",
       "      <td>SOCIAL</td>\n",
       "      <td>Free</td>\n",
       "      <td>1.0</td>\n",
       "    </tr>\n",
       "    <tr>\n",
       "      <th>2551</th>\n",
       "      <td>Social network all in one 2018</td>\n",
       "      <td>Social</td>\n",
       "      <td>SOCIAL</td>\n",
       "      <td>Free</td>\n",
       "      <td>1.0</td>\n",
       "    </tr>\n",
       "    <tr>\n",
       "      <th>2552</th>\n",
       "      <td>Pinterest</td>\n",
       "      <td>Social</td>\n",
       "      <td>SOCIAL</td>\n",
       "      <td>Free</td>\n",
       "      <td>1.0</td>\n",
       "    </tr>\n",
       "    <tr>\n",
       "      <th>2553</th>\n",
       "      <td>TextNow - free text + calls</td>\n",
       "      <td>Social</td>\n",
       "      <td>SOCIAL</td>\n",
       "      <td>Free</td>\n",
       "      <td>1.0</td>\n",
       "    </tr>\n",
       "    <tr>\n",
       "      <th>2554</th>\n",
       "      <td>Google+</td>\n",
       "      <td>Social</td>\n",
       "      <td>SOCIAL</td>\n",
       "      <td>Free</td>\n",
       "      <td>1.0</td>\n",
       "    </tr>\n",
       "  </tbody>\n",
       "</table>\n",
       "</div>"
      ],
      "text/plain": [
       "                                              app  genres category  type  \\\n",
       "2545                                    Instagram  Social   SOCIAL  Free   \n",
       "2546                                Facebook Lite  Social   SOCIAL  Free   \n",
       "2547  Messages, Text and Video Chat for Messenger  Social   SOCIAL  Free   \n",
       "2548                                       Tumblr  Social   SOCIAL  Free   \n",
       "2549                          All Social Networks  Social   SOCIAL  Free   \n",
       "2550                                     Snapchat  Social   SOCIAL  Free   \n",
       "2551               Social network all in one 2018  Social   SOCIAL  Free   \n",
       "2552                                    Pinterest  Social   SOCIAL  Free   \n",
       "2553                  TextNow - free text + calls  Social   SOCIAL  Free   \n",
       "2554                                      Google+  Social   SOCIAL  Free   \n",
       "\n",
       "      match_score  \n",
       "2545          1.0  \n",
       "2546          1.0  \n",
       "2547          1.0  \n",
       "2548          1.0  \n",
       "2549          1.0  \n",
       "2550          1.0  \n",
       "2551          1.0  \n",
       "2552          1.0  \n",
       "2553          1.0  \n",
       "2554          1.0  "
      ]
     },
     "execution_count": 6310,
     "metadata": {},
     "output_type": "execute_result"
    }
   ],
   "source": [
    "\n",
    "get_recommendations('Dr. Rocket', cosine_sim).head(10)\n"
   ]
  },
  {
   "cell_type": "code",
   "execution_count": 6311,
   "metadata": {},
   "outputs": [],
   "source": [
    "\n",
    "# iface = gr.Interface(get_recommendations, inputs=[gr.inputs.Textbox(label='App Name', default=\"Santa Fe App\")], outputs=[\n",
    "#                      gr.outputs.Dataframe(label='Your App'), gr.outputs.Dataframe(label='Similar App')])\n",
    "# iface.launch(debug=True)\n"
   ]
  }
 ],
 "metadata": {
  "interpreter": {
   "hash": "6ca079cfc3dba9581ca024f10f4a466f79644bace2317455bc30872f8fc7da6d"
  },
  "kernelspec": {
   "display_name": "Python 3.9.9 64-bit (windows store)",
   "language": "python",
   "name": "python3"
  },
  "language_info": {
   "codemirror_mode": {
    "name": "ipython",
    "version": 3
   },
   "file_extension": ".py",
   "mimetype": "text/x-python",
   "name": "python",
   "nbconvert_exporter": "python",
   "pygments_lexer": "ipython3",
   "version": "3.9.9"
  },
  "orig_nbformat": 4
 },
 "nbformat": 4,
 "nbformat_minor": 2
}
