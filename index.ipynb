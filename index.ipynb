{
 "cells": [
  {
   "cell_type": "code",
   "execution_count": 5405,
   "metadata": {},
   "outputs": [],
   "source": [
    "# imports\n",
    "# ref: https://www.kaggle.com/nandalald/android-app-recommendation\n",
    "from sklearn.feature_extraction.text import CountVectorizer\n",
    "from sklearn.feature_extraction.text import TfidfVectorizer\n",
    "from sklearn.metrics.pairwise import cosine_similarity, linear_kernel\n",
    "import pandas as pd\n",
    "import numpy as np\n",
    "import gradio as gr\n",
    "from matplotlib import pyplot as plt\n",
    "import seaborn as sns\n",
    "plt.style.use('seaborn')\n"
   ]
  },
  {
   "cell_type": "code",
   "execution_count": 5406,
   "metadata": {},
   "outputs": [],
   "source": [
    "\n",
    "file_name = \"data/googleplaystore.csv\"\n",
    "df_temp = pd.read_csv(file_name, encoding=\"utf-8\")\n"
   ]
  },
  {
   "cell_type": "code",
   "execution_count": 5407,
   "metadata": {},
   "outputs": [
    {
     "data": {
      "text/html": [
       "<div>\n",
       "<style scoped>\n",
       "    .dataframe tbody tr th:only-of-type {\n",
       "        vertical-align: middle;\n",
       "    }\n",
       "\n",
       "    .dataframe tbody tr th {\n",
       "        vertical-align: top;\n",
       "    }\n",
       "\n",
       "    .dataframe thead th {\n",
       "        text-align: right;\n",
       "    }\n",
       "</style>\n",
       "<table border=\"1\" class=\"dataframe\">\n",
       "  <thead>\n",
       "    <tr style=\"text-align: right;\">\n",
       "      <th></th>\n",
       "      <th>App</th>\n",
       "      <th>Category</th>\n",
       "      <th>Rating</th>\n",
       "      <th>Reviews</th>\n",
       "      <th>Size</th>\n",
       "      <th>Installs</th>\n",
       "      <th>Type</th>\n",
       "      <th>Price</th>\n",
       "      <th>Content Rating</th>\n",
       "      <th>Genres</th>\n",
       "      <th>Last Updated</th>\n",
       "      <th>Current Ver</th>\n",
       "      <th>Android Ver</th>\n",
       "    </tr>\n",
       "  </thead>\n",
       "  <tbody>\n",
       "    <tr>\n",
       "      <th>540</th>\n",
       "      <td>USA Singles Meet, Match and Date Free - Date</td>\n",
       "      <td>DATING</td>\n",
       "      <td>4.2</td>\n",
       "      <td>5084</td>\n",
       "      <td>9.6M</td>\n",
       "      <td>100,000+</td>\n",
       "      <td>Free</td>\n",
       "      <td>0</td>\n",
       "      <td>Mature 17+</td>\n",
       "      <td>Dating</td>\n",
       "      <td>August 3, 2018</td>\n",
       "      <td>1.55</td>\n",
       "      <td>4.1 and up</td>\n",
       "    </tr>\n",
       "    <tr>\n",
       "      <th>2634</th>\n",
       "      <td>Meetup</td>\n",
       "      <td>SOCIAL</td>\n",
       "      <td>4.2</td>\n",
       "      <td>79129</td>\n",
       "      <td>23M</td>\n",
       "      <td>5,000,000+</td>\n",
       "      <td>Free</td>\n",
       "      <td>0</td>\n",
       "      <td>Teen</td>\n",
       "      <td>Social</td>\n",
       "      <td>August 2, 2018</td>\n",
       "      <td>3.10.26</td>\n",
       "      <td>4.4 and up</td>\n",
       "    </tr>\n",
       "    <tr>\n",
       "      <th>835</th>\n",
       "      <td>busuu: Learn Languages - Spanish, English &amp; More</td>\n",
       "      <td>EDUCATION</td>\n",
       "      <td>4.3</td>\n",
       "      <td>206532</td>\n",
       "      <td>21M</td>\n",
       "      <td>10,000,000+</td>\n",
       "      <td>Free</td>\n",
       "      <td>0</td>\n",
       "      <td>Everyone 10+</td>\n",
       "      <td>Education</td>\n",
       "      <td>August 1, 2018</td>\n",
       "      <td>13.9.0.161</td>\n",
       "      <td>5.0 and up</td>\n",
       "    </tr>\n",
       "    <tr>\n",
       "      <th>10080</th>\n",
       "      <td>EY Conferences</td>\n",
       "      <td>BUSINESS</td>\n",
       "      <td>NaN</td>\n",
       "      <td>1</td>\n",
       "      <td>30M</td>\n",
       "      <td>1,000+</td>\n",
       "      <td>Free</td>\n",
       "      <td>0</td>\n",
       "      <td>Everyone</td>\n",
       "      <td>Business</td>\n",
       "      <td>May 16, 2018</td>\n",
       "      <td>5.28</td>\n",
       "      <td>5.0 and up</td>\n",
       "    </tr>\n",
       "    <tr>\n",
       "      <th>7097</th>\n",
       "      <td>California Cop Assist CA Cop</td>\n",
       "      <td>PRODUCTIVITY</td>\n",
       "      <td>3.0</td>\n",
       "      <td>5</td>\n",
       "      <td>7.0M</td>\n",
       "      <td>100+</td>\n",
       "      <td>Paid</td>\n",
       "      <td>$4.99</td>\n",
       "      <td>Everyone</td>\n",
       "      <td>Productivity</td>\n",
       "      <td>February 11, 2014</td>\n",
       "      <td>1.3</td>\n",
       "      <td>2.2 and up</td>\n",
       "    </tr>\n",
       "  </tbody>\n",
       "</table>\n",
       "</div>"
      ],
      "text/plain": [
       "                                                    App      Category  Rating  \\\n",
       "540        USA Singles Meet, Match and Date Free - Date        DATING     4.2   \n",
       "2634                                             Meetup        SOCIAL     4.2   \n",
       "835    busuu: Learn Languages - Spanish, English & More     EDUCATION     4.3   \n",
       "10080                                    EY Conferences      BUSINESS     NaN   \n",
       "7097                       California Cop Assist CA Cop  PRODUCTIVITY     3.0   \n",
       "\n",
       "      Reviews  Size     Installs  Type  Price Content Rating        Genres  \\\n",
       "540      5084  9.6M     100,000+  Free      0     Mature 17+        Dating   \n",
       "2634    79129   23M   5,000,000+  Free      0           Teen        Social   \n",
       "835    206532   21M  10,000,000+  Free      0   Everyone 10+     Education   \n",
       "10080       1   30M       1,000+  Free      0       Everyone      Business   \n",
       "7097        5  7.0M         100+  Paid  $4.99       Everyone  Productivity   \n",
       "\n",
       "            Last Updated Current Ver Android Ver  \n",
       "540       August 3, 2018        1.55  4.1 and up  \n",
       "2634      August 2, 2018     3.10.26  4.4 and up  \n",
       "835       August 1, 2018  13.9.0.161  5.0 and up  \n",
       "10080       May 16, 2018        5.28  5.0 and up  \n",
       "7097   February 11, 2014         1.3  2.2 and up  "
      ]
     },
     "execution_count": 5407,
     "metadata": {},
     "output_type": "execute_result"
    }
   ],
   "source": [
    "df_temp.sample(5)"
   ]
  },
  {
   "cell_type": "code",
   "execution_count": 5408,
   "metadata": {},
   "outputs": [
    {
     "name": "stdout",
     "output_type": "stream",
     "text": [
      "<class 'pandas.core.frame.DataFrame'>\n",
      "RangeIndex: 10841 entries, 0 to 10840\n",
      "Data columns (total 13 columns):\n",
      " #   Column          Non-Null Count  Dtype  \n",
      "---  ------          --------------  -----  \n",
      " 0   App             10841 non-null  object \n",
      " 1   Category        10841 non-null  object \n",
      " 2   Rating          9367 non-null   float64\n",
      " 3   Reviews         10841 non-null  object \n",
      " 4   Size            10841 non-null  object \n",
      " 5   Installs        10841 non-null  object \n",
      " 6   Type            10840 non-null  object \n",
      " 7   Price           10841 non-null  object \n",
      " 8   Content Rating  10840 non-null  object \n",
      " 9   Genres          10841 non-null  object \n",
      " 10  Last Updated    10841 non-null  object \n",
      " 11  Current Ver     10833 non-null  object \n",
      " 12  Android Ver     10838 non-null  object \n",
      "dtypes: float64(1), object(12)\n",
      "memory usage: 1.1+ MB\n"
     ]
    }
   ],
   "source": [
    "# เข้าใจข้อมูล\n",
    "# check dataset info\n",
    "df_temp.info()\n"
   ]
  },
  {
   "cell_type": "code",
   "execution_count": 5409,
   "metadata": {},
   "outputs": [
    {
     "data": {
      "text/plain": [
       "App                  0\n",
       "Category             0\n",
       "Rating            1474\n",
       "Reviews              0\n",
       "Size                 0\n",
       "Installs             0\n",
       "Type                 1\n",
       "Price                0\n",
       "Content Rating       1\n",
       "Genres               0\n",
       "Last Updated         0\n",
       "Current Ver          8\n",
       "Android Ver          3\n",
       "dtype: int64"
      ]
     },
     "execution_count": 5409,
     "metadata": {},
     "output_type": "execute_result"
    }
   ],
   "source": [
    "# check null\n",
    "df_temp.isna().sum()\n",
    "# จะเห็นได้ว่า rating มีข้อมูลเสียเยอะ\n"
   ]
  },
  {
   "cell_type": "code",
   "execution_count": 5410,
   "metadata": {},
   "outputs": [],
   "source": [
    "# data prep & data cleaning\n",
    "# เราจะใช้ข้อมูลที่จำเป็นสำหรับการใช้ข้อมูลนี้เท่านั้น\n",
    "# ข้อมูลที่ไม่จำเป็นเราจะนำออกไป เช่น rating, reviews บลาๆ\n",
    "\n",
    "df = df_temp.copy()\n",
    "\n",
    "# remove unuse cols\n",
    "df = df.reindex(columns=['App', 'Category', 'Size',\n",
    "                'Type', 'Genres', 'Price', 'Installs', 'Content Rating'])\n"
   ]
  },
  {
   "cell_type": "code",
   "execution_count": 5411,
   "metadata": {},
   "outputs": [],
   "source": [
    "# rename col\n",
    "temp_keys = {}\n",
    "for i in df.columns:\n",
    "    temp_keys[i] = i.lower()\n",
    "df = df.rename(columns=temp_keys)\n"
   ]
  },
  {
   "cell_type": "code",
   "execution_count": 5412,
   "metadata": {},
   "outputs": [
    {
     "data": {
      "text/plain": [
       "app               0\n",
       "category          0\n",
       "size              0\n",
       "type              1\n",
       "genres            0\n",
       "price             0\n",
       "installs          0\n",
       "content rating    1\n",
       "dtype: int64"
      ]
     },
     "execution_count": 5412,
     "metadata": {},
     "output_type": "execute_result"
    }
   ],
   "source": [
    "df.isna().sum()\n",
    "# ข้อมูลที่เสียมีน้อยมาก\n"
   ]
  },
  {
   "cell_type": "code",
   "execution_count": 5413,
   "metadata": {},
   "outputs": [
    {
     "data": {
      "text/plain": [
       "(9660, 8)"
      ]
     },
     "execution_count": 5413,
     "metadata": {},
     "output_type": "execute_result"
    }
   ],
   "source": [
    "# ลบข้อมูลที่เสียออกไปซะ\n",
    "df.drop_duplicates(subset='app', inplace=True, ignore_index=True)\n",
    "df.shape"
   ]
  },
  {
   "cell_type": "code",
   "execution_count": 5414,
   "metadata": {},
   "outputs": [
    {
     "data": {
      "text/plain": [
       "app               0\n",
       "category          0\n",
       "size              0\n",
       "type              0\n",
       "genres            0\n",
       "price             0\n",
       "installs          0\n",
       "content rating    0\n",
       "dtype: int64"
      ]
     },
     "execution_count": 5414,
     "metadata": {},
     "output_type": "execute_result"
    }
   ],
   "source": [
    "# เราจะทำการลบข้อมูล ที่เสียหาย\n",
    "df.dropna(axis=0, inplace=True)\n",
    "df.isna().sum()\n"
   ]
  },
  {
   "cell_type": "code",
   "execution_count": 5415,
   "metadata": {},
   "outputs": [
    {
     "data": {
      "text/html": [
       "<div>\n",
       "<style scoped>\n",
       "    .dataframe tbody tr th:only-of-type {\n",
       "        vertical-align: middle;\n",
       "    }\n",
       "\n",
       "    .dataframe tbody tr th {\n",
       "        vertical-align: top;\n",
       "    }\n",
       "\n",
       "    .dataframe thead th {\n",
       "        text-align: right;\n",
       "    }\n",
       "</style>\n",
       "<table border=\"1\" class=\"dataframe\">\n",
       "  <thead>\n",
       "    <tr style=\"text-align: right;\">\n",
       "      <th></th>\n",
       "      <th>app</th>\n",
       "      <th>category</th>\n",
       "      <th>size</th>\n",
       "      <th>type</th>\n",
       "      <th>genres</th>\n",
       "      <th>price</th>\n",
       "      <th>installs</th>\n",
       "      <th>content rating</th>\n",
       "    </tr>\n",
       "  </thead>\n",
       "  <tbody>\n",
       "    <tr>\n",
       "      <th>5691</th>\n",
       "      <td>BSPlayer</td>\n",
       "      <td>VIDEO_PLAYERS</td>\n",
       "      <td>Varies with device</td>\n",
       "      <td>Paid</td>\n",
       "      <td>Video Players &amp; Editors</td>\n",
       "      <td>$5.99</td>\n",
       "      <td>50,000+</td>\n",
       "      <td>Everyone</td>\n",
       "    </tr>\n",
       "    <tr>\n",
       "      <th>2619</th>\n",
       "      <td>Applock</td>\n",
       "      <td>TOOLS</td>\n",
       "      <td>Varies with device</td>\n",
       "      <td>Free</td>\n",
       "      <td>Tools</td>\n",
       "      <td>0</td>\n",
       "      <td>100,000,000+</td>\n",
       "      <td>Everyone</td>\n",
       "    </tr>\n",
       "    <tr>\n",
       "      <th>9157</th>\n",
       "      <td>FE EN ACCIÓN RADIO</td>\n",
       "      <td>FAMILY</td>\n",
       "      <td>2.9M</td>\n",
       "      <td>Free</td>\n",
       "      <td>Entertainment</td>\n",
       "      <td>0</td>\n",
       "      <td>10+</td>\n",
       "      <td>Everyone</td>\n",
       "    </tr>\n",
       "    <tr>\n",
       "      <th>7858</th>\n",
       "      <td>DW - Breaking World News</td>\n",
       "      <td>NEWS_AND_MAGAZINES</td>\n",
       "      <td>17M</td>\n",
       "      <td>Free</td>\n",
       "      <td>News &amp; Magazines</td>\n",
       "      <td>0</td>\n",
       "      <td>1,000,000+</td>\n",
       "      <td>Everyone 10+</td>\n",
       "    </tr>\n",
       "    <tr>\n",
       "      <th>3841</th>\n",
       "      <td>Anime X Wallpaper</td>\n",
       "      <td>PERSONALIZATION</td>\n",
       "      <td>3.2M</td>\n",
       "      <td>Free</td>\n",
       "      <td>Personalization</td>\n",
       "      <td>0</td>\n",
       "      <td>1,000,000+</td>\n",
       "      <td>Everyone</td>\n",
       "    </tr>\n",
       "    <tr>\n",
       "      <th>8779</th>\n",
       "      <td>Qserve EU MDR First Aid</td>\n",
       "      <td>BUSINESS</td>\n",
       "      <td>17M</td>\n",
       "      <td>Free</td>\n",
       "      <td>Business</td>\n",
       "      <td>0</td>\n",
       "      <td>100+</td>\n",
       "      <td>Everyone</td>\n",
       "    </tr>\n",
       "    <tr>\n",
       "      <th>5060</th>\n",
       "      <td>Be My Princess: PARTY</td>\n",
       "      <td>FAMILY</td>\n",
       "      <td>21M</td>\n",
       "      <td>Free</td>\n",
       "      <td>Simulation</td>\n",
       "      <td>0</td>\n",
       "      <td>100,000+</td>\n",
       "      <td>Teen</td>\n",
       "    </tr>\n",
       "    <tr>\n",
       "      <th>3924</th>\n",
       "      <td>6 Pack Promise - Ultimate Abs</td>\n",
       "      <td>HEALTH_AND_FITNESS</td>\n",
       "      <td>Varies with device</td>\n",
       "      <td>Free</td>\n",
       "      <td>Health &amp; Fitness</td>\n",
       "      <td>0</td>\n",
       "      <td>1,000,000+</td>\n",
       "      <td>Everyone</td>\n",
       "    </tr>\n",
       "    <tr>\n",
       "      <th>7603</th>\n",
       "      <td>Insta Square Profile DP</td>\n",
       "      <td>PHOTOGRAPHY</td>\n",
       "      <td>11M</td>\n",
       "      <td>Free</td>\n",
       "      <td>Photography</td>\n",
       "      <td>0</td>\n",
       "      <td>5,000+</td>\n",
       "      <td>Everyone</td>\n",
       "    </tr>\n",
       "    <tr>\n",
       "      <th>6091</th>\n",
       "      <td>CB SmartCAR Monitor</td>\n",
       "      <td>TOOLS</td>\n",
       "      <td>514k</td>\n",
       "      <td>Free</td>\n",
       "      <td>Tools</td>\n",
       "      <td>0</td>\n",
       "      <td>10+</td>\n",
       "      <td>Everyone</td>\n",
       "    </tr>\n",
       "  </tbody>\n",
       "</table>\n",
       "</div>"
      ],
      "text/plain": [
       "                                app            category                size  \\\n",
       "5691                       BSPlayer       VIDEO_PLAYERS  Varies with device   \n",
       "2619                        Applock               TOOLS  Varies with device   \n",
       "9157             FE EN ACCIÓN RADIO              FAMILY                2.9M   \n",
       "7858       DW - Breaking World News  NEWS_AND_MAGAZINES                 17M   \n",
       "3841              Anime X Wallpaper     PERSONALIZATION                3.2M   \n",
       "8779        Qserve EU MDR First Aid            BUSINESS                 17M   \n",
       "5060          Be My Princess: PARTY              FAMILY                 21M   \n",
       "3924  6 Pack Promise - Ultimate Abs  HEALTH_AND_FITNESS  Varies with device   \n",
       "7603        Insta Square Profile DP         PHOTOGRAPHY                 11M   \n",
       "6091            CB SmartCAR Monitor               TOOLS                514k   \n",
       "\n",
       "      type                   genres  price      installs content rating  \n",
       "5691  Paid  Video Players & Editors  $5.99       50,000+       Everyone  \n",
       "2619  Free                    Tools      0  100,000,000+       Everyone  \n",
       "9157  Free            Entertainment      0           10+       Everyone  \n",
       "7858  Free         News & Magazines      0    1,000,000+   Everyone 10+  \n",
       "3841  Free          Personalization      0    1,000,000+       Everyone  \n",
       "8779  Free                 Business      0          100+       Everyone  \n",
       "5060  Free               Simulation      0      100,000+           Teen  \n",
       "3924  Free         Health & Fitness      0    1,000,000+       Everyone  \n",
       "7603  Free              Photography      0        5,000+       Everyone  \n",
       "6091  Free                    Tools      0           10+       Everyone  "
      ]
     },
     "execution_count": 5415,
     "metadata": {},
     "output_type": "execute_result"
    }
   ],
   "source": [
    "# แสดงข้อมูลเบื้องต้น\n",
    "df.sample(10)\n"
   ]
  },
  {
   "cell_type": "code",
   "execution_count": 5416,
   "metadata": {},
   "outputs": [
    {
     "data": {
      "text/plain": [
       "category\n",
       "ART_AND_DESIGN           64\n",
       "AUTO_AND_VEHICLES        85\n",
       "BEAUTY                   53\n",
       "BOOKS_AND_REFERENCE     222\n",
       "BUSINESS                420\n",
       "COMICS                   56\n",
       "COMMUNICATION           315\n",
       "DATING                  171\n",
       "EDUCATION               119\n",
       "ENTERTAINMENT           102\n",
       "EVENTS                   64\n",
       "FAMILY                 1831\n",
       "FINANCE                 345\n",
       "FOOD_AND_DRINK          112\n",
       "GAME                    959\n",
       "HEALTH_AND_FITNESS      288\n",
       "HOUSE_AND_HOME           74\n",
       "LIBRARIES_AND_DEMO       84\n",
       "LIFESTYLE               369\n",
       "MAPS_AND_NAVIGATION     131\n",
       "MEDICAL                 395\n",
       "NEWS_AND_MAGAZINES      254\n",
       "PARENTING                60\n",
       "PERSONALIZATION         376\n",
       "PHOTOGRAPHY             281\n",
       "PRODUCTIVITY            374\n",
       "SHOPPING                202\n",
       "SOCIAL                  239\n",
       "SPORTS                  325\n",
       "TOOLS                   827\n",
       "TRAVEL_AND_LOCAL        219\n",
       "VIDEO_PLAYERS           163\n",
       "WEATHER                  79\n",
       "Name: category, dtype: int64"
      ]
     },
     "execution_count": 5416,
     "metadata": {},
     "output_type": "execute_result"
    }
   ],
   "source": [
    "# เช็คข้อมูล insight หลักๆ ที่อาจจะทำให้เรามีปัญหาในการใช้ข้อมูล\n",
    "df.groupby(['category'])['category'].count()\n"
   ]
  },
  {
   "cell_type": "code",
   "execution_count": 5417,
   "metadata": {},
   "outputs": [
    {
     "data": {
      "text/html": [
       "<div>\n",
       "<style scoped>\n",
       "    .dataframe tbody tr th:only-of-type {\n",
       "        vertical-align: middle;\n",
       "    }\n",
       "\n",
       "    .dataframe tbody tr th {\n",
       "        vertical-align: top;\n",
       "    }\n",
       "\n",
       "    .dataframe thead th {\n",
       "        text-align: right;\n",
       "    }\n",
       "</style>\n",
       "<table border=\"1\" class=\"dataframe\">\n",
       "  <thead>\n",
       "    <tr style=\"text-align: right;\">\n",
       "      <th></th>\n",
       "      <th>app</th>\n",
       "      <th>category</th>\n",
       "      <th>size</th>\n",
       "      <th>type</th>\n",
       "      <th>genres</th>\n",
       "      <th>price</th>\n",
       "      <th>installs</th>\n",
       "      <th>content rating</th>\n",
       "    </tr>\n",
       "  </thead>\n",
       "  <tbody>\n",
       "  </tbody>\n",
       "</table>\n",
       "</div>"
      ],
      "text/plain": [
       "Empty DataFrame\n",
       "Columns: [app, category, size, type, genres, price, installs, content rating]\n",
       "Index: []"
      ]
     },
     "execution_count": 5417,
     "metadata": {},
     "output_type": "execute_result"
    }
   ],
   "source": [
    "# จะเห็นได้ว่า 1.9 นั้นไม่รู้คือ type อะไร\n",
    "# และ genres, price,size installs นั้นสลับกันหมดเลย\n",
    "# เรามาลองแก้กันดีกว่า\n",
    "df.loc[df['category'] == '1.9']\n"
   ]
  },
  {
   "cell_type": "code",
   "execution_count": 5418,
   "metadata": {},
   "outputs": [
    {
     "data": {
      "text/html": [
       "<div>\n",
       "<style scoped>\n",
       "    .dataframe tbody tr th:only-of-type {\n",
       "        vertical-align: middle;\n",
       "    }\n",
       "\n",
       "    .dataframe tbody tr th {\n",
       "        vertical-align: top;\n",
       "    }\n",
       "\n",
       "    .dataframe thead th {\n",
       "        text-align: right;\n",
       "    }\n",
       "</style>\n",
       "<table border=\"1\" class=\"dataframe\">\n",
       "  <thead>\n",
       "    <tr style=\"text-align: right;\">\n",
       "      <th></th>\n",
       "      <th>App</th>\n",
       "      <th>Category</th>\n",
       "      <th>Rating</th>\n",
       "      <th>Reviews</th>\n",
       "      <th>Size</th>\n",
       "      <th>Installs</th>\n",
       "      <th>Type</th>\n",
       "      <th>Price</th>\n",
       "      <th>Content Rating</th>\n",
       "      <th>Genres</th>\n",
       "      <th>Last Updated</th>\n",
       "      <th>Current Ver</th>\n",
       "      <th>Android Ver</th>\n",
       "    </tr>\n",
       "  </thead>\n",
       "  <tbody>\n",
       "    <tr>\n",
       "      <th>10472</th>\n",
       "      <td>Life Made WI-Fi Touchscreen Photo Frame</td>\n",
       "      <td>1.9</td>\n",
       "      <td>19.0</td>\n",
       "      <td>3.0M</td>\n",
       "      <td>1,000+</td>\n",
       "      <td>Free</td>\n",
       "      <td>0</td>\n",
       "      <td>Everyone</td>\n",
       "      <td>NaN</td>\n",
       "      <td>February 11, 2018</td>\n",
       "      <td>1.0.19</td>\n",
       "      <td>4.0 and up</td>\n",
       "      <td>NaN</td>\n",
       "    </tr>\n",
       "  </tbody>\n",
       "</table>\n",
       "</div>"
      ],
      "text/plain": [
       "                                           App Category  Rating Reviews  \\\n",
       "10472  Life Made WI-Fi Touchscreen Photo Frame      1.9    19.0    3.0M   \n",
       "\n",
       "         Size Installs Type     Price Content Rating             Genres  \\\n",
       "10472  1,000+     Free    0  Everyone            NaN  February 11, 2018   \n",
       "\n",
       "      Last Updated Current Ver Android Ver  \n",
       "10472       1.0.19  4.0 and up         NaN  "
      ]
     },
     "execution_count": 5418,
     "metadata": {},
     "output_type": "execute_result"
    }
   ],
   "source": [
    "# ข้อมูลที่เราพบปัญหานั้น col ไม่ครบ เราเลยจะนำข้อมูลจากตารางหลักมา\n",
    "# ข้อมูลจากตารางหลักบางอย่างนั้นไม่มี เช่น Category, Gengre\n",
    "# ซึ่งจากที่ดูๆ ข้อมูลเหมาะกับ HOUSE_AND_HOME, House & Home\n",
    "# เราเลยจะเปลี่ยนข้อมูลให้กับข้อมูลนี้\n",
    "temp_data = df_temp.loc[df_temp['App'] ==\n",
    "                        'Life Made WI-Fi Touchscreen Photo Frame']\n",
    "temp_data\n"
   ]
  },
  {
   "cell_type": "code",
   "execution_count": 5419,
   "metadata": {},
   "outputs": [
    {
     "data": {
      "text/html": [
       "<div>\n",
       "<style scoped>\n",
       "    .dataframe tbody tr th:only-of-type {\n",
       "        vertical-align: middle;\n",
       "    }\n",
       "\n",
       "    .dataframe tbody tr th {\n",
       "        vertical-align: top;\n",
       "    }\n",
       "\n",
       "    .dataframe thead th {\n",
       "        text-align: right;\n",
       "    }\n",
       "</style>\n",
       "<table border=\"1\" class=\"dataframe\">\n",
       "  <thead>\n",
       "    <tr style=\"text-align: right;\">\n",
       "      <th></th>\n",
       "      <th>app</th>\n",
       "      <th>category</th>\n",
       "      <th>size</th>\n",
       "      <th>type</th>\n",
       "      <th>genres</th>\n",
       "      <th>price</th>\n",
       "      <th>installs</th>\n",
       "      <th>content rating</th>\n",
       "    </tr>\n",
       "  </thead>\n",
       "  <tbody>\n",
       "  </tbody>\n",
       "</table>\n",
       "</div>"
      ],
      "text/plain": [
       "Empty DataFrame\n",
       "Columns: [app, category, size, type, genres, price, installs, content rating]\n",
       "Index: []"
      ]
     },
     "execution_count": 5419,
     "metadata": {},
     "output_type": "execute_result"
    }
   ],
   "source": [
    "df.loc[df['app'] == 'Life Made WI-Fi Touchscreen Photo Frame',\n",
    "       'type'] = temp_data['Price']\n",
    "df.loc[df['app'] == 'Life Made WI-Fi Touchscreen Photo Frame',\n",
    "       'size'] = temp_data['Category']\n",
    "df.loc[df['app'] == 'Life Made WI-Fi Touchscreen Photo Frame',\n",
    "       'price'] = temp_data['Installs']\n",
    "df.loc[df['app'] == 'Life Made WI-Fi Touchscreen Photo Frame',\n",
    "       'installs'] = temp_data['Size']\n",
    "df.loc[df['app'] == 'Life Made WI-Fi Touchscreen Photo Frame',\n",
    "       'category'] = 'HOUSE_AND_HOME'\n",
    "df.loc[df['app'] == 'Life Made WI-Fi Touchscreen Photo Frame',\n",
    "       'genres'] = 'House & Home'\n",
    "\n",
    "# เพื่อความแน่ใจ ลองเช็คข้อมูลอีกรอบ\n",
    "df.loc[df['app'] == 'Life Made WI-Fi Touchscreen Photo Frame']\n",
    "\n",
    "# ข้อมูลได้ถูกเปลี่ยนแล้วเย้\n"
   ]
  },
  {
   "cell_type": "code",
   "execution_count": 5420,
   "metadata": {},
   "outputs": [
    {
     "data": {
      "text/plain": [
       "0                 Art & Design\n",
       "1    Art & Design;Pretend Play\n",
       "2                 Art & Design\n",
       "3                 Art & Design\n",
       "4      Art & Design;Creativity\n",
       "Name: genres, dtype: object"
      ]
     },
     "execution_count": 5420,
     "metadata": {},
     "output_type": "execute_result"
    }
   ],
   "source": [
    "# มาดูส่วนของ genres\n",
    "df['genres'].head(5)\n",
    "\n",
    "# จะเป็นได้ว่าบาง genres มีมา่กกว่า 1 รูปแบบ ซึ่งแบ่งด้วย ตัว semi colon\n"
   ]
  },
  {
   "cell_type": "code",
   "execution_count": 5421,
   "metadata": {},
   "outputs": [
    {
     "data": {
      "text/plain": [
       "{'Art & Design': 65,\n",
       " 'Pretend Play': 69,\n",
       " 'Creativity': 33,\n",
       " 'Action & Adventure': 98,\n",
       " 'Auto & Vehicles': 85,\n",
       " 'Beauty': 53,\n",
       " 'Books & Reference': 225,\n",
       " 'Business': 420,\n",
       " 'Comics': 56,\n",
       " 'Communication': 316,\n",
       " 'Dating': 171,\n",
       " 'Education': 678,\n",
       " 'Music & Video': 31,\n",
       " 'Brain Games': 64,\n",
       " 'Entertainment': 592,\n",
       " 'Events': 64,\n",
       " 'Finance': 345,\n",
       " 'Food & Drink': 112,\n",
       " 'Health & Fitness': 290,\n",
       " 'House & Home': 74,\n",
       " 'Libraries & Demo': 84,\n",
       " 'Lifestyle': 370,\n",
       " 'Adventure': 80,\n",
       " 'Arcade': 199,\n",
       " 'Casual': 225,\n",
       " 'Card': 49,\n",
       " 'Action': 311,\n",
       " 'Strategy': 98,\n",
       " 'Puzzle': 142,\n",
       " 'Sports': 335,\n",
       " 'Music': 22,\n",
       " 'Word': 23,\n",
       " 'Racing': 108,\n",
       " 'Simulation': 206,\n",
       " 'Board': 60,\n",
       " 'Trivia': 39,\n",
       " 'Role Playing': 115,\n",
       " 'Educational': 102,\n",
       " 'Music & Audio': 1,\n",
       " 'Video Players & Editors': 165,\n",
       " 'Medical': 395,\n",
       " 'Social': 239,\n",
       " 'Shopping': 202,\n",
       " 'Photography': 281,\n",
       " 'Travel & Local': 219,\n",
       " 'Tools': 827,\n",
       " 'Personalization': 376,\n",
       " 'Productivity': 374,\n",
       " 'Parenting': 60,\n",
       " 'Weather': 79,\n",
       " 'News & Magazines': 254,\n",
       " 'Maps & Navigation': 131,\n",
       " 'Casino': 39}"
      ]
     },
     "execution_count": 5421,
     "metadata": {},
     "output_type": "execute_result"
    }
   ],
   "source": [
    "# เราจะแบ่งตัว genres ให้เป็นรูปแบบ ว่าตัว genres มันมีเท่าไหร่\n",
    "genres = df['genres']\n",
    "genres_results = {}\n",
    "for gen in genres:\n",
    "    for g in gen.split(';'):\n",
    "        if g not in genres_results:\n",
    "            genres_results[g] = 1\n",
    "            continue\n",
    "        genres_results[g] += 1\n",
    "genres_results\n"
   ]
  },
  {
   "cell_type": "code",
   "execution_count": 5422,
   "metadata": {},
   "outputs": [],
   "source": [
    "def convert_size(s):\n",
    "    if s.replace('M', '').replace('.', '', 1).isdigit():\n",
    "        size = float(s.replace('M', ''))\n",
    "        return 1024 * size\n",
    "    if s.replace('k', '').replace('.', '', 1).isdigit():\n",
    "        return float(s.replace('k', ''))\n",
    "    return 0\n"
   ]
  },
  {
   "cell_type": "code",
   "execution_count": 5423,
   "metadata": {},
   "outputs": [
    {
     "data": {
      "text/plain": [
       "6207    15360.0\n",
       "1200    15360.0\n",
       "2293        0.0\n",
       "9073    20480.0\n",
       "2746        0.0\n",
       "Name: size, dtype: float64"
      ]
     },
     "execution_count": 5423,
     "metadata": {},
     "output_type": "execute_result"
    }
   ],
   "source": [
    "# จะเห็นได้ว่า size เป็น type object ต้องเปลี่ยนเป็น int\n",
    "# ซึ่งเราจะแปลกตัวเลขนี้ ให้เป็นค่า kb ทั้งหมด จะได้ใช้ได้ง่าย เมื่อมีค่าอิน นอกจากตัวค่า mb\n",
    "# df['size'] = df['size'].str.replace('+', '', regex=True).replace(',', '', regex=True).astype(int)\n",
    "df['size'] = df['size'].apply(convert_size)\n",
    "df['size'].sample(5)\n"
   ]
  },
  {
   "cell_type": "code",
   "execution_count": 5424,
   "metadata": {},
   "outputs": [
    {
     "data": {
      "text/plain": [
       "5683     1,000,000+\n",
       "399     50,000,000+\n",
       "Name: installs, dtype: object"
      ]
     },
     "execution_count": 5424,
     "metadata": {},
     "output_type": "execute_result"
    }
   ],
   "source": [
    "# จะเห็นได้ว่า installs เป็น type object ต้องเปลี่ยนเป็น int\n",
    "\n",
    "df['installs'].sample(2)\n"
   ]
  },
  {
   "cell_type": "code",
   "execution_count": 5425,
   "metadata": {},
   "outputs": [
    {
     "data": {
      "text/plain": [
       "0          10000\n",
       "1         500000\n",
       "2        5000000\n",
       "3       50000000\n",
       "4         100000\n",
       "          ...   \n",
       "9655        5000\n",
       "9656         100\n",
       "9657        1000\n",
       "9658        1000\n",
       "9659    10000000\n",
       "Name: installs, Length: 9658, dtype: int32"
      ]
     },
     "execution_count": 5425,
     "metadata": {},
     "output_type": "execute_result"
    }
   ],
   "source": [
    "# ข้อมูลจะมี + ตามหลัง และ comma เราจะนำออก; และเปลี่ยนค่าเป็น int32\n",
    "df['installs'] = df['installs'].str.replace(\n",
    "    '+', '', regex=True).replace(',', '', regex=True).astype(int)\n",
    "df['installs']\n"
   ]
  },
  {
   "cell_type": "code",
   "execution_count": 5426,
   "metadata": {},
   "outputs": [
    {
     "data": {
      "text/plain": [
       "6299    0\n",
       "8921    0\n",
       "5950    0\n",
       "4480    0\n",
       "5561    0\n",
       "Name: price, dtype: object"
      ]
     },
     "execution_count": 5426,
     "metadata": {},
     "output_type": "execute_result"
    }
   ],
   "source": [
    "# price จะมีสองรูปแบบคือ free กับ paid ต้องเปลี่ยนเป็น bin ถึงจะได้ง่ายต่อการทำงาน\n",
    "\n",
    "df.loc[df['price'] != \"Free\", 'price'] = df.loc[df['price']\n",
    "                                                != \"Free\", 'price'].apply(lambda x: x.replace('$', ''))\n",
    "\n",
    "df.loc[df['price'] == 'Free', 'price'] = 0\n",
    "\n",
    "df['price'].sample(5)\n"
   ]
  },
  {
   "cell_type": "code",
   "execution_count": 5427,
   "metadata": {},
   "outputs": [
    {
     "data": {
      "image/png": "[encoded data removed]",
      "text/plain": [
       "<Figure size 576x396 with 1 Axes>"
      ]
     },
     "metadata": {},
     "output_type": "display_data"
    }
   ],
   "source": [
    "# EDA\n",
    "df['content rating'].value_counts().plot(kind='pie', autopct=\"%.2f\")\n",
    "plt.show()\n"
   ]
  },
  {
   "cell_type": "code",
   "execution_count": 5428,
   "metadata": {},
   "outputs": [
    {
     "data": {
      "text/plain": [
       "{'FAMILY': 1831,\n",
       " 'GAME': 959,\n",
       " 'TOOLS': 827,\n",
       " 'BUSINESS': 420,\n",
       " 'MEDICAL': 395,\n",
       " 'PERSONALIZATION': 376,\n",
       " 'PRODUCTIVITY': 374,\n",
       " 'LIFESTYLE': 369,\n",
       " 'FINANCE': 345,\n",
       " 'SPORTS': 325,\n",
       " 'COMMUNICATION': 315,\n",
       " 'HEALTH_AND_FITNESS': 288,\n",
       " 'PHOTOGRAPHY': 281,\n",
       " 'NEWS_AND_MAGAZINES': 254,\n",
       " 'SOCIAL': 239,\n",
       " 'BOOKS_AND_REFERENCE': 222,\n",
       " 'TRAVEL_AND_LOCAL': 219,\n",
       " 'SHOPPING': 202,\n",
       " 'DATING': 171,\n",
       " 'VIDEO_PLAYERS': 163}"
      ]
     },
     "execution_count": 5428,
     "metadata": {},
     "output_type": "execute_result"
    },
    {
     "data": {
      "text/plain": [
       "<Figure size 720x720 with 0 Axes>"
      ]
     },
     "metadata": {},
     "output_type": "display_data"
    }
   ],
   "source": [
    "# ดูเปอร์เซ็น\n",
    "plt.figure(figsize=(10, 10))\n",
    "category_dict = dict(df[['category']].groupby('category')['category'].count().nlargest(20))\n",
    "data_plot = dict(sorted(category_dict.items(), key=lambda kv: kv[1], reverse=True))\n",
    "data_plot = [key for key, val in data_plot.items() for _ in range(val)]\n",
    "sns.countplot(y=data_plot)\n",
    "plt.show()\n"
   ]
  },
  {
   "cell_type": "code",
   "execution_count": 5429,
   "metadata": {},
   "outputs": [
    {
     "data": {
      "image/png": "[encoded data removed]",
      "text/plain": [
       "<Figure size 720x720 with 1 Axes>"
      ]
     },
     "metadata": {},
     "output_type": "display_data"
    }
   ],
   "source": [
    "plt.figure(figsize=(10, 10))\n",
    "data_plot = dict(sorted(genres_results.items(), key=lambda kv: kv[1], reverse=True))\n",
    "data_plot = [key for key, val in data_plot.items() for _ in range(val)]\n",
    "sns.countplot(y=data_plot)\n",
    "plt.show()\n"
   ]
  },
  {
   "cell_type": "code",
   "execution_count": 5430,
   "metadata": {},
   "outputs": [
    {
     "data": {
      "image/png": "[encoded data removed]",
      "text/plain": [
       "<Figure size 576x396 with 1 Axes>"
      ]
     },
     "metadata": {},
     "output_type": "display_data"
    }
   ],
   "source": [
    "df['genres'].value_counts().plot(kind='hist')\n",
    "plt.title(\"Genres Histogram\")\n",
    "plt.show()\n"
   ]
  },
  {
   "cell_type": "code",
   "execution_count": 5431,
   "metadata": {},
   "outputs": [],
   "source": [
    "# Feature Engineer\n",
    "\n",
    "df.drop_duplicates(subset=['app'], inplace=True)\n"
   ]
  },
  {
   "cell_type": "code",
   "execution_count": 5432,
   "metadata": {},
   "outputs": [
    {
     "data": {
      "text/html": [
       "<div>\n",
       "<style scoped>\n",
       "    .dataframe tbody tr th:only-of-type {\n",
       "        vertical-align: middle;\n",
       "    }\n",
       "\n",
       "    .dataframe tbody tr th {\n",
       "        vertical-align: top;\n",
       "    }\n",
       "\n",
       "    .dataframe thead th {\n",
       "        text-align: right;\n",
       "    }\n",
       "</style>\n",
       "<table border=\"1\" class=\"dataframe\">\n",
       "  <thead>\n",
       "    <tr style=\"text-align: right;\">\n",
       "      <th></th>\n",
       "      <th>app</th>\n",
       "      <th>category</th>\n",
       "      <th>size</th>\n",
       "      <th>type</th>\n",
       "      <th>genres</th>\n",
       "      <th>price</th>\n",
       "      <th>installs</th>\n",
       "      <th>content rating</th>\n",
       "      <th>describe</th>\n",
       "    </tr>\n",
       "  </thead>\n",
       "  <tbody>\n",
       "    <tr>\n",
       "      <th>0</th>\n",
       "      <td>Photo Editor &amp; Candy Camera &amp; Grid &amp; ScrapBook</td>\n",
       "      <td>ART_AND_DESIGN</td>\n",
       "      <td>19456.0</td>\n",
       "      <td>Free</td>\n",
       "      <td>Art &amp; Design</td>\n",
       "      <td>0</td>\n",
       "      <td>10000</td>\n",
       "      <td>Everyone</td>\n",
       "      <td>Art   Design ART_AND_DESIGN Free</td>\n",
       "    </tr>\n",
       "    <tr>\n",
       "      <th>1</th>\n",
       "      <td>Coloring book moana</td>\n",
       "      <td>ART_AND_DESIGN</td>\n",
       "      <td>14336.0</td>\n",
       "      <td>Free</td>\n",
       "      <td>Art &amp; Design;Pretend Play</td>\n",
       "      <td>0</td>\n",
       "      <td>500000</td>\n",
       "      <td>Everyone</td>\n",
       "      <td>Art   Design Pretend Play ART_AND_DESIGN Free</td>\n",
       "    </tr>\n",
       "    <tr>\n",
       "      <th>2</th>\n",
       "      <td>U Launcher Lite – FREE Live Cool Themes, Hide ...</td>\n",
       "      <td>ART_AND_DESIGN</td>\n",
       "      <td>8908.8</td>\n",
       "      <td>Free</td>\n",
       "      <td>Art &amp; Design</td>\n",
       "      <td>0</td>\n",
       "      <td>5000000</td>\n",
       "      <td>Everyone</td>\n",
       "      <td>Art   Design ART_AND_DESIGN Free</td>\n",
       "    </tr>\n",
       "    <tr>\n",
       "      <th>3</th>\n",
       "      <td>Sketch - Draw &amp; Paint</td>\n",
       "      <td>ART_AND_DESIGN</td>\n",
       "      <td>25600.0</td>\n",
       "      <td>Free</td>\n",
       "      <td>Art &amp; Design</td>\n",
       "      <td>0</td>\n",
       "      <td>50000000</td>\n",
       "      <td>Teen</td>\n",
       "      <td>Art   Design ART_AND_DESIGN Free</td>\n",
       "    </tr>\n",
       "    <tr>\n",
       "      <th>4</th>\n",
       "      <td>Pixel Draw - Number Art Coloring Book</td>\n",
       "      <td>ART_AND_DESIGN</td>\n",
       "      <td>2867.2</td>\n",
       "      <td>Free</td>\n",
       "      <td>Art &amp; Design;Creativity</td>\n",
       "      <td>0</td>\n",
       "      <td>100000</td>\n",
       "      <td>Everyone</td>\n",
       "      <td>Art   Design Creativity ART_AND_DESIGN Free</td>\n",
       "    </tr>\n",
       "  </tbody>\n",
       "</table>\n",
       "</div>"
      ],
      "text/plain": [
       "                                                 app        category     size  \\\n",
       "0     Photo Editor & Candy Camera & Grid & ScrapBook  ART_AND_DESIGN  19456.0   \n",
       "1                                Coloring book moana  ART_AND_DESIGN  14336.0   \n",
       "2  U Launcher Lite – FREE Live Cool Themes, Hide ...  ART_AND_DESIGN   8908.8   \n",
       "3                              Sketch - Draw & Paint  ART_AND_DESIGN  25600.0   \n",
       "4              Pixel Draw - Number Art Coloring Book  ART_AND_DESIGN   2867.2   \n",
       "\n",
       "   type                     genres price  installs content rating  \\\n",
       "0  Free               Art & Design     0     10000       Everyone   \n",
       "1  Free  Art & Design;Pretend Play     0    500000       Everyone   \n",
       "2  Free               Art & Design     0   5000000       Everyone   \n",
       "3  Free               Art & Design     0  50000000           Teen   \n",
       "4  Free    Art & Design;Creativity     0    100000       Everyone   \n",
       "\n",
       "                                        describe  \n",
       "0               Art   Design ART_AND_DESIGN Free  \n",
       "1  Art   Design Pretend Play ART_AND_DESIGN Free  \n",
       "2               Art   Design ART_AND_DESIGN Free  \n",
       "3               Art   Design ART_AND_DESIGN Free  \n",
       "4    Art   Design Creativity ART_AND_DESIGN Free  "
      ]
     },
     "execution_count": 5432,
     "metadata": {},
     "output_type": "execute_result"
    }
   ],
   "source": [
    "data = df.copy()\n",
    "\n",
    "describe = (data['genres'].replace(to_replace='(;|&| +)', value=' ', regex=True) + \" \" + data['category'] + \" \" + data['type'])\n",
    "data['describe'] = describe\n",
    "\n",
    "data.head()\n"
   ]
  },
  {
   "cell_type": "code",
   "execution_count": 5433,
   "metadata": {},
   "outputs": [],
   "source": [
    "data.reset_index(drop=True, inplace=True)\n"
   ]
  },
  {
   "cell_type": "code",
   "execution_count": 5434,
   "metadata": {},
   "outputs": [],
   "source": [
    "count_vectorizer = CountVectorizer(stop_words='english')\n",
    "tfidf_vectorizer = TfidfVectorizer(stop_words='english')"
   ]
  },
  {
   "cell_type": "code",
   "execution_count": 5435,
   "metadata": {},
   "outputs": [
    {
     "data": {
      "text/plain": [
       "(9658, 81)"
      ]
     },
     "execution_count": 5435,
     "metadata": {},
     "output_type": "execute_result"
    }
   ],
   "source": [
    "content_count_matrix = count_vectorizer.fit_transform(data['describe'])\n",
    "content_count_matrix.shape"
   ]
  },
  {
   "cell_type": "code",
   "execution_count": 5436,
   "metadata": {},
   "outputs": [
    {
     "data": {
      "text/plain": [
       "(9658, 126)"
      ]
     },
     "execution_count": 5436,
     "metadata": {},
     "output_type": "execute_result"
    }
   ],
   "source": [
    "type_count_matrix = count_vectorizer.fit_transform(data['genres'].replace(to_replace='(;|&| +)', value=' ', regex=True)+data['category'])\n",
    "type_count_matrix.shape\n"
   ]
  },
  {
   "cell_type": "code",
   "execution_count": 5437,
   "metadata": {},
   "outputs": [
    {
     "data": {
      "text/plain": [
       "(9658, 12342)"
      ]
     },
     "execution_count": 5437,
     "metadata": {},
     "output_type": "execute_result"
    }
   ],
   "source": [
    "name_count_matrix = tfidf_vectorizer.fit_transform(data['category']+data['app'])\n",
    "name_count_matrix.shape\n"
   ]
  },
  {
   "cell_type": "code",
   "execution_count": 5438,
   "metadata": {},
   "outputs": [],
   "source": [
    "type_cosine_sim = cosine_similarity(type_count_matrix, type_count_matrix)"
   ]
  },
  {
   "cell_type": "code",
   "execution_count": 5439,
   "metadata": {},
   "outputs": [],
   "source": [
    "content_cosine_sim = cosine_similarity(content_count_matrix, content_count_matrix)\n"
   ]
  },
  {
   "cell_type": "code",
   "execution_count": 5440,
   "metadata": {},
   "outputs": [],
   "source": [
    "name_cosine_sim = cosine_similarity(name_count_matrix, name_count_matrix)\n"
   ]
  },
  {
   "cell_type": "code",
   "execution_count": 5441,
   "metadata": {},
   "outputs": [],
   "source": [
    "class Recommendations:\n",
    "    def __init__(self, name: str, amount: int = 10):\n",
    "        self.name = self.nearest_name(name)\n",
    "        self.amount = amount\n",
    "\n",
    "    def nearest_name(self, name: str):\n",
    "        # app_detail = self.get_app_detail(name)\n",
    "\n",
    "        # if app_detail:\n",
    "        #     return app_detail\n",
    "        close = self.get_close_matches(name)\n",
    "        get_sr = df['app'][df['app'].isin([name])]\n",
    "        if len(get_sr) != 0:\n",
    "            return get_sr.iloc[0]\n",
    "        elif close:\n",
    "            return close[0]\n",
    "        return None\n",
    "\n",
    "    def get_close_matches(self, name: str):\n",
    "        global df\n",
    "        get_sr2 = df['app'][df['app'].apply(\n",
    "            lambda x: x.lower()).str.startswith(name[:2].lower())]\n",
    "        if len(get_sr2) != 0:\n",
    "            return get_sr2.tolist()\n",
    "        return ''\n",
    "\n",
    "    def get_indices(self):\n",
    "        metadata = df.reset_index()\n",
    "        indices = pd.Series(metadata.index, index=metadata['app'])\n",
    "        if not self.name:\n",
    "            return None\n",
    "        return indices[self.name]\n",
    "\n",
    "    def get_recommendations(self, cosine_sim=content_cosine_sim):\n",
    "        indice = self.get_indices()\n",
    "        if not indice:\n",
    "            return 'No name was near'\n",
    "        print()\n",
    "        sim_scores = list(enumerate(cosine_sim[indice]))\n",
    "        sim_scores = sorted(sim_scores, key=lambda x: x[1], reverse=True)\n",
    "        sim_scores = sim_scores[0:self.amount + 1]\n",
    "        _indices = [i[0] for i in sim_scores]\n",
    "        recs = df[['app', 'genres', 'category', 'type']].iloc[_indices]\n",
    "        recs['match_score'] = [i[1] for i in sim_scores]\n",
    "        recs['match_score'] = recs['match_score'].apply(lambda x: round(x, 4))\n",
    "        return recs.loc[recs.app != self.name, ['app', 'genres', 'category', 'type', 'match_score']]\n",
    "\n",
    "    def get_app_detail(self):\n",
    "        return df.loc[df['app'] == self.name, ['app', 'genres', 'category', 'type']]\n"
   ]
  },
  {
   "cell_type": "code",
   "execution_count": 5442,
   "metadata": {},
   "outputs": [
    {
     "data": {
      "text/html": [
       "<div>\n",
       "<style scoped>\n",
       "    .dataframe tbody tr th:only-of-type {\n",
       "        vertical-align: middle;\n",
       "    }\n",
       "\n",
       "    .dataframe tbody tr th {\n",
       "        vertical-align: top;\n",
       "    }\n",
       "\n",
       "    .dataframe thead th {\n",
       "        text-align: right;\n",
       "    }\n",
       "</style>\n",
       "<table border=\"1\" class=\"dataframe\">\n",
       "  <thead>\n",
       "    <tr style=\"text-align: right;\">\n",
       "      <th></th>\n",
       "      <th>app</th>\n",
       "      <th>genres</th>\n",
       "      <th>category</th>\n",
       "      <th>type</th>\n",
       "    </tr>\n",
       "  </thead>\n",
       "  <tbody>\n",
       "    <tr>\n",
       "      <th>413</th>\n",
       "      <td>OkCupid Dating</td>\n",
       "      <td>Dating</td>\n",
       "      <td>DATING</td>\n",
       "      <td>Free</td>\n",
       "    </tr>\n",
       "  </tbody>\n",
       "</table>\n",
       "</div>"
      ],
      "text/plain": [
       "                app  genres category  type\n",
       "413  OkCupid Dating  Dating   DATING  Free"
      ]
     },
     "execution_count": 5442,
     "metadata": {},
     "output_type": "execute_result"
    }
   ],
   "source": [
    "recommend = Recommendations('okcupid')\n",
    "recommend.get_app_detail()"
   ]
  },
  {
   "cell_type": "code",
   "execution_count": 5443,
   "metadata": {},
   "outputs": [
    {
     "name": "stdout",
     "output_type": "stream",
     "text": [
      "\n"
     ]
    },
    {
     "data": {
      "text/html": [
       "<div>\n",
       "<style scoped>\n",
       "    .dataframe tbody tr th:only-of-type {\n",
       "        vertical-align: middle;\n",
       "    }\n",
       "\n",
       "    .dataframe tbody tr th {\n",
       "        vertical-align: top;\n",
       "    }\n",
       "\n",
       "    .dataframe thead th {\n",
       "        text-align: right;\n",
       "    }\n",
       "</style>\n",
       "<table border=\"1\" class=\"dataframe\">\n",
       "  <thead>\n",
       "    <tr style=\"text-align: right;\">\n",
       "      <th></th>\n",
       "      <th>app</th>\n",
       "      <th>genres</th>\n",
       "      <th>category</th>\n",
       "      <th>type</th>\n",
       "      <th>match_score</th>\n",
       "    </tr>\n",
       "  </thead>\n",
       "  <tbody>\n",
       "    <tr>\n",
       "      <th>412</th>\n",
       "      <td>Zoosk Dating App: Meet Singles</td>\n",
       "      <td>Dating</td>\n",
       "      <td>DATING</td>\n",
       "      <td>Free</td>\n",
       "      <td>1.0</td>\n",
       "    </tr>\n",
       "    <tr>\n",
       "      <th>414</th>\n",
       "      <td>Match™ Dating - Meet Singles</td>\n",
       "      <td>Dating</td>\n",
       "      <td>DATING</td>\n",
       "      <td>Free</td>\n",
       "      <td>1.0</td>\n",
       "    </tr>\n",
       "    <tr>\n",
       "      <th>415</th>\n",
       "      <td>Hily: Dating, Chat, Match, Meet &amp; Hook up</td>\n",
       "      <td>Dating</td>\n",
       "      <td>DATING</td>\n",
       "      <td>Free</td>\n",
       "      <td>1.0</td>\n",
       "    </tr>\n",
       "    <tr>\n",
       "      <th>416</th>\n",
       "      <td>Hinge: Dating &amp; Relationships</td>\n",
       "      <td>Dating</td>\n",
       "      <td>DATING</td>\n",
       "      <td>Free</td>\n",
       "      <td>1.0</td>\n",
       "    </tr>\n",
       "    <tr>\n",
       "      <th>417</th>\n",
       "      <td>Casual Dating &amp; Adult Singles - Joyride</td>\n",
       "      <td>Dating</td>\n",
       "      <td>DATING</td>\n",
       "      <td>Free</td>\n",
       "      <td>1.0</td>\n",
       "    </tr>\n",
       "    <tr>\n",
       "      <th>418</th>\n",
       "      <td>BBW Dating &amp; Plus Size Chat</td>\n",
       "      <td>Dating</td>\n",
       "      <td>DATING</td>\n",
       "      <td>Free</td>\n",
       "      <td>1.0</td>\n",
       "    </tr>\n",
       "    <tr>\n",
       "      <th>419</th>\n",
       "      <td>Moco - Chat, Meet People</td>\n",
       "      <td>Dating</td>\n",
       "      <td>DATING</td>\n",
       "      <td>Free</td>\n",
       "      <td>1.0</td>\n",
       "    </tr>\n",
       "    <tr>\n",
       "      <th>420</th>\n",
       "      <td>CMB Free Dating App</td>\n",
       "      <td>Dating</td>\n",
       "      <td>DATING</td>\n",
       "      <td>Free</td>\n",
       "      <td>1.0</td>\n",
       "    </tr>\n",
       "    <tr>\n",
       "      <th>421</th>\n",
       "      <td>Hot or Not - Find someone right now</td>\n",
       "      <td>Dating</td>\n",
       "      <td>DATING</td>\n",
       "      <td>Free</td>\n",
       "      <td>1.0</td>\n",
       "    </tr>\n",
       "    <tr>\n",
       "      <th>422</th>\n",
       "      <td>eharmony - Online Dating App</td>\n",
       "      <td>Dating</td>\n",
       "      <td>DATING</td>\n",
       "      <td>Free</td>\n",
       "      <td>1.0</td>\n",
       "    </tr>\n",
       "  </tbody>\n",
       "</table>\n",
       "</div>"
      ],
      "text/plain": [
       "                                           app  genres category  type  \\\n",
       "412             Zoosk Dating App: Meet Singles  Dating   DATING  Free   \n",
       "414               Match™ Dating - Meet Singles  Dating   DATING  Free   \n",
       "415  Hily: Dating, Chat, Match, Meet & Hook up  Dating   DATING  Free   \n",
       "416              Hinge: Dating & Relationships  Dating   DATING  Free   \n",
       "417    Casual Dating & Adult Singles - Joyride  Dating   DATING  Free   \n",
       "418                BBW Dating & Plus Size Chat  Dating   DATING  Free   \n",
       "419                   Moco - Chat, Meet People  Dating   DATING  Free   \n",
       "420                        CMB Free Dating App  Dating   DATING  Free   \n",
       "421        Hot or Not - Find someone right now  Dating   DATING  Free   \n",
       "422               eharmony - Online Dating App  Dating   DATING  Free   \n",
       "\n",
       "     match_score  \n",
       "412          1.0  \n",
       "414          1.0  \n",
       "415          1.0  \n",
       "416          1.0  \n",
       "417          1.0  \n",
       "418          1.0  \n",
       "419          1.0  \n",
       "420          1.0  \n",
       "421          1.0  \n",
       "422          1.0  "
      ]
     },
     "execution_count": 5443,
     "metadata": {},
     "output_type": "execute_result"
    }
   ],
   "source": [
    "recommend.get_recommendations()"
   ]
  },
  {
   "cell_type": "code",
   "execution_count": 5444,
   "metadata": {},
   "outputs": [
    {
     "name": "stdout",
     "output_type": "stream",
     "text": [
      "\n"
     ]
    },
    {
     "data": {
      "text/html": [
       "<div>\n",
       "<style scoped>\n",
       "    .dataframe tbody tr th:only-of-type {\n",
       "        vertical-align: middle;\n",
       "    }\n",
       "\n",
       "    .dataframe tbody tr th {\n",
       "        vertical-align: top;\n",
       "    }\n",
       "\n",
       "    .dataframe thead th {\n",
       "        text-align: right;\n",
       "    }\n",
       "</style>\n",
       "<table border=\"1\" class=\"dataframe\">\n",
       "  <thead>\n",
       "    <tr style=\"text-align: right;\">\n",
       "      <th></th>\n",
       "      <th>app</th>\n",
       "      <th>genres</th>\n",
       "      <th>category</th>\n",
       "      <th>type</th>\n",
       "      <th>match_score</th>\n",
       "    </tr>\n",
       "  </thead>\n",
       "  <tbody>\n",
       "    <tr>\n",
       "      <th>444</th>\n",
       "      <td>FarmersOnly Dating</td>\n",
       "      <td>Dating</td>\n",
       "      <td>DATING</td>\n",
       "      <td>Free</td>\n",
       "      <td>0.2645</td>\n",
       "    </tr>\n",
       "    <tr>\n",
       "      <th>461</th>\n",
       "      <td>SnpCupid Dating</td>\n",
       "      <td>Dating</td>\n",
       "      <td>DATING</td>\n",
       "      <td>Free</td>\n",
       "      <td>0.2645</td>\n",
       "    </tr>\n",
       "    <tr>\n",
       "      <th>514</th>\n",
       "      <td>Awake Dating</td>\n",
       "      <td>Dating</td>\n",
       "      <td>DATING</td>\n",
       "      <td>Free</td>\n",
       "      <td>0.2645</td>\n",
       "    </tr>\n",
       "    <tr>\n",
       "      <th>522</th>\n",
       "      <td>Geeks Dating</td>\n",
       "      <td>Dating</td>\n",
       "      <td>DATING</td>\n",
       "      <td>Free</td>\n",
       "      <td>0.2645</td>\n",
       "    </tr>\n",
       "    <tr>\n",
       "      <th>531</th>\n",
       "      <td>Latin Dating</td>\n",
       "      <td>Dating</td>\n",
       "      <td>DATING</td>\n",
       "      <td>Free</td>\n",
       "      <td>0.2645</td>\n",
       "    </tr>\n",
       "    <tr>\n",
       "      <th>541</th>\n",
       "      <td>Toronto Dating</td>\n",
       "      <td>Dating</td>\n",
       "      <td>DATING</td>\n",
       "      <td>Free</td>\n",
       "      <td>0.2645</td>\n",
       "    </tr>\n",
       "    <tr>\n",
       "      <th>425</th>\n",
       "      <td>Clover Dating App</td>\n",
       "      <td>Dating</td>\n",
       "      <td>DATING</td>\n",
       "      <td>Free</td>\n",
       "      <td>0.2447</td>\n",
       "    </tr>\n",
       "    <tr>\n",
       "      <th>532</th>\n",
       "      <td>Spine- The dating app</td>\n",
       "      <td>Dating</td>\n",
       "      <td>DATING</td>\n",
       "      <td>Free</td>\n",
       "      <td>0.2447</td>\n",
       "    </tr>\n",
       "    <tr>\n",
       "      <th>563</th>\n",
       "      <td>Teenage Chat &amp; Dating</td>\n",
       "      <td>Dating</td>\n",
       "      <td>DATING</td>\n",
       "      <td>Free</td>\n",
       "      <td>0.2375</td>\n",
       "    </tr>\n",
       "    <tr>\n",
       "      <th>567</th>\n",
       "      <td>SkyLove – Dating and chat</td>\n",
       "      <td>Dating</td>\n",
       "      <td>DATING</td>\n",
       "      <td>Free</td>\n",
       "      <td>0.2375</td>\n",
       "    </tr>\n",
       "  </tbody>\n",
       "</table>\n",
       "</div>"
      ],
      "text/plain": [
       "                           app  genres category  type  match_score\n",
       "444         FarmersOnly Dating  Dating   DATING  Free       0.2645\n",
       "461            SnpCupid Dating  Dating   DATING  Free       0.2645\n",
       "514               Awake Dating  Dating   DATING  Free       0.2645\n",
       "522               Geeks Dating  Dating   DATING  Free       0.2645\n",
       "531               Latin Dating  Dating   DATING  Free       0.2645\n",
       "541             Toronto Dating  Dating   DATING  Free       0.2645\n",
       "425          Clover Dating App  Dating   DATING  Free       0.2447\n",
       "532      Spine- The dating app  Dating   DATING  Free       0.2447\n",
       "563      Teenage Chat & Dating  Dating   DATING  Free       0.2375\n",
       "567  SkyLove – Dating and chat  Dating   DATING  Free       0.2375"
      ]
     },
     "execution_count": 5444,
     "metadata": {},
     "output_type": "execute_result"
    }
   ],
   "source": [
    "recommend.get_recommendations(name_cosine_sim)\n"
   ]
  },
  {
   "cell_type": "code",
   "execution_count": 5445,
   "metadata": {},
   "outputs": [
    {
     "name": "stdout",
     "output_type": "stream",
     "text": [
      "\n"
     ]
    },
    {
     "data": {
      "text/html": [
       "<div>\n",
       "<style scoped>\n",
       "    .dataframe tbody tr th:only-of-type {\n",
       "        vertical-align: middle;\n",
       "    }\n",
       "\n",
       "    .dataframe tbody tr th {\n",
       "        vertical-align: top;\n",
       "    }\n",
       "\n",
       "    .dataframe thead th {\n",
       "        text-align: right;\n",
       "    }\n",
       "</style>\n",
       "<table border=\"1\" class=\"dataframe\">\n",
       "  <thead>\n",
       "    <tr style=\"text-align: right;\">\n",
       "      <th></th>\n",
       "      <th>app</th>\n",
       "      <th>genres</th>\n",
       "      <th>category</th>\n",
       "      <th>type</th>\n",
       "      <th>match_score</th>\n",
       "    </tr>\n",
       "  </thead>\n",
       "  <tbody>\n",
       "    <tr>\n",
       "      <th>406</th>\n",
       "      <td>Moco+ - Chat, Meet People</td>\n",
       "      <td>Dating</td>\n",
       "      <td>DATING</td>\n",
       "      <td>Paid</td>\n",
       "      <td>1.0</td>\n",
       "    </tr>\n",
       "    <tr>\n",
       "      <th>407</th>\n",
       "      <td>Calculator</td>\n",
       "      <td>Dating</td>\n",
       "      <td>DATING</td>\n",
       "      <td>Paid</td>\n",
       "      <td>1.0</td>\n",
       "    </tr>\n",
       "    <tr>\n",
       "      <th>408</th>\n",
       "      <td>Truth or Dare Pro</td>\n",
       "      <td>Dating</td>\n",
       "      <td>DATING</td>\n",
       "      <td>Paid</td>\n",
       "      <td>1.0</td>\n",
       "    </tr>\n",
       "    <tr>\n",
       "      <th>409</th>\n",
       "      <td>Private Dating, Hide App- Blue for PrivacyHider</td>\n",
       "      <td>Dating</td>\n",
       "      <td>DATING</td>\n",
       "      <td>Paid</td>\n",
       "      <td>1.0</td>\n",
       "    </tr>\n",
       "    <tr>\n",
       "      <th>410</th>\n",
       "      <td>Ad Blocker for SayHi</td>\n",
       "      <td>Dating</td>\n",
       "      <td>DATING</td>\n",
       "      <td>Paid</td>\n",
       "      <td>1.0</td>\n",
       "    </tr>\n",
       "    <tr>\n",
       "      <th>411</th>\n",
       "      <td>AMBW Dating App: Asian Men Black Women Interra...</td>\n",
       "      <td>Dating</td>\n",
       "      <td>DATING</td>\n",
       "      <td>Paid</td>\n",
       "      <td>1.0</td>\n",
       "    </tr>\n",
       "    <tr>\n",
       "      <th>412</th>\n",
       "      <td>Zoosk Dating App: Meet Singles</td>\n",
       "      <td>Dating</td>\n",
       "      <td>DATING</td>\n",
       "      <td>Free</td>\n",
       "      <td>1.0</td>\n",
       "    </tr>\n",
       "    <tr>\n",
       "      <th>414</th>\n",
       "      <td>Match™ Dating - Meet Singles</td>\n",
       "      <td>Dating</td>\n",
       "      <td>DATING</td>\n",
       "      <td>Free</td>\n",
       "      <td>1.0</td>\n",
       "    </tr>\n",
       "    <tr>\n",
       "      <th>415</th>\n",
       "      <td>Hily: Dating, Chat, Match, Meet &amp; Hook up</td>\n",
       "      <td>Dating</td>\n",
       "      <td>DATING</td>\n",
       "      <td>Free</td>\n",
       "      <td>1.0</td>\n",
       "    </tr>\n",
       "    <tr>\n",
       "      <th>416</th>\n",
       "      <td>Hinge: Dating &amp; Relationships</td>\n",
       "      <td>Dating</td>\n",
       "      <td>DATING</td>\n",
       "      <td>Free</td>\n",
       "      <td>1.0</td>\n",
       "    </tr>\n",
       "  </tbody>\n",
       "</table>\n",
       "</div>"
      ],
      "text/plain": [
       "                                                   app  genres category  type  \\\n",
       "406                          Moco+ - Chat, Meet People  Dating   DATING  Paid   \n",
       "407                                         Calculator  Dating   DATING  Paid   \n",
       "408                                  Truth or Dare Pro  Dating   DATING  Paid   \n",
       "409    Private Dating, Hide App- Blue for PrivacyHider  Dating   DATING  Paid   \n",
       "410                               Ad Blocker for SayHi  Dating   DATING  Paid   \n",
       "411  AMBW Dating App: Asian Men Black Women Interra...  Dating   DATING  Paid   \n",
       "412                     Zoosk Dating App: Meet Singles  Dating   DATING  Free   \n",
       "414                       Match™ Dating - Meet Singles  Dating   DATING  Free   \n",
       "415          Hily: Dating, Chat, Match, Meet & Hook up  Dating   DATING  Free   \n",
       "416                      Hinge: Dating & Relationships  Dating   DATING  Free   \n",
       "\n",
       "     match_score  \n",
       "406          1.0  \n",
       "407          1.0  \n",
       "408          1.0  \n",
       "409          1.0  \n",
       "410          1.0  \n",
       "411          1.0  \n",
       "412          1.0  \n",
       "414          1.0  \n",
       "415          1.0  \n",
       "416          1.0  "
      ]
     },
     "execution_count": 5445,
     "metadata": {},
     "output_type": "execute_result"
    }
   ],
   "source": [
    "recommend.get_recommendations(type_cosine_sim)\n"
   ]
  },
  {
   "cell_type": "code",
   "execution_count": 5446,
   "metadata": {},
   "outputs": [],
   "source": [
    "\n",
    "# iface = gr.Interface(get_recommendations, inputs=[gr.inputs.Textbox(label='App Name', default=\"Santa Fe App\")], outputs=[\n",
    "#                      gr.outputs.Dataframe(label='Your App'), gr.outputs.Dataframe(label='Similar App')])\n",
    "# iface.launch(debug=True)\n"
   ]
  }
 ],
 "metadata": {
  "interpreter": {
   "hash": "6ca079cfc3dba9581ca024f10f4a466f79644bace2317455bc30872f8fc7da6d"
  },
  "kernelspec": {
   "display_name": "Python 3.9.9 64-bit (windows store)",
   "language": "python",
   "name": "python3"
  },
  "language_info": {
   "codemirror_mode": {
    "name": "ipython",
    "version": 3
   },
   "file_extension": ".py",
   "mimetype": "text/x-python",
   "name": "python",
   "nbconvert_exporter": "python",
   "pygments_lexer": "ipython3",
   "version": "3.9.9"
  },
  "orig_nbformat": 4
 },
 "nbformat": 4,
 "nbformat_minor": 2
}
