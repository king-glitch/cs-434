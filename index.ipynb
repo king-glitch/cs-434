{
 "cells": [
  {
   "cell_type": "markdown",
   "metadata": {},
   "source": [
    "# **Introduction**\n",
    "\n",
    "สวัสดีครับ นี้เป็นการส่ง Final Project ของ CS434\n",
    "\n",
    "ทุกๆ วันนี้ 2 พันกว่าล้านแอพให้ผู้ใชได้ดาวโหลด และกว่า 2 ล้านกว่าแอพให้โหลดใน\n",
    "Google Play Store. แอพพวกนี้ได้มีช่วยในการใช้ชีวติของพวกเราจนถึงทุกวันนี้\n",
    "\n",
    "วันนี้ผมจะมาลองศึกษาเกี่ยวกับการแนะนำ App ตามคำค้นหาในแต่ละรูปแบบ\n",
    "\n",
    "# **Table of Contents**\n",
    "\n",
    "-   [Importing Libraries](#importing)\n",
    "-   [Design](#Design)\n",
    "-   [Importing Dataset](#datasets)\n",
    "-   [Basic Data Exploration](#basic_understanding)\n",
    "-   [Data Cleaning](#data_cleaning)\n",
    "-   [Exploratory Data Analysis](#eda)\n",
    "-   [Feature Engineering](#feature_engineering)\n",
    "-   [Modelling](#modelling)\n",
    "-   [Logs](#logs)\n",
    "-   [References](#references)\n"
   ]
  },
  {
   "cell_type": "markdown",
   "metadata": {},
   "source": [
    "<a id='design'></a>\n",
    "\n",
    "# **Design**\n",
    "\n",
    "<div>\n",
    "    <h3><b>Goal</b></h3>\n",
    "    <img src=\"./images/design-table.jpg\" />\n",
    "<div>\n",
    "<div>\n",
    "    <h3><b>Flow</b></h3>\n",
    "    <img src=\"./images/design-flow.jpg\" />\n",
    "<div>\n"
   ]
  },
  {
   "cell_type": "markdown",
   "metadata": {},
   "source": [
    "<a id='importing'></a>\n",
    "\n",
    "# **Importing libraies**\n"
   ]
  },
  {
   "cell_type": "code",
   "execution_count": 1,
   "metadata": {},
   "outputs": [],
   "source": [
    "from sklearn.feature_extraction.text import CountVectorizer\n",
    "from sklearn.feature_extraction.text import TfidfVectorizer\n",
    "from sklearn.metrics.pairwise import cosine_similarity, linear_kernel\n",
    "import pandas as pd\n",
    "from matplotlib import pyplot as plt\n",
    "import seaborn as sns\n",
    "import time\n",
    "plt.style.use('seaborn')\n"
   ]
  },
  {
   "cell_type": "markdown",
   "metadata": {},
   "source": [
    "<a id='datasets' ></a>\n",
    "\n",
    "# **Importing Dataset**\n"
   ]
  },
  {
   "cell_type": "code",
   "execution_count": 2,
   "metadata": {},
   "outputs": [],
   "source": [
    "\n",
    "file_name = \"https://github.com/king-glitch/cs-434/raw/main/data/googleplaystore.csv\"\n",
    "df_temp = pd.read_csv(file_name, encoding=\"utf-8\")\n"
   ]
  },
  {
   "cell_type": "markdown",
   "metadata": {},
   "source": [
    "<a id='basic_understanding' ></a>\n",
    "\n",
    "# **Basic Data Exploration**\n"
   ]
  },
  {
   "cell_type": "code",
   "execution_count": 3,
   "metadata": {},
   "outputs": [
    {
     "data": {
      "text/html": [
       "<div>\n",
       "<style scoped>\n",
       "    .dataframe tbody tr th:only-of-type {\n",
       "        vertical-align: middle;\n",
       "    }\n",
       "\n",
       "    .dataframe tbody tr th {\n",
       "        vertical-align: top;\n",
       "    }\n",
       "\n",
       "    .dataframe thead th {\n",
       "        text-align: right;\n",
       "    }\n",
       "</style>\n",
       "<table border=\"1\" class=\"dataframe\">\n",
       "  <thead>\n",
       "    <tr style=\"text-align: right;\">\n",
       "      <th></th>\n",
       "      <th>App</th>\n",
       "      <th>Category</th>\n",
       "      <th>Rating</th>\n",
       "      <th>Reviews</th>\n",
       "      <th>Size</th>\n",
       "      <th>Installs</th>\n",
       "      <th>Type</th>\n",
       "      <th>Price</th>\n",
       "      <th>Content Rating</th>\n",
       "      <th>Genres</th>\n",
       "      <th>Last Updated</th>\n",
       "      <th>Current Ver</th>\n",
       "      <th>Android Ver</th>\n",
       "    </tr>\n",
       "  </thead>\n",
       "  <tbody>\n",
       "    <tr>\n",
       "      <th>7870</th>\n",
       "      <td>Interactive CT &amp; MRI Anat.Lite</td>\n",
       "      <td>MEDICAL</td>\n",
       "      <td>3.8</td>\n",
       "      <td>534</td>\n",
       "      <td>14M</td>\n",
       "      <td>100,000+</td>\n",
       "      <td>Free</td>\n",
       "      <td>0</td>\n",
       "      <td>Everyone</td>\n",
       "      <td>Medical</td>\n",
       "      <td>July 30, 2012</td>\n",
       "      <td>1.2</td>\n",
       "      <td>2.2 and up</td>\n",
       "    </tr>\n",
       "    <tr>\n",
       "      <th>7731</th>\n",
       "      <td>CQ ESPM</td>\n",
       "      <td>BUSINESS</td>\n",
       "      <td>5.0</td>\n",
       "      <td>2</td>\n",
       "      <td>3.4M</td>\n",
       "      <td>5+</td>\n",
       "      <td>Free</td>\n",
       "      <td>0</td>\n",
       "      <td>Everyone</td>\n",
       "      <td>Business</td>\n",
       "      <td>June 3, 2017</td>\n",
       "      <td>1.0.1</td>\n",
       "      <td>4.1 and up</td>\n",
       "    </tr>\n",
       "    <tr>\n",
       "      <th>281</th>\n",
       "      <td>Invoice &amp; Time Tracking - Zoho</td>\n",
       "      <td>BUSINESS</td>\n",
       "      <td>4.6</td>\n",
       "      <td>5800</td>\n",
       "      <td>8.6M</td>\n",
       "      <td>100,000+</td>\n",
       "      <td>Free</td>\n",
       "      <td>0</td>\n",
       "      <td>Everyone</td>\n",
       "      <td>Business</td>\n",
       "      <td>August 2, 2018</td>\n",
       "      <td>5.20.7</td>\n",
       "      <td>4.1 and up</td>\n",
       "    </tr>\n",
       "    <tr>\n",
       "      <th>10748</th>\n",
       "      <td>FP Live</td>\n",
       "      <td>COMMUNICATION</td>\n",
       "      <td>NaN</td>\n",
       "      <td>0</td>\n",
       "      <td>3.3M</td>\n",
       "      <td>10+</td>\n",
       "      <td>Free</td>\n",
       "      <td>0</td>\n",
       "      <td>Teen</td>\n",
       "      <td>Communication</td>\n",
       "      <td>November 3, 2017</td>\n",
       "      <td>1.2.4</td>\n",
       "      <td>4.2 and up</td>\n",
       "    </tr>\n",
       "    <tr>\n",
       "      <th>10749</th>\n",
       "      <td>FP Runner</td>\n",
       "      <td>GAME</td>\n",
       "      <td>3.7</td>\n",
       "      <td>38</td>\n",
       "      <td>29M</td>\n",
       "      <td>1,000+</td>\n",
       "      <td>Free</td>\n",
       "      <td>0</td>\n",
       "      <td>Everyone</td>\n",
       "      <td>Arcade</td>\n",
       "      <td>June 29, 2016</td>\n",
       "      <td>1.12</td>\n",
       "      <td>3.1 and up</td>\n",
       "    </tr>\n",
       "  </tbody>\n",
       "</table>\n",
       "</div>"
      ],
      "text/plain": [
       "                                  App       Category  Rating Reviews  Size  \\\n",
       "7870   Interactive CT & MRI Anat.Lite        MEDICAL     3.8     534   14M   \n",
       "7731                          CQ ESPM       BUSINESS     5.0       2  3.4M   \n",
       "281    Invoice & Time Tracking - Zoho       BUSINESS     4.6    5800  8.6M   \n",
       "10748                         FP Live  COMMUNICATION     NaN       0  3.3M   \n",
       "10749                       FP Runner           GAME     3.7      38   29M   \n",
       "\n",
       "       Installs  Type Price Content Rating         Genres      Last Updated  \\\n",
       "7870   100,000+  Free     0       Everyone        Medical     July 30, 2012   \n",
       "7731         5+  Free     0       Everyone       Business      June 3, 2017   \n",
       "281    100,000+  Free     0       Everyone       Business    August 2, 2018   \n",
       "10748       10+  Free     0           Teen  Communication  November 3, 2017   \n",
       "10749    1,000+  Free     0       Everyone         Arcade     June 29, 2016   \n",
       "\n",
       "      Current Ver Android Ver  \n",
       "7870          1.2  2.2 and up  \n",
       "7731        1.0.1  4.1 and up  \n",
       "281        5.20.7  4.1 and up  \n",
       "10748       1.2.4  4.2 and up  \n",
       "10749        1.12  3.1 and up  "
      ]
     },
     "execution_count": 3,
     "metadata": {},
     "output_type": "execute_result"
    }
   ],
   "source": [
    "df_temp.sample(5)\n"
   ]
  },
  {
   "cell_type": "code",
   "execution_count": 4,
   "metadata": {},
   "outputs": [
    {
     "name": "stdout",
     "output_type": "stream",
     "text": [
      "<class 'pandas.core.frame.DataFrame'>\n",
      "RangeIndex: 10841 entries, 0 to 10840\n",
      "Data columns (total 13 columns):\n",
      " #   Column          Non-Null Count  Dtype  \n",
      "---  ------          --------------  -----  \n",
      " 0   App             10841 non-null  object \n",
      " 1   Category        10841 non-null  object \n",
      " 2   Rating          9367 non-null   float64\n",
      " 3   Reviews         10841 non-null  object \n",
      " 4   Size            10841 non-null  object \n",
      " 5   Installs        10841 non-null  object \n",
      " 6   Type            10840 non-null  object \n",
      " 7   Price           10841 non-null  object \n",
      " 8   Content Rating  10840 non-null  object \n",
      " 9   Genres          10841 non-null  object \n",
      " 10  Last Updated    10841 non-null  object \n",
      " 11  Current Ver     10833 non-null  object \n",
      " 12  Android Ver     10838 non-null  object \n",
      "dtypes: float64(1), object(12)\n",
      "memory usage: 1.1+ MB\n"
     ]
    }
   ],
   "source": [
    "\n",
    "df_temp.info()\n"
   ]
  },
  {
   "cell_type": "code",
   "execution_count": 5,
   "metadata": {},
   "outputs": [
    {
     "data": {
      "text/plain": [
       "App                  0\n",
       "Category             0\n",
       "Rating            1474\n",
       "Reviews              0\n",
       "Size                 0\n",
       "Installs             0\n",
       "Type                 1\n",
       "Price                0\n",
       "Content Rating       1\n",
       "Genres               0\n",
       "Last Updated         0\n",
       "Current Ver          8\n",
       "Android Ver          3\n",
       "dtype: int64"
      ]
     },
     "execution_count": 5,
     "metadata": {},
     "output_type": "execute_result"
    }
   ],
   "source": [
    "# check null\n",
    "df_temp.isna().sum()\n"
   ]
  },
  {
   "cell_type": "markdown",
   "metadata": {},
   "source": [
    "_จะเห็นได้ว่า rating มีข้อมูลเสียเยอะ_\n"
   ]
  },
  {
   "cell_type": "markdown",
   "metadata": {},
   "source": [
    "<a id='data_cleaning' ></a>\n",
    "\n",
    "# **Data Cleaning**\n",
    "\n",
    "> เราจะใช้ข้อมูลที่จำเป็นสำหรับการใช้ข้อมูลนี้เท่านั้น  \n",
    "> เช็คข้อมูล insight หลักๆ ที่อาจจะทำให้เรามีปัญหาในการใช้ข้อมูล  \n",
    "> ข้อมูลที่ไม่จำเป็นเราจะนำออกไป เช่น rating, reviews บลาๆ  \n",
    ">\n"
   ]
  },
  {
   "cell_type": "code",
   "execution_count": 6,
   "metadata": {},
   "outputs": [],
   "source": [
    "# copy ข้อมูลใส่ตัวแปลใหม่\n",
    "df = df_temp.copy()\n"
   ]
  },
  {
   "cell_type": "markdown",
   "metadata": {},
   "source": [
    "#### ปรับแต่งคอลลั่ม\n",
    "_เอาเข้าเฉพาะคอลลั่มที่จำเป็น อันที่ไม่จำเป็นให้เอาออก_"
   ]
  },
  {
   "cell_type": "code",
   "execution_count": 7,
   "metadata": {},
   "outputs": [
    {
     "data": {
      "text/plain": [
       "(10841, 8)"
      ]
     },
     "execution_count": 7,
     "metadata": {},
     "output_type": "execute_result"
    }
   ],
   "source": [
    "\n",
    "# remove unuse cols\n",
    "df = df.reindex(columns=['App', 'Category', 'Size',\n",
    "                'Type', 'Genres', 'Price', 'Installs', 'Content Rating'])\n",
    "\n",
    "df.shape"
   ]
  },
  {
   "cell_type": "code",
   "execution_count": 8,
   "metadata": {},
   "outputs": [],
   "source": [
    "# rename col\n",
    "temp_keys = {}\n",
    "for i in df.columns:\n",
    "    temp_keys[i] = i.lower()\n",
    "df = df.rename(columns=temp_keys)\n"
   ]
  },
  {
   "cell_type": "markdown",
   "metadata": {},
   "source": [
    "#### ดรอปข้อมูลที่เสียหาย\n",
    "- เช็คว่าข้อมูลเสียหายเยอะไหม"
   ]
  },
  {
   "cell_type": "code",
   "execution_count": 9,
   "metadata": {},
   "outputs": [
    {
     "data": {
      "text/plain": [
       "app               0\n",
       "category          0\n",
       "size              0\n",
       "type              1\n",
       "genres            0\n",
       "price             0\n",
       "installs          0\n",
       "content rating    1\n",
       "dtype: int64"
      ]
     },
     "execution_count": 9,
     "metadata": {},
     "output_type": "execute_result"
    }
   ],
   "source": [
    "df.isna().sum()\n",
    "# ข้อมูลที่เสียมีน้อยมาก"
   ]
  },
  {
   "cell_type": "markdown",
   "metadata": {},
   "source": [
    "- ลบข้อมูลที่ซ้ำ"
   ]
  },
  {
   "cell_type": "code",
   "execution_count": 10,
   "metadata": {},
   "outputs": [
    {
     "data": {
      "text/plain": [
       "(9660, 8)"
      ]
     },
     "execution_count": 10,
     "metadata": {},
     "output_type": "execute_result"
    }
   ],
   "source": [
    "# ลบข้อมูลที่ซ้ำๆ\n",
    "df.drop_duplicates(subset='app', inplace=True)\n",
    "df.shape\n"
   ]
  },
  {
   "cell_type": "markdown",
   "metadata": {},
   "source": [
    "\n",
    "- เอาข้อมูลที่เสียหายออก"
   ]
  },
  {
   "cell_type": "code",
   "execution_count": 11,
   "metadata": {},
   "outputs": [
    {
     "data": {
      "text/plain": [
       "(9658, 8)"
      ]
     },
     "execution_count": 11,
     "metadata": {},
     "output_type": "execute_result"
    }
   ],
   "source": [
    "# เราจะทำการลบข้อมูล ที่เสียหาย\n",
    "df.dropna(axis=0, inplace=True)\n",
    "df.shape\n"
   ]
  },
  {
   "cell_type": "markdown",
   "metadata": {},
   "source": [
    "_ข้อมูลที่เสียหายหมดแล้วว_\n",
    "\n",
    "#### เช็คแต่ละตารางที่อาจจะมีปัญหา\n",
    "\n",
    "- **ตาราง column rating**\n"
   ]
  },
  {
   "cell_type": "code",
   "execution_count": 12,
   "metadata": {},
   "outputs": [
    {
     "data": {
      "text/plain": [
       "content rating\n",
       "Adults only 18+       3\n",
       "Everyone           7903\n",
       "Everyone 10+        321\n",
       "Mature 17+          393\n",
       "Teen               1036\n",
       "Unrated               2\n",
       "Name: content rating, dtype: int64"
      ]
     },
     "execution_count": 12,
     "metadata": {},
     "output_type": "execute_result"
    }
   ],
   "source": [
    "df.groupby(['content rating'])['content rating'].count()\n"
   ]
  },
  {
   "cell_type": "markdown",
   "metadata": {},
   "source": [
    "_จากข้อมูลชุดนี้ Unrate น่าจะหมายถึง everyone_\n",
    "\n",
    "#### ทำการเปลี่ยนข้อมูล\n"
   ]
  },
  {
   "cell_type": "code",
   "execution_count": 13,
   "metadata": {},
   "outputs": [
    {
     "data": {
      "text/plain": [
       "content rating\n",
       "Adults only 18+       3\n",
       "Everyone           7905\n",
       "Everyone 10+        321\n",
       "Mature 17+          393\n",
       "Teen               1036\n",
       "Name: content rating, dtype: int64"
      ]
     },
     "execution_count": 13,
     "metadata": {},
     "output_type": "execute_result"
    }
   ],
   "source": [
    "df.loc[df['content rating'] == 'Unrated', ['content rating']] = 'Everyone'\n",
    "\n",
    "df.groupby(['content rating'])['content rating'].count()\n"
   ]
  },
  {
   "cell_type": "markdown",
   "metadata": {},
   "source": [
    "_ข้อมูลถูกเปลี่ยนแล้วเย้_\n",
    "\n",
    "- **column category**"
   ]
  },
  {
   "cell_type": "code",
   "execution_count": 14,
   "metadata": {},
   "outputs": [
    {
     "data": {
      "text/plain": [
       "category\n",
       "ART_AND_DESIGN           64\n",
       "AUTO_AND_VEHICLES        85\n",
       "BEAUTY                   53\n",
       "BOOKS_AND_REFERENCE     222\n",
       "BUSINESS                420\n",
       "COMICS                   56\n",
       "COMMUNICATION           315\n",
       "DATING                  171\n",
       "EDUCATION               119\n",
       "ENTERTAINMENT           102\n",
       "EVENTS                   64\n",
       "FAMILY                 1831\n",
       "FINANCE                 345\n",
       "FOOD_AND_DRINK          112\n",
       "GAME                    959\n",
       "HEALTH_AND_FITNESS      288\n",
       "HOUSE_AND_HOME           74\n",
       "LIBRARIES_AND_DEMO       84\n",
       "LIFESTYLE               369\n",
       "MAPS_AND_NAVIGATION     131\n",
       "MEDICAL                 395\n",
       "NEWS_AND_MAGAZINES      254\n",
       "PARENTING                60\n",
       "PERSONALIZATION         376\n",
       "PHOTOGRAPHY             281\n",
       "PRODUCTIVITY            374\n",
       "SHOPPING                202\n",
       "SOCIAL                  239\n",
       "SPORTS                  325\n",
       "TOOLS                   827\n",
       "TRAVEL_AND_LOCAL        219\n",
       "VIDEO_PLAYERS           163\n",
       "WEATHER                  79\n",
       "Name: category, dtype: int64"
      ]
     },
     "execution_count": 14,
     "metadata": {},
     "output_type": "execute_result"
    }
   ],
   "source": [
    "\n",
    "df.groupby(['category'])['category'].count()\n"
   ]
  },
  {
   "cell_type": "markdown",
   "metadata": {},
   "source": [
    "- **column genres**"
   ]
  },
  {
   "cell_type": "code",
   "execution_count": 15,
   "metadata": {},
   "outputs": [
    {
     "data": {
      "text/plain": [
       "genres\n",
       "Action                                   299\n",
       "Action;Action & Adventure                 12\n",
       "Adventure                                 73\n",
       "Adventure;Action & Adventure               5\n",
       "Adventure;Brain Games                      1\n",
       "                                        ... \n",
       "Video Players & Editors                  162\n",
       "Video Players & Editors;Creativity         1\n",
       "Video Players & Editors;Music & Video      2\n",
       "Weather                                   79\n",
       "Word                                      23\n",
       "Name: genres, Length: 118, dtype: int64"
      ]
     },
     "execution_count": 15,
     "metadata": {},
     "output_type": "execute_result"
    }
   ],
   "source": [
    "# มาดูส่วนของ genres\n",
    "df.groupby(['genres'])['genres'].count()\n"
   ]
  },
  {
   "cell_type": "markdown",
   "metadata": {},
   "source": [
    "_จะเป็นได้ว่าบาง genres มีมา่กกว่า 1 รูปแบบ ซึ่งแบ่งด้วย ตัว semi colon_  \n",
    "_เราจะแบ่งตัว genres ให้เป็นรูปแบบ ว่าตัว genres มันมีเท่าไหร่_\n"
   ]
  },
  {
   "cell_type": "code",
   "execution_count": 16,
   "metadata": {},
   "outputs": [
    {
     "data": {
      "text/plain": [
       "{'Art & Design': 65,\n",
       " 'Pretend Play': 69,\n",
       " 'Creativity': 33,\n",
       " 'Action & Adventure': 98,\n",
       " 'Auto & Vehicles': 85,\n",
       " 'Beauty': 53,\n",
       " 'Books & Reference': 225,\n",
       " 'Business': 420,\n",
       " 'Comics': 56,\n",
       " 'Communication': 316,\n",
       " 'Dating': 171,\n",
       " 'Education': 678,\n",
       " 'Music & Video': 31,\n",
       " 'Brain Games': 64,\n",
       " 'Entertainment': 592,\n",
       " 'Events': 64,\n",
       " 'Finance': 345,\n",
       " 'Food & Drink': 112,\n",
       " 'Health & Fitness': 290,\n",
       " 'House & Home': 74,\n",
       " 'Libraries & Demo': 84,\n",
       " 'Lifestyle': 370,\n",
       " 'Adventure': 80,\n",
       " 'Arcade': 199,\n",
       " 'Casual': 225,\n",
       " 'Card': 49,\n",
       " 'Action': 311,\n",
       " 'Strategy': 98,\n",
       " 'Puzzle': 142,\n",
       " 'Sports': 335,\n",
       " 'Music': 22,\n",
       " 'Word': 23,\n",
       " 'Racing': 108,\n",
       " 'Simulation': 206,\n",
       " 'Board': 60,\n",
       " 'Trivia': 39,\n",
       " 'Role Playing': 115,\n",
       " 'Educational': 102,\n",
       " 'Music & Audio': 1,\n",
       " 'Video Players & Editors': 165,\n",
       " 'Medical': 395,\n",
       " 'Social': 239,\n",
       " 'Shopping': 202,\n",
       " 'Photography': 281,\n",
       " 'Travel & Local': 219,\n",
       " 'Tools': 827,\n",
       " 'Personalization': 376,\n",
       " 'Productivity': 374,\n",
       " 'Parenting': 60,\n",
       " 'Weather': 79,\n",
       " 'News & Magazines': 254,\n",
       " 'Maps & Navigation': 131,\n",
       " 'Casino': 39}"
      ]
     },
     "execution_count": 16,
     "metadata": {},
     "output_type": "execute_result"
    }
   ],
   "source": [
    "\n",
    "genres = df['genres']\n",
    "genres_results = {}\n",
    "for gen in genres:\n",
    "    for g in gen.split(';'):\n",
    "        if g not in genres_results:\n",
    "            genres_results[g] = 1\n",
    "            continue\n",
    "        genres_results[g] += 1\n",
    "genres_results\n"
   ]
  },
  {
   "cell_type": "markdown",
   "metadata": {},
   "source": [
    "#### เปลี่ยน Column Size ให้เป็น kilobytes ทั้งหมด"
   ]
  },
  {
   "cell_type": "code",
   "execution_count": 17,
   "metadata": {},
   "outputs": [],
   "source": [
    "def convert_size(s):\n",
    "    if s.replace('M', '').replace('.', '', 1).isdigit():\n",
    "        size = float(s.replace('M', ''))\n",
    "        return 1024 * size\n",
    "    if s.replace('k', '').replace('.', '', 1).isdigit():\n",
    "        return float(s.replace('k', ''))\n",
    "    return 0\n"
   ]
  },
  {
   "cell_type": "markdown",
   "metadata": {},
   "source": [
    "> จะเห็นได้ว่า size เป็น type object ต้องเปลี่ยนเป็น int  \n",
    "> ซึ่งเราจะแปลกตัวเลขนี้ ให้เป็นค่า kb ทั้งหมด จะได้ใช้ได้ง่าย เมื่อมีค่าอิน\n",
    "> นอกจากตัวค่า mb\n"
   ]
  },
  {
   "cell_type": "code",
   "execution_count": 18,
   "metadata": {},
   "outputs": [
    {
     "data": {
      "text/plain": [
       "8943     2662.4\n",
       "6947      554.0\n",
       "387     25600.0\n",
       "4993     1945.6\n",
       "6659    12288.0\n",
       "Name: size, dtype: float64"
      ]
     },
     "execution_count": 18,
     "metadata": {},
     "output_type": "execute_result"
    }
   ],
   "source": [
    "df['size'] = df['size'].apply(convert_size)\n",
    "df['size'].sample(5)\n"
   ]
  },
  {
   "cell_type": "markdown",
   "metadata": {},
   "source": [
    "- **column installs**  \n",
    "\n",
    "\n",
    "_จะเห็นได้ว่า installs เป็น type object ต้องเปลี่ยนเป็น int_\n"
   ]
  },
  {
   "cell_type": "code",
   "execution_count": 19,
   "metadata": {},
   "outputs": [
    {
     "data": {
      "text/plain": [
       "5378     10,000+\n",
       "9605    100,000+\n",
       "Name: installs, dtype: object"
      ]
     },
     "execution_count": 19,
     "metadata": {},
     "output_type": "execute_result"
    }
   ],
   "source": [
    "df['installs'].sample(2)\n"
   ]
  },
  {
   "cell_type": "markdown",
   "metadata": {},
   "source": [
    "_ข้อมูลจะมี + ตามหลัง และ comma เราจะนำออก; และเปลี่ยนค่าเป็น int32_\n"
   ]
  },
  {
   "cell_type": "code",
   "execution_count": 20,
   "metadata": {},
   "outputs": [
    {
     "data": {
      "text/plain": [
       "0           10000\n",
       "1          500000\n",
       "2         5000000\n",
       "3        50000000\n",
       "4          100000\n",
       "           ...   \n",
       "10836        5000\n",
       "10837         100\n",
       "10838        1000\n",
       "10839        1000\n",
       "10840    10000000\n",
       "Name: installs, Length: 9658, dtype: int32"
      ]
     },
     "execution_count": 20,
     "metadata": {},
     "output_type": "execute_result"
    }
   ],
   "source": [
    "df['installs'] = df['installs'].str.replace(\n",
    "    '+', '', regex=True).replace(',', '', regex=True).astype(int)\n",
    "df['installs']\n"
   ]
  },
  {
   "cell_type": "code",
   "execution_count": 21,
   "metadata": {},
   "outputs": [
    {
     "data": {
      "text/plain": [
       "6720     0.00\n",
       "5480     0.99\n",
       "8799     0.00\n",
       "10255    0.00\n",
       "3338     0.00\n",
       "Name: price, dtype: float64"
      ]
     },
     "execution_count": 21,
     "metadata": {},
     "output_type": "execute_result"
    }
   ],
   "source": [
    "# price จะมีสองรูปแบบคือ free กับ paid ต้องเปลี่ยนเป็น bin ถึงจะได้ง่ายต่อการทำงาน\n",
    "\n",
    "df.loc[df['price'] != \"Free\", 'price'] = df.loc[df['price']\n",
    "                                                != \"Free\", 'price'].apply(lambda x: float(x.replace('$', '')))\n",
    "\n",
    "df.loc[df['price'] == 'Free', 'price'] = 0\n",
    "\n",
    "df['price'].sample(5)\n"
   ]
  },
  {
   "cell_type": "markdown",
   "metadata": {},
   "source": [
    "<a id='eda'></a>\n",
    "\n",
    "# **Exploratory Data Analysis**\n"
   ]
  },
  {
   "cell_type": "markdown",
   "metadata": {},
   "source": [
    "### ดูประรูปแบบของอายุของแต่ละประเภท\n",
    "\n",
    "    ดูว่าแต่แอพแต่ละประเภทนั้นมีความนิยมในช่วงอายุไหน\n"
   ]
  },
  {
   "cell_type": "code",
   "execution_count": 22,
   "metadata": {},
   "outputs": [
    {
     "data": {
      "image/png": "[encoded data removed]",
      "text/plain": [
       "<Figure size 720x720 with 1 Axes>"
      ]
     },
     "metadata": {},
     "output_type": "display_data"
    }
   ],
   "source": [
    "plt.figure(figsize=(10, 10))\n",
    "category_dict = dict(df[['content rating']].groupby(\n",
    "    'content rating')['content rating'].count())\n",
    "data_plot = dict(sorted(category_dict.items(),\n",
    "                 key=lambda kv: kv[1], reverse=True))\n",
    "data_plot = [key for key, val in data_plot.items() for _ in range(val)]\n",
    "sns.countplot(y=data_plot)\n",
    "plt.show()\n",
    "\n",
    "# bar chart\n"
   ]
  },
  {
   "cell_type": "markdown",
   "metadata": {},
   "source": [
    "*จะเห็นได้ว่า ความนิยมส่วนใหญ่นั้น จะเน้นนิยมไปทางทุกช่วงอายุคน*"
   ]
  },
  {
   "cell_type": "markdown",
   "metadata": {},
   "source": [
    "### ดูความนิยมของ 20 อันดับแรกของ แต่ละหมวดหมู่\n",
    "\n",
    "    ดูว่าแต่แอพแต่ละหมวดหมู่นั้นมีความนิยมเป็นประเภทไหนซะส่วนใหญ่\n"
   ]
  },
  {
   "cell_type": "code",
   "execution_count": 23,
   "metadata": {},
   "outputs": [
    {
     "data": {
      "image/png": "[encoded data removed]",
      "text/plain": [
       "<Figure size 720x720 with 1 Axes>"
      ]
     },
     "metadata": {},
     "output_type": "display_data"
    }
   ],
   "source": [
    "plt.figure(figsize=(10, 10))\n",
    "category_dict = dict(df[['category']].groupby(\n",
    "    'category')['category'].count().nlargest(20))\n",
    "data_plot = dict(sorted(category_dict.items(),\n",
    "                 key=lambda kv: kv[1], reverse=True))\n",
    "data_plot = [key for key, val in data_plot.items() for _ in range(val)]\n",
    "sns.countplot(y=data_plot)\n",
    "plt.show()\n"
   ]
  },
  {
   "cell_type": "markdown",
   "metadata": {},
   "source": [
    "*แอพหมวดหมู่ FAMILY จะมีเยอะที่สุด และ ตามมาด้วย GAME ใน Google Play Store*\n"
   ]
  },
  {
   "cell_type": "markdown",
   "metadata": {},
   "source": [
    "### ดูความนิยมของแต่ละประเภทในแต่ละแอพ\n",
    "\n",
    "    ดูว่าแต่ละแอพนั้นนิยมประเภทแบบไหนบ้าง\n"
   ]
  },
  {
   "cell_type": "code",
   "execution_count": 24,
   "metadata": {},
   "outputs": [
    {
     "data": {
      "image/png": "[encoded data removed]",
      "text/plain": [
       "<Figure size 720x720 with 1 Axes>"
      ]
     },
     "metadata": {},
     "output_type": "display_data"
    }
   ],
   "source": [
    "# ดูความนิยมของแต่ละ tag ในแอพ\n",
    "plt.figure(figsize=(10, 10))\n",
    "data_plot = dict(sorted(genres_results.items(),\n",
    "                 key=lambda kv: kv[1], reverse=True))\n",
    "data_plot = [key for key, val in data_plot.items() for _ in range(val)]\n",
    "sns.countplot(y=data_plot)\n",
    "plt.show()\n"
   ]
  },
  {
   "cell_type": "markdown",
   "metadata": {},
   "source": [
    "*แอพประเภท Tools จะมีเยอะที่สุดใน Google Play Store*\n"
   ]
  },
  {
   "cell_type": "markdown",
   "metadata": {},
   "source": [
    "### ดูหมวดหมูแต่ละหมวดหมู่ว่า หมวดหมู่ไหนนิยมเสียเงิน\n",
    "\n",
    "    แสดงหมวดหมูที่นิยมเสียเงิน\n"
   ]
  },
  {
   "cell_type": "code",
   "execution_count": 25,
   "metadata": {},
   "outputs": [
    {
     "data": {
      "image/png": "[encoded data removed]",
      "text/plain": [
       "<Figure size 720x720 with 1 Axes>"
      ]
     },
     "metadata": {},
     "output_type": "display_data"
    }
   ],
   "source": [
    "plt.figure(figsize=(10, 10))\n",
    "price_sort = df.loc[df.type == 'Paid', ['price', 'category']]\n",
    "data_plot = dict(price_sort.sort_values(by=['price'], ascending=False))\n",
    "sns.barplot(data=data_plot, x='price', y='category')\n",
    "plt.show()"
   ]
  },
  {
   "cell_type": "markdown",
   "metadata": {},
   "source": [
    "### ดูหมวดหมูแต่ละหมวดหมู่ว่า คนนิยมติดตั้งประเภทไหน\n",
    "\n",
    "    แสดงหมวดหมูที่คนนิยมติดตั้งประเภทไหน ค่าหนวยเป็น (หมื่นล้าน)\n"
   ]
  },
  {
   "cell_type": "code",
   "execution_count": 26,
   "metadata": {},
   "outputs": [
    {
     "data": {
      "image/png": "[encoded data removed]",
      "text/plain": [
       "<Figure size 720x720 with 1 Axes>"
      ]
     },
     "metadata": {},
     "output_type": "display_data"
    }
   ],
   "source": [
    "plt.figure(figsize=(10, 10))\n",
    "category_dict = dict(df[['installs', 'category']].groupby(\n",
    "    'category')['installs'].sum())\n",
    "data_plot = dict(sorted(category_dict.items(),\n",
    "                 key=lambda kv: kv[1], reverse=True))\n",
    "keys = list(data_plot.keys())\n",
    "vals = [int(data_plot[k]) for k in keys]\n",
    "sns.barplot(y=keys, x=vals)\n",
    "plt.show()\n"
   ]
  },
  {
   "cell_type": "markdown",
   "metadata": {},
   "source": [
    "_คนจะนิยมติดตั้งแนวเกมเป็นหลัก ตามด้วยประเภทแอพแบบสื่อสาร_"
   ]
  },
  {
   "cell_type": "markdown",
   "metadata": {},
   "source": [
    "*จะเห็นได้ว่า หมวดหมู่ LIFT STYLE จะแพงที่สุด แต่หมวดหมู่ FINANCE\n",
    "แอพส่วนใหญ่แน่นเป็นแอพเสียเงิน*\n"
   ]
  },
  {
   "cell_type": "markdown",
   "metadata": {},
   "source": [
    "<a id='feature_engineering'></a>\n",
    "\n",
    "# **Feature Engineering**\n",
    "\n",
    "#### เราจะทำในเรื่องของ App Recommendation\n",
    "- เราจะใช้ตัว CountVectorizer เพราะเราจะใช้ข้อมูลที่ใช้ในการค้นหาเป็นหลักๆ"
   ]
  },
  {
   "cell_type": "code",
   "execution_count": 27,
   "metadata": {},
   "outputs": [],
   "source": [
    "# เรียกใช้ตัว CountVectorizer\n",
    "count_vectorizer = CountVectorizer(lowercase=True, stop_words='english')\n",
    "tfidf_vectorizer = TfidfVectorizer(lowercase=True, stop_words='english')\n"
   ]
  },
  {
   "cell_type": "markdown",
   "metadata": {},
   "source": [
    "*แต่ก่อนอื่นเราต้องจัดข้อมูลใหม่ก่อน ให้ ตัว CountVectorizer จะได้แบ่งคำง่ายๆ*\n",
    "\n",
    "- เราจะตัดประเภทและหมวดหมู่ที่ซ้ำออก"
   ]
  },
  {
   "cell_type": "code",
   "execution_count": 28,
   "metadata": {},
   "outputs": [
    {
     "data": {
      "text/plain": [
       "9337     TRAVELLOCAL;EVERYONE;PAID\n",
       "2253         MEDICAL;EVERYONE;PAID\n",
       "2942    PHOTOGRAPHY;MATURE17+;FREE\n",
       "5629         ACTION;GAME;TEEN;FREE\n",
       "4580     STRATEGY;FAMILY;TEEN;FREE\n",
       "dtype: object"
      ]
     },
     "execution_count": 28,
     "metadata": {},
     "output_type": "execute_result"
    }
   ],
   "source": [
    "# สร้างข้อมูลของ content\n",
    "\n",
    "\n",
    "def construct_content(x: str):\n",
    "    join_genres = \"\".join(x.split(' '))\n",
    "    join_category = \"\".join(join_genres.upper().split('_AND_'))\n",
    "\n",
    "    results = []\n",
    "\n",
    "    for i in join_category.split(';'):\n",
    "        if i not in results:\n",
    "            results.append(i)\n",
    "\n",
    "    return \";\".join(results)\n",
    "\n",
    "\n",
    "describe = (df['genres'].replace(to_replace='(;|&| +)', value=' ',\n",
    "            regex=True) + \";\" + df['category'] + \";\" + df['content rating'] + \";\" + df['type']).apply(lambda x: construct_content(x))\n",
    "describe.sample(5)\n"
   ]
  },
  {
   "cell_type": "markdown",
   "metadata": {},
   "source": [
    "#### สร้างตัว matrix ที่แนะนำ content คล้ายๆ กัน"
   ]
  },
  {
   "cell_type": "code",
   "execution_count": 29,
   "metadata": {},
   "outputs": [
    {
     "name": "stdout",
     "output_type": "stream",
     "text": [
      "Content Similarity : 0.86 second\n"
     ]
    },
    {
     "data": {
      "text/plain": [
       "(9658, 127)"
      ]
     },
     "execution_count": 29,
     "metadata": {},
     "output_type": "execute_result"
    }
   ],
   "source": [
    "\n",
    "time_start = time.time()\n",
    "content_count_matrix = count_vectorizer.fit_transform(describe)\n",
    "content_cosine_sim = cosine_similarity(\n",
    "    content_count_matrix, content_count_matrix)\n",
    "time_end = time.time()\n",
    "print(f\"Content Similarity : {round(time_end - time_start, 2)} second\")\n",
    "content_count_matrix.shape\n"
   ]
  },
  {
   "cell_type": "markdown",
   "metadata": {},
   "source": [
    "#### สร้างตัว matrix ที่แนะนำ catetory, genres คล้ายๆ กัน"
   ]
  },
  {
   "cell_type": "code",
   "execution_count": 30,
   "metadata": {},
   "outputs": [
    {
     "name": "stdout",
     "output_type": "stream",
     "text": [
      "Type Similarity : 0.24 second\n"
     ]
    },
    {
     "data": {
      "text/plain": [
       "(9658, 121)"
      ]
     },
     "execution_count": 30,
     "metadata": {},
     "output_type": "execute_result"
    }
   ],
   "source": [
    "# สร้างตัว matrix สำหรับ content ที่คล้ายแกัน โดยไม่สนว่าจ่ายเงินหรือไม่จ่าย\n",
    "time_start = time.time()\n",
    "type_count_matrix = tfidf_vectorizer.fit_transform((df['genres'].replace(\n",
    "    to_replace='(;|&| +)', value=' ', regex=True)+';' + df['category']).apply(lambda x: construct_content(x)))\n",
    "type_cosine_sim = linear_kernel(type_count_matrix, type_count_matrix)\n",
    "time_end = time.time()\n",
    "print(f\"Type Similarity : {round(time_end - time_start, 2)} second\")\n",
    "type_count_matrix.shape\n"
   ]
  },
  {
   "cell_type": "markdown",
   "metadata": {},
   "source": [
    "#### สร้างตัว matrix ที่แนะนำ app, category คล้ายๆ กัน"
   ]
  },
  {
   "cell_type": "code",
   "execution_count": 31,
   "metadata": {},
   "outputs": [
    {
     "name": "stdout",
     "output_type": "stream",
     "text": [
      "Name Similarity : 0.28 second\n"
     ]
    },
    {
     "data": {
      "text/plain": [
       "(9658, 8570)"
      ]
     },
     "execution_count": 31,
     "metadata": {},
     "output_type": "execute_result"
    }
   ],
   "source": [
    "# สร้างตัว matrix สำหรับ ชื่อแอพที่คล้ายๆ กีน\n",
    "time_start = time.time()\n",
    "name_count_matrix = tfidf_vectorizer.fit_transform(\n",
    "    (df['genres'].replace(\n",
    "        to_replace='(;|&| +)', value=' ', regex=True)+';' + df['app']))\n",
    "name_cosine_sim = linear_kernel(name_count_matrix, name_count_matrix)\n",
    "time_end = time.time()\n",
    "print(f\"Name Similarity : {round(time_end - time_start, 2)} second\")\n",
    "name_count_matrix.shape\n"
   ]
  },
  {
   "cell_type": "markdown",
   "metadata": {},
   "source": [
    "#### สร้างตัว ตัวคลาสที่แนะนำข้อมูล"
   ]
  },
  {
   "cell_type": "code",
   "execution_count": 32,
   "metadata": {},
   "outputs": [],
   "source": [
    "class Recommendations:\n",
    "    def __init__(self, name: str, amount: int = 10):\n",
    "        self.name = self.nearest_name(name)\n",
    "        self.amount = amount\n",
    "\n",
    "    def nearest_name(self, name: str):\n",
    "        close = self.get_close_matches(name)\n",
    "        get_sr = df['app'][df['app'].isin([name])]\n",
    "        if len(get_sr) != 0:\n",
    "            return get_sr.iloc[0]\n",
    "        elif close:\n",
    "            return close[0]\n",
    "        return None\n",
    "\n",
    "    def get_close_matches(self, name: str):\n",
    "        global df\n",
    "        get_sr2 = df['app'][df['app'].apply(\n",
    "            lambda x: x.lower()).str.contains(name.lower())]\n",
    "        if len(get_sr2) != 0:\n",
    "            return get_sr2.tolist()\n",
    "        return []\n",
    "\n",
    "    def get_indices(self):\n",
    "        metadata = df.reset_index()\n",
    "        indices = pd.Series(metadata.index, index=metadata['app'])\n",
    "        if not self.name:\n",
    "            return None\n",
    "        return indices[self.name]\n",
    "\n",
    "    def get_recommendations(self, cosine_sim=content_cosine_sim):\n",
    "        indice = self.get_indices()\n",
    "        if not indice:\n",
    "            return 'No name was near'\n",
    "        sim_scores = list(enumerate(cosine_sim[indice]))\n",
    "        sim_scores = sorted(sim_scores, key=lambda x: x[1], reverse=True)\n",
    "        sim_scores = sim_scores[0:self.amount + 1]\n",
    "        _indices = [i[0] for i in sim_scores]\n",
    "\n",
    "        recs = df[['app', 'genres', 'category', 'type', 'content rating']].iloc[_indices]\n",
    "        recs['match_score'] = [i[1] for i in sim_scores]\n",
    "        recs['match_score'] = recs['match_score'].apply(lambda x: round(x, 4))\n",
    "        recs = recs.loc[recs.app != self.name]\n",
    "        return recs.loc[recs.match_score > 0, ['app', 'genres', 'category', 'type', 'content rating', 'match_score']]\n",
    "\n",
    "    def get_app_detail(self):\n",
    "        return df.loc[df['app'] == self.name, ['app', 'genres', 'category', 'type', 'content rating']]\n"
   ]
  },
  {
   "cell_type": "markdown",
   "metadata": {},
   "source": [
    "#### แสดงข้อมูลที่ตรงกับแอพที่ค้นหา"
   ]
  },
  {
   "cell_type": "code",
   "execution_count": 33,
   "metadata": {},
   "outputs": [
    {
     "data": {
      "text/html": [
       "<div>\n",
       "<style scoped>\n",
       "    .dataframe tbody tr th:only-of-type {\n",
       "        vertical-align: middle;\n",
       "    }\n",
       "\n",
       "    .dataframe tbody tr th {\n",
       "        vertical-align: top;\n",
       "    }\n",
       "\n",
       "    .dataframe thead th {\n",
       "        text-align: right;\n",
       "    }\n",
       "</style>\n",
       "<table border=\"1\" class=\"dataframe\">\n",
       "  <thead>\n",
       "    <tr style=\"text-align: right;\">\n",
       "      <th></th>\n",
       "      <th>app</th>\n",
       "      <th>genres</th>\n",
       "      <th>category</th>\n",
       "      <th>type</th>\n",
       "      <th>content rating</th>\n",
       "    </tr>\n",
       "  </thead>\n",
       "  <tbody>\n",
       "    <tr>\n",
       "      <th>6856</th>\n",
       "      <td>Bacteria Vaginosis</td>\n",
       "      <td>Health &amp; Fitness</td>\n",
       "      <td>HEALTH_AND_FITNESS</td>\n",
       "      <td>Free</td>\n",
       "      <td>Mature 17+</td>\n",
       "    </tr>\n",
       "  </tbody>\n",
       "</table>\n",
       "</div>"
      ],
      "text/plain": [
       "                     app            genres            category  type  \\\n",
       "6856  Bacteria Vaginosis  Health & Fitness  HEALTH_AND_FITNESS  Free   \n",
       "\n",
       "     content rating  \n",
       "6856     Mature 17+  "
      ]
     },
     "execution_count": 33,
     "metadata": {},
     "output_type": "execute_result"
    }
   ],
   "source": [
    "# construct ข้อมูลแอพ จากชื่อที่ให้ไป\n",
    "recommend = Recommendations('Bacteria Vaginosis')\n",
    "\n",
    "# แสดงข้อมูลแอพที่ใกล้เคียงกับชื่อมากที่สุดมาแสดง\n",
    "recommend.get_app_detail()\n"
   ]
  },
  {
   "cell_type": "markdown",
   "metadata": {},
   "source": [
    "*จะได้ข้อมูลใกล้เคียงกับแอพที่เราค้นหามากที่สุด*\n",
    "#### แสดงข้อมูลที่ content คล้ายกับแอพที่ค้นหามากที่สุด\n",
    "- column ที่ใช้ category, genres, type,content rating\n",
    "- จะนำข้อมูลที่ได้ แนะนำลูกค้า"
   ]
  },
  {
   "cell_type": "code",
   "execution_count": 34,
   "metadata": {},
   "outputs": [
    {
     "name": "stdout",
     "output_type": "stream",
     "text": [
      "Content Recommendation : 0.008 s\n"
     ]
    }
   ],
   "source": [
    "time_start = time.time()\n",
    "recommendation = recommend.get_recommendations()\n",
    "time_end = time.time()\n",
    "\n",
    "print(f\"Content Recommendation : {round(time_end - time_start, 4)} s\")\n"
   ]
  },
  {
   "cell_type": "code",
   "execution_count": 35,
   "metadata": {},
   "outputs": [
    {
     "data": {
      "text/html": [
       "<div>\n",
       "<style scoped>\n",
       "    .dataframe tbody tr th:only-of-type {\n",
       "        vertical-align: middle;\n",
       "    }\n",
       "\n",
       "    .dataframe tbody tr th {\n",
       "        vertical-align: top;\n",
       "    }\n",
       "\n",
       "    .dataframe thead th {\n",
       "        text-align: right;\n",
       "    }\n",
       "</style>\n",
       "<table border=\"1\" class=\"dataframe\">\n",
       "  <thead>\n",
       "    <tr style=\"text-align: right;\">\n",
       "      <th></th>\n",
       "      <th>app</th>\n",
       "      <th>genres</th>\n",
       "      <th>category</th>\n",
       "      <th>type</th>\n",
       "      <th>content rating</th>\n",
       "      <th>match_score</th>\n",
       "    </tr>\n",
       "  </thead>\n",
       "  <tbody>\n",
       "    <tr>\n",
       "      <th>1299</th>\n",
       "      <td>Weight Loss Running by Verv</td>\n",
       "      <td>Health &amp; Fitness</td>\n",
       "      <td>HEALTH_AND_FITNESS</td>\n",
       "      <td>Free</td>\n",
       "      <td>Mature 17+</td>\n",
       "      <td>1.0000</td>\n",
       "    </tr>\n",
       "    <tr>\n",
       "      <th>6105</th>\n",
       "      <td>Women\"s Health Tips(Breast,Face,Body,weight lose)</td>\n",
       "      <td>Health &amp; Fitness</td>\n",
       "      <td>HEALTH_AND_FITNESS</td>\n",
       "      <td>Free</td>\n",
       "      <td>Mature 17+</td>\n",
       "      <td>1.0000</td>\n",
       "    </tr>\n",
       "    <tr>\n",
       "      <th>7397</th>\n",
       "      <td>Pharmacie de Garde CI et Prix</td>\n",
       "      <td>Health &amp; Fitness</td>\n",
       "      <td>HEALTH_AND_FITNESS</td>\n",
       "      <td>Free</td>\n",
       "      <td>Mature 17+</td>\n",
       "      <td>1.0000</td>\n",
       "    </tr>\n",
       "    <tr>\n",
       "      <th>7879</th>\n",
       "      <td>I AM C.T.</td>\n",
       "      <td>Health &amp; Fitness</td>\n",
       "      <td>HEALTH_AND_FITNESS</td>\n",
       "      <td>Free</td>\n",
       "      <td>Mature 17+</td>\n",
       "      <td>1.0000</td>\n",
       "    </tr>\n",
       "    <tr>\n",
       "      <th>1256</th>\n",
       "      <td>Home Workout - No Equipment</td>\n",
       "      <td>Health &amp; Fitness</td>\n",
       "      <td>HEALTH_AND_FITNESS</td>\n",
       "      <td>Free</td>\n",
       "      <td>Everyone</td>\n",
       "      <td>0.8165</td>\n",
       "    </tr>\n",
       "    <tr>\n",
       "      <th>1257</th>\n",
       "      <td>Step Counter - Calorie Counter</td>\n",
       "      <td>Health &amp; Fitness</td>\n",
       "      <td>HEALTH_AND_FITNESS</td>\n",
       "      <td>Free</td>\n",
       "      <td>Everyone</td>\n",
       "      <td>0.8165</td>\n",
       "    </tr>\n",
       "    <tr>\n",
       "      <th>1258</th>\n",
       "      <td>Lose Belly Fat in 30 Days - Flat Stomach</td>\n",
       "      <td>Health &amp; Fitness</td>\n",
       "      <td>HEALTH_AND_FITNESS</td>\n",
       "      <td>Free</td>\n",
       "      <td>Everyone</td>\n",
       "      <td>0.8165</td>\n",
       "    </tr>\n",
       "    <tr>\n",
       "      <th>1259</th>\n",
       "      <td>Pedometer - Step Counter Free &amp; Calorie Burner</td>\n",
       "      <td>Health &amp; Fitness</td>\n",
       "      <td>HEALTH_AND_FITNESS</td>\n",
       "      <td>Free</td>\n",
       "      <td>Everyone</td>\n",
       "      <td>0.8165</td>\n",
       "    </tr>\n",
       "    <tr>\n",
       "      <th>1260</th>\n",
       "      <td>Six Pack in 30 Days - Abs Workout</td>\n",
       "      <td>Health &amp; Fitness</td>\n",
       "      <td>HEALTH_AND_FITNESS</td>\n",
       "      <td>Free</td>\n",
       "      <td>Everyone</td>\n",
       "      <td>0.8165</td>\n",
       "    </tr>\n",
       "    <tr>\n",
       "      <th>1261</th>\n",
       "      <td>Lose Weight in 30 Days</td>\n",
       "      <td>Health &amp; Fitness</td>\n",
       "      <td>HEALTH_AND_FITNESS</td>\n",
       "      <td>Free</td>\n",
       "      <td>Everyone</td>\n",
       "      <td>0.8165</td>\n",
       "    </tr>\n",
       "  </tbody>\n",
       "</table>\n",
       "</div>"
      ],
      "text/plain": [
       "                                                    app            genres  \\\n",
       "1299                        Weight Loss Running by Verv  Health & Fitness   \n",
       "6105  Women\"s Health Tips(Breast,Face,Body,weight lose)  Health & Fitness   \n",
       "7397                      Pharmacie de Garde CI et Prix  Health & Fitness   \n",
       "7879                                          I AM C.T.  Health & Fitness   \n",
       "1256                        Home Workout - No Equipment  Health & Fitness   \n",
       "1257                     Step Counter - Calorie Counter  Health & Fitness   \n",
       "1258           Lose Belly Fat in 30 Days - Flat Stomach  Health & Fitness   \n",
       "1259     Pedometer - Step Counter Free & Calorie Burner  Health & Fitness   \n",
       "1260                  Six Pack in 30 Days - Abs Workout  Health & Fitness   \n",
       "1261                             Lose Weight in 30 Days  Health & Fitness   \n",
       "\n",
       "                category  type content rating  match_score  \n",
       "1299  HEALTH_AND_FITNESS  Free     Mature 17+       1.0000  \n",
       "6105  HEALTH_AND_FITNESS  Free     Mature 17+       1.0000  \n",
       "7397  HEALTH_AND_FITNESS  Free     Mature 17+       1.0000  \n",
       "7879  HEALTH_AND_FITNESS  Free     Mature 17+       1.0000  \n",
       "1256  HEALTH_AND_FITNESS  Free       Everyone       0.8165  \n",
       "1257  HEALTH_AND_FITNESS  Free       Everyone       0.8165  \n",
       "1258  HEALTH_AND_FITNESS  Free       Everyone       0.8165  \n",
       "1259  HEALTH_AND_FITNESS  Free       Everyone       0.8165  \n",
       "1260  HEALTH_AND_FITNESS  Free       Everyone       0.8165  \n",
       "1261  HEALTH_AND_FITNESS  Free       Everyone       0.8165  "
      ]
     },
     "execution_count": 35,
     "metadata": {},
     "output_type": "execute_result"
    }
   ],
   "source": [
    "recommendation"
   ]
  },
  {
   "cell_type": "markdown",
   "metadata": {},
   "source": [
    "*แสดลงข้อมูลทีี่ใกล้เคียงกับชื่อหลักที่เราได้มา*\n",
    "\n",
    "#### แสดงข้อมูล content ที่ใกล้เคียงกับแอพที่ค้นหาที่สุด โดยไม่สนว่าเสียเงินหรือไม่ กับ ไม่สนช่วงอายุ\n",
    "- ตารางที่ใช้จะมี genres, category"
   ]
  },
  {
   "cell_type": "code",
   "execution_count": 36,
   "metadata": {},
   "outputs": [
    {
     "name": "stdout",
     "output_type": "stream",
     "text": [
      "Type Recommendation : 0.007 s\n"
     ]
    }
   ],
   "source": [
    "time_start = time.time()\n",
    "recommendation = recommend.get_recommendations(type_cosine_sim)\n",
    "time_end = time.time()\n",
    "print(f\"Type Recommendation : {round(time_end - time_start, 4)} s\")\n"
   ]
  },
  {
   "cell_type": "markdown",
   "metadata": {},
   "source": [
    "#### แสดงข้อมูลที่ ชื่อ และ หมวดหมู่ คล้ายกับแอพที่ค้นหามากที่สุด\n",
    "- แนะนำแอพที่ชื่อกับหมวดหมู่ใกล้เคียง\n",
    "- column ที่ใช้ app, category"
   ]
  },
  {
   "cell_type": "code",
   "execution_count": 37,
   "metadata": {},
   "outputs": [
    {
     "name": "stdout",
     "output_type": "stream",
     "text": [
      "Name Recommendation : 0.006 s\n"
     ]
    }
   ],
   "source": [
    "time_start = time.time()\n",
    "recommendation = recommend.get_recommendations(name_cosine_sim)\n",
    "time_end = time.time()\n",
    "print(f\"Name Recommendation : {round(time_end - time_start, 4)} s\")\n"
   ]
  },
  {
   "cell_type": "code",
   "execution_count": 38,
   "metadata": {},
   "outputs": [
    {
     "data": {
      "text/html": [
       "<div>\n",
       "<style scoped>\n",
       "    .dataframe tbody tr th:only-of-type {\n",
       "        vertical-align: middle;\n",
       "    }\n",
       "\n",
       "    .dataframe tbody tr th {\n",
       "        vertical-align: top;\n",
       "    }\n",
       "\n",
       "    .dataframe thead th {\n",
       "        text-align: right;\n",
       "    }\n",
       "</style>\n",
       "<table border=\"1\" class=\"dataframe\">\n",
       "  <thead>\n",
       "    <tr style=\"text-align: right;\">\n",
       "      <th></th>\n",
       "      <th>app</th>\n",
       "      <th>genres</th>\n",
       "      <th>category</th>\n",
       "      <th>type</th>\n",
       "      <th>content rating</th>\n",
       "      <th>match_score</th>\n",
       "    </tr>\n",
       "  </thead>\n",
       "  <tbody>\n",
       "    <tr>\n",
       "      <th>6853</th>\n",
       "      <td>Bacterial Vaginosis</td>\n",
       "      <td>Health &amp; Fitness</td>\n",
       "      <td>HEALTH_AND_FITNESS</td>\n",
       "      <td>Free</td>\n",
       "      <td>Everyone</td>\n",
       "      <td>0.5764</td>\n",
       "    </tr>\n",
       "    <tr>\n",
       "      <th>6854</th>\n",
       "      <td>Bacterial Vaginosis 🇺🇸</td>\n",
       "      <td>Health &amp; Fitness</td>\n",
       "      <td>HEALTH_AND_FITNESS</td>\n",
       "      <td>Free</td>\n",
       "      <td>Teen</td>\n",
       "      <td>0.5764</td>\n",
       "    </tr>\n",
       "    <tr>\n",
       "      <th>7879</th>\n",
       "      <td>I AM C.T.</td>\n",
       "      <td>Health &amp; Fitness</td>\n",
       "      <td>HEALTH_AND_FITNESS</td>\n",
       "      <td>Free</td>\n",
       "      <td>Mature 17+</td>\n",
       "      <td>0.4554</td>\n",
       "    </tr>\n",
       "    <tr>\n",
       "      <th>4280</th>\n",
       "      <td>K Health</td>\n",
       "      <td>Health &amp; Fitness</td>\n",
       "      <td>HEALTH_AND_FITNESS</td>\n",
       "      <td>Free</td>\n",
       "      <td>Teen</td>\n",
       "      <td>0.4319</td>\n",
       "    </tr>\n",
       "    <tr>\n",
       "      <th>6872</th>\n",
       "      <td>bacterial vaginosis</td>\n",
       "      <td>Medical</td>\n",
       "      <td>MEDICAL</td>\n",
       "      <td>Free</td>\n",
       "      <td>Teen</td>\n",
       "      <td>0.3799</td>\n",
       "    </tr>\n",
       "    <tr>\n",
       "      <th>6863</th>\n",
       "      <td>Bacterial vaginosis Treatment - Sexual disease</td>\n",
       "      <td>Health &amp; Fitness</td>\n",
       "      <td>HEALTH_AND_FITNESS</td>\n",
       "      <td>Free</td>\n",
       "      <td>Everyone</td>\n",
       "      <td>0.3719</td>\n",
       "    </tr>\n",
       "    <tr>\n",
       "      <th>10314</th>\n",
       "      <td>FD Fitness</td>\n",
       "      <td>Health &amp; Fitness</td>\n",
       "      <td>HEALTH_AND_FITNESS</td>\n",
       "      <td>Free</td>\n",
       "      <td>Everyone</td>\n",
       "      <td>0.3588</td>\n",
       "    </tr>\n",
       "    <tr>\n",
       "      <th>8382</th>\n",
       "      <td>DG Fitness</td>\n",
       "      <td>Health &amp; Fitness</td>\n",
       "      <td>HEALTH_AND_FITNESS</td>\n",
       "      <td>Free</td>\n",
       "      <td>Everyone</td>\n",
       "      <td>0.3565</td>\n",
       "    </tr>\n",
       "    <tr>\n",
       "      <th>7413</th>\n",
       "      <td>CJ Fitness</td>\n",
       "      <td>Health &amp; Fitness</td>\n",
       "      <td>HEALTH_AND_FITNESS</td>\n",
       "      <td>Free</td>\n",
       "      <td>Everyone</td>\n",
       "      <td>0.3546</td>\n",
       "    </tr>\n",
       "    <tr>\n",
       "      <th>5596</th>\n",
       "      <td>Samsung Health</td>\n",
       "      <td>Health &amp; Fitness</td>\n",
       "      <td>HEALTH_AND_FITNESS</td>\n",
       "      <td>Free</td>\n",
       "      <td>Everyone</td>\n",
       "      <td>0.3508</td>\n",
       "    </tr>\n",
       "  </tbody>\n",
       "</table>\n",
       "</div>"
      ],
      "text/plain": [
       "                                                  app            genres  \\\n",
       "6853                              Bacterial Vaginosis  Health & Fitness   \n",
       "6854                           Bacterial Vaginosis 🇺🇸  Health & Fitness   \n",
       "7879                                        I AM C.T.  Health & Fitness   \n",
       "4280                                         K Health  Health & Fitness   \n",
       "6872                              bacterial vaginosis           Medical   \n",
       "6863   Bacterial vaginosis Treatment - Sexual disease  Health & Fitness   \n",
       "10314                                      FD Fitness  Health & Fitness   \n",
       "8382                                       DG Fitness  Health & Fitness   \n",
       "7413                                       CJ Fitness  Health & Fitness   \n",
       "5596                                   Samsung Health  Health & Fitness   \n",
       "\n",
       "                 category  type content rating  match_score  \n",
       "6853   HEALTH_AND_FITNESS  Free       Everyone       0.5764  \n",
       "6854   HEALTH_AND_FITNESS  Free           Teen       0.5764  \n",
       "7879   HEALTH_AND_FITNESS  Free     Mature 17+       0.4554  \n",
       "4280   HEALTH_AND_FITNESS  Free           Teen       0.4319  \n",
       "6872              MEDICAL  Free           Teen       0.3799  \n",
       "6863   HEALTH_AND_FITNESS  Free       Everyone       0.3719  \n",
       "10314  HEALTH_AND_FITNESS  Free       Everyone       0.3588  \n",
       "8382   HEALTH_AND_FITNESS  Free       Everyone       0.3565  \n",
       "7413   HEALTH_AND_FITNESS  Free       Everyone       0.3546  \n",
       "5596   HEALTH_AND_FITNESS  Free       Everyone       0.3508  "
      ]
     },
     "execution_count": 38,
     "metadata": {},
     "output_type": "execute_result"
    }
   ],
   "source": [
    "recommendation"
   ]
  },
  {
   "cell_type": "code",
   "execution_count": 39,
   "metadata": {},
   "outputs": [
    {
     "data": {
      "text/html": [
       "<div>\n",
       "<style scoped>\n",
       "    .dataframe tbody tr th:only-of-type {\n",
       "        vertical-align: middle;\n",
       "    }\n",
       "\n",
       "    .dataframe tbody tr th {\n",
       "        vertical-align: top;\n",
       "    }\n",
       "\n",
       "    .dataframe thead th {\n",
       "        text-align: right;\n",
       "    }\n",
       "</style>\n",
       "<table border=\"1\" class=\"dataframe\">\n",
       "  <thead>\n",
       "    <tr style=\"text-align: right;\">\n",
       "      <th></th>\n",
       "      <th>app</th>\n",
       "      <th>genres</th>\n",
       "      <th>category</th>\n",
       "      <th>type</th>\n",
       "      <th>content rating</th>\n",
       "      <th>match_score</th>\n",
       "    </tr>\n",
       "  </thead>\n",
       "  <tbody>\n",
       "    <tr>\n",
       "      <th>6853</th>\n",
       "      <td>Bacterial Vaginosis</td>\n",
       "      <td>Health &amp; Fitness</td>\n",
       "      <td>HEALTH_AND_FITNESS</td>\n",
       "      <td>Free</td>\n",
       "      <td>Everyone</td>\n",
       "      <td>0.5764</td>\n",
       "    </tr>\n",
       "    <tr>\n",
       "      <th>6854</th>\n",
       "      <td>Bacterial Vaginosis 🇺🇸</td>\n",
       "      <td>Health &amp; Fitness</td>\n",
       "      <td>HEALTH_AND_FITNESS</td>\n",
       "      <td>Free</td>\n",
       "      <td>Teen</td>\n",
       "      <td>0.5764</td>\n",
       "    </tr>\n",
       "    <tr>\n",
       "      <th>7879</th>\n",
       "      <td>I AM C.T.</td>\n",
       "      <td>Health &amp; Fitness</td>\n",
       "      <td>HEALTH_AND_FITNESS</td>\n",
       "      <td>Free</td>\n",
       "      <td>Mature 17+</td>\n",
       "      <td>0.4554</td>\n",
       "    </tr>\n",
       "    <tr>\n",
       "      <th>4280</th>\n",
       "      <td>K Health</td>\n",
       "      <td>Health &amp; Fitness</td>\n",
       "      <td>HEALTH_AND_FITNESS</td>\n",
       "      <td>Free</td>\n",
       "      <td>Teen</td>\n",
       "      <td>0.4319</td>\n",
       "    </tr>\n",
       "    <tr>\n",
       "      <th>6872</th>\n",
       "      <td>bacterial vaginosis</td>\n",
       "      <td>Medical</td>\n",
       "      <td>MEDICAL</td>\n",
       "      <td>Free</td>\n",
       "      <td>Teen</td>\n",
       "      <td>0.3799</td>\n",
       "    </tr>\n",
       "    <tr>\n",
       "      <th>6863</th>\n",
       "      <td>Bacterial vaginosis Treatment - Sexual disease</td>\n",
       "      <td>Health &amp; Fitness</td>\n",
       "      <td>HEALTH_AND_FITNESS</td>\n",
       "      <td>Free</td>\n",
       "      <td>Everyone</td>\n",
       "      <td>0.3719</td>\n",
       "    </tr>\n",
       "    <tr>\n",
       "      <th>10314</th>\n",
       "      <td>FD Fitness</td>\n",
       "      <td>Health &amp; Fitness</td>\n",
       "      <td>HEALTH_AND_FITNESS</td>\n",
       "      <td>Free</td>\n",
       "      <td>Everyone</td>\n",
       "      <td>0.3588</td>\n",
       "    </tr>\n",
       "    <tr>\n",
       "      <th>8382</th>\n",
       "      <td>DG Fitness</td>\n",
       "      <td>Health &amp; Fitness</td>\n",
       "      <td>HEALTH_AND_FITNESS</td>\n",
       "      <td>Free</td>\n",
       "      <td>Everyone</td>\n",
       "      <td>0.3565</td>\n",
       "    </tr>\n",
       "    <tr>\n",
       "      <th>7413</th>\n",
       "      <td>CJ Fitness</td>\n",
       "      <td>Health &amp; Fitness</td>\n",
       "      <td>HEALTH_AND_FITNESS</td>\n",
       "      <td>Free</td>\n",
       "      <td>Everyone</td>\n",
       "      <td>0.3546</td>\n",
       "    </tr>\n",
       "    <tr>\n",
       "      <th>5596</th>\n",
       "      <td>Samsung Health</td>\n",
       "      <td>Health &amp; Fitness</td>\n",
       "      <td>HEALTH_AND_FITNESS</td>\n",
       "      <td>Free</td>\n",
       "      <td>Everyone</td>\n",
       "      <td>0.3508</td>\n",
       "    </tr>\n",
       "  </tbody>\n",
       "</table>\n",
       "</div>"
      ],
      "text/plain": [
       "                                                  app            genres  \\\n",
       "6853                              Bacterial Vaginosis  Health & Fitness   \n",
       "6854                           Bacterial Vaginosis 🇺🇸  Health & Fitness   \n",
       "7879                                        I AM C.T.  Health & Fitness   \n",
       "4280                                         K Health  Health & Fitness   \n",
       "6872                              bacterial vaginosis           Medical   \n",
       "6863   Bacterial vaginosis Treatment - Sexual disease  Health & Fitness   \n",
       "10314                                      FD Fitness  Health & Fitness   \n",
       "8382                                       DG Fitness  Health & Fitness   \n",
       "7413                                       CJ Fitness  Health & Fitness   \n",
       "5596                                   Samsung Health  Health & Fitness   \n",
       "\n",
       "                 category  type content rating  match_score  \n",
       "6853   HEALTH_AND_FITNESS  Free       Everyone       0.5764  \n",
       "6854   HEALTH_AND_FITNESS  Free           Teen       0.5764  \n",
       "7879   HEALTH_AND_FITNESS  Free     Mature 17+       0.4554  \n",
       "4280   HEALTH_AND_FITNESS  Free           Teen       0.4319  \n",
       "6872              MEDICAL  Free           Teen       0.3799  \n",
       "6863   HEALTH_AND_FITNESS  Free       Everyone       0.3719  \n",
       "10314  HEALTH_AND_FITNESS  Free       Everyone       0.3588  \n",
       "8382   HEALTH_AND_FITNESS  Free       Everyone       0.3565  \n",
       "7413   HEALTH_AND_FITNESS  Free       Everyone       0.3546  \n",
       "5596   HEALTH_AND_FITNESS  Free       Everyone       0.3508  "
      ]
     },
     "execution_count": 39,
     "metadata": {},
     "output_type": "execute_result"
    }
   ],
   "source": [
    "recommendation\n"
   ]
  },
  {
   "cell_type": "markdown",
   "metadata": {},
   "source": [
    "<a id='modelling'></a>\n",
    "\n",
    "# **Modelling**\n",
    "\n",
    "> สิ่งที่เราจะทำคือ ค้นหาแอพที่ใกล้เคีบงกับค้นหามากที่สุดมาก่อน  \n",
    "> หลังจากนั้น จะนำข้อมูลส่วนนั้นมาแนะนำ จะมีข้อมูลอยู่ 3 อย่าง\n",
    ">\n",
    "> -   ข้อมูลที่ใกล้เคียงมากที่สุด\n",
    "> -   ต้องการจะแนะนำชื่อที่ใกล้เคียงกับแอพหลัก\n",
    "> -   ข้อมูลเหมือนกันซึงไม่สนว่าจะเป็นแอพฟรีหรือไม่ฟรี\n"
   ]
  },
  {
   "cell_type": "markdown",
   "metadata": {},
   "source": [
    "## **Benchmark**\n",
    "\n",
    "เราจะทดสอบโดยใช้ตัว TfidfVectorizer และ CountVectorizer\n",
    "\n",
    "โดย เราจะลองใช้ของ TfidfVectorizer และ CountVectorizer โดยใช้รูปแบบ cosine\n",
    "similarity ก่อนของทั้งสองรูปแบบ\n",
    "\n",
    "ในการ benchmark เราจะทดสอบทั้งสามรูปแบบออกมา\n"
   ]
  },
  {
   "cell_type": "markdown",
   "metadata": {},
   "source": [
    "## **เลือกตัว Vectorize**\n",
    "\n",
    "### **1. Content Recommendation**\n",
    "\n",
    "-   #### เราจะทดสอบทั้ง TfidfVectorizer และ CountVectorizer ก่อน\n",
    "\n",
    "<div>\n",
    "    <h3><b>CountVectorizer</b></h3>\n",
    "    <img src=\"./images/count_cousine_content_recommendation.png\" />\n",
    "<div>\n",
    "<div>\n",
    "    <h3><b>TfidfVectorizer</b></h3>\n",
    "    <img src=\"./images/tfidf_cousine_content_recommendation.png\" />\n",
    "<div>\n",
    "\n",
    "-   ในส่วนของลำดับนั้น เหมือนกันทั้งหมด\n",
    "-   ในส่วนถัดไปเราจะมาทดสอบ Performance กันแทน\n",
    "-   จากการทดสอบนั้น\n",
    "    -   TfidfVectorizer ทำเวลาไป ¬0.0085 s.\n",
    "    -   CountVectorizer ทำเวลาไป ¬0.0080 s.\n",
    "-   สรุปได้ว่า เราจะใช้ตัว **CountVectorizer** แทน\n",
    "\n",
    "### **2. Type Recommendation**\n",
    "\n",
    "-   #### เราจะทดสอบทั้ง TfidfVectorizer และ CountVectorizer ก่อน\n",
    "\n",
    "<div>\n",
    "    <h3><b>CountVectorizer</b></h3>\n",
    "    <img src=\"./images/count_cousine_type_recommendation.png\" />\n",
    "<div>\n",
    "<div>\n",
    "    <h3><b>TfidfVectorizer</b></h3>\n",
    "    <img src=\"./images/tfidf_cousine_type_recommendation.png\" />\n",
    "<div>\n",
    "\n",
    "-   ในส่วนของลำดับนั้น เหมือนกันทั้งหมด\n",
    "-   ในส่วนของ Timing Performance จากการทดสอบนั้น\n",
    "    -   TfidfVectorizer ทำเวลาไป ¬0.0065 s.\n",
    "    -   CountVectorizer ทำเวลาไป ¬0.0070 s.\n",
    "-   สรุปได้ว่า เราจะใช้ตัว **TfidfVectorizer** แทน\n",
    "\n",
    "### **3. App Name Recommendation**\n",
    "\n",
    "-   #### เราจะทดสอบทั้ง TfidfVectorizer และ CountVectorizer ก่อน\n",
    "\n",
    "<div>\n",
    "    <h3><b>CountVectorizer</b></h3>\n",
    "    <img src=\"./images/count_cousine_name_recommendation.png\" />\n",
    "<div>\n",
    "<div>\n",
    "    <h3><b>TfidfVectorizer</b></h3>\n",
    "    <img src=\"./images/tfidf_cousine_name_recommendation.png\" />\n",
    "<div>\n",
    "\n",
    "-   จะสั่งเกตุได้ว่า ข้อมูลของทั้งสองนั้นไม่ตรงกันเลย\n",
    "-   จากภาพรวมแล้ว ตัว TfidfVectorizer จะแม่นยำกว่า ตรงที่ว่า\n",
    "    -   ตัว Count นั้นข้อมูลบนๆ จะเหมือนและดีก็จริง แจะข้อมูลหลังๆ\n",
    "        เหมือนจะไม่ตรงเลย\n",
    "    -   ส่วนตัว Tfidf นั้นข้อมูลจะค่อนข้างเสถียรและเรียงได้ดีกว่า\n",
    "-   ในส่วนของ app name recommendation นั้น เราจะใช้ตัวของ TfidfVectorizer\n",
    "\n",
    "\n"
   ]
  },
  {
   "cell_type": "markdown",
   "metadata": {},
   "source": [
    "## **เลือกตัว Similarity**\n",
    "\n",
    "-   ในที่นี้เรามีอยู่สองตัว ก็คือ Linear kernel กับ Cosine similarity\n",
    "-   เราจะทำการทดสอบ Performance นั้นๆ\n",
    "\n",
    "### **1. Content Recommendation**\n",
    "\n",
    "-   เราจะมาดูในความแม่นยำของ similarity\n",
    "<div>\n",
    "    <h3><b>Cosine Similarity</b></h3>\n",
    "    <img src=\"./images/count_cousine_content_recommendation.png\" />\n",
    "<div>\n",
    "<div>\n",
    "    <h3><b>Linear Kernel</b></h3>\n",
    "    <img src=\"./images/count_linear_content_recommendation.png\" />\n",
    "<div>\n",
    "\n",
    "_ทั้งสองตัวนั้น ให้ผลลัพเหมือนกัน_\n",
    "\n",
    "-   เราเลยจะมาทดสอบในส่วนของ Timing Performance กัน\n",
    "    -   linear kernal ได้ที่ ¬0.96 s\n",
    "    -   cosine similarity ได้ที่ ¬0.87 s\n",
    "\n",
    "#### ของตัวนี้เราตัดสินใจใช้ **Cosine Similarity**\n",
    "\n",
    "### **2. Type Recommendation**\n",
    "\n",
    "-   เราจะมาดูในความแม่นยำของ similarity\n",
    "<div>\n",
    "    <h3><b>Cosine Similarity</b></h3>\n",
    "    <img src=\"./images/tfidf_cousine_type_recommendation.png\" />\n",
    "<div>\n",
    "<div>\n",
    "    <h3><b>Linear Kernel</b></h3>\n",
    "    <img src=\"./images/tfidf_linear_type_recommendation.png\" />\n",
    "<div>\n",
    "\n",
    "_ทั้งสองตัวนั้น ให้ผลลัพเหมือนกัน_\n",
    "\n",
    "-   เราเลยจะมาทดสอบในส่วนของ Timing Performance กัน\n",
    "    -   linear kernal ได้ที่ ¬0.29 s\n",
    "    -   cosine similarity ได้ที่ ¬0.32 s\n",
    "\n",
    "#### ของตัวนี้เราตัดสินใจใช้ **Linear Kernal**\n",
    "\n",
    "### **3. App Name Recommendation**\n",
    "\n",
    "-   เราจะมาดูในความแม่นยำของ similarity\n",
    "<div>\n",
    "    <h3><b>Cosine Similarity</b></h3>\n",
    "    <img src=\"./images/tfidf_cousine_name_recommendation.png\" />\n",
    "<div>\n",
    "<div>\n",
    "    <h3><b>Linear Kernel</b></h3>\n",
    "    <img src=\"./images/tfidf_linear_name_recommendation.png\" />\n",
    "<div>\n",
    "\n",
    "_ทั้งสองตัวนั้น ให้ผลลัพเหมือนกัน_\n",
    "\n",
    "-   เราเลยจะมาทดสอบในส่วนของ Timing Performance กัน\n",
    "    -   linear kernal ได้ที่ ¬0.38 s\n",
    "    -   cosine similarity ได้ที่ ¬0.39 s\n",
    "\n",
    "#### ของตัวนี้เราตัดสินใจใช้ **Linear Kernal**"
   ]
  },
  {
   "cell_type": "markdown",
   "metadata": {},
   "source": [
    "<a id='logs'></a>\n",
    "\n",
    "# **Logs**\n",
    "\n",
    "-   เนื่องจากตัว name recommendation เรานั้น ใช้แค่ตัว app, category\n",
    "-   ถ้าให้โจทย์ตัวเองว่า คนเท้นไม่ตรงกับชื่อนั้น เราเลยจะลอง ใส่ genres, content\n",
    "    rating เข้าไปด้วย\n",
    "-   เป้าหมาย หลักๆ คือต้องการชื่อที่คล้ายและประเภทที่คล้ายๆ กัน\n"
   ]
  },
  {
   "cell_type": "markdown",
   "metadata": {},
   "source": [
    "## 1.ผลลัพของ app, category (ตัวปัจจุบัน)\n",
    "\n",
    "<div>\n",
    "    <h3><b>App, Category</b></h3>\n",
    "    <img src=\"./images/tfidf_cousine_name_recommendation.png\" />\n",
    "<div>\n"
   ]
  },
  {
   "cell_type": "markdown",
   "metadata": {},
   "source": [
    "\n",
    "## 2.ผลลัพของ app, category, genres,content rating\n",
    "\n",
    "<div>\n",
    "    <h3><b>app, category, content rating</b></h3>\n",
    "    <img src=\"./images/tfidf_cousine_log_2_recommendation.png\" />\n",
    "    <img src=\"./images/tfidf_cousine_log_1_recommendation.png\" />\n",
    "<div>\n",
    "\n",
    "_ผลลัพพ์ที่ออกมานั้น ไม่ค่อยตรงกับที่ตั้งเป้าหมายใว้สักเท่าไหร่ เพราะ\n",
    "ถึงข้อมูลจะตรงก็จริง แต่ชื่อนั้น ไม่ตรงเลย_\n",
    "\n",
    "_และจะเห็นได้ว่า มีแอพที่ไม่รู้ว่าได้ไง ชื่อ, ข้อมูลอย่าง genres, category ไม่ตรงเลย_\n"
   ]
  },
  {
   "cell_type": "markdown",
   "metadata": {},
   "source": [
    "\n",
    "## 3.ผลลัพของ app, category, content rating\n",
    "\n",
    "<div>\n",
    "    <h3><b>app, category, genres, content rating</b></h3>\n",
    "    <img src=\"./images/tfidf_cousine_log_1_column_recommendation.png\" />\n",
    "\n",
    "<div>\n",
    "\n",
    "_ผลลัพพ์อันนี้ เหมือนกันข้างบนเลย แต่ผลลัพก็แปลกๆ เลยตัดสินใจใช้รูปแบบที่ 1\n",
    "ซึ่งแม่นยำสุด_"
   ]
  },
  {
   "cell_type": "markdown",
   "metadata": {},
   "source": [
    "# **Pipeline**\n",
    "> จะเป็นส่วนที่นำส่วนที่เราทำมาข้างบนมารวมเพื่อนำไปใช้งานจริง\n",
    "\n"
   ]
  },
  {
   "cell_type": "markdown",
   "metadata": {},
   "source": [
    "## **Preprocessing**\n",
    "\n",
    "    - drop rows\n",
    "        - duplicates\n",
    "        - null\n",
    "    - remove unused columns\n"
   ]
  },
  {
   "cell_type": "markdown",
   "metadata": {},
   "source": [
    "\n",
    "## **Feature Engineering**\n",
    "\n",
    "    - เราจะทำข้อมูล 3 รูปแบบ\n",
    "        - 1. Content เราจะจับคู่ด้วย CountVectorizer, Cosine Similarity\n",
    "        - 2. Type เราจะจับคู่ด้วย TfidfVectorizer, Linear Similarity\n",
    "        - 3. Name เราจะจับคู่ด้วย TfidfVectorizer, Linear Similarity"
   ]
  },
  {
   "cell_type": "code",
   "execution_count": 40,
   "metadata": {},
   "outputs": [],
   "source": [
    "class Pipeline:\n",
    "    def __init__(self, data: pd.DataFrame, vetorize: CountVectorizer or TfidfVectorizer, construct: bool = False):\n",
    "        self.data = data.copy()\n",
    "        self.vetorize = vetorize\n",
    "        self.content: pd.Series or pd.DataFrame = None\n",
    "        self.construct = construct\n",
    "\n",
    "    def data_cleaning(self):\n",
    "        self.data.drop_duplicates(subset='app', inplace=True)\n",
    "        self.data.dropna(axis=0, inplace=True)\n",
    "\n",
    "    def remove_columns(self):\n",
    "        mapping = {'App': 'app', 'Category': 'category', 'Size': 'size',\n",
    "                   'Type': 'type', 'Genres': 'genres', 'Price': 'price', 'Installs': 'installs', 'Content Rating': 'content rating'}\n",
    "        self.data = self.data.reindex(columns=['App', 'Category', 'Size',\n",
    "                                               'Type', 'Genres', 'Price', 'Installs', 'Content Rating'])\n",
    "        self.data.rename(columns=mapping, inplace=True)\n",
    "\n",
    "    def reset_index(self):\n",
    "        self.data.reset_index(drop=True, inplace=True)\n",
    "\n",
    "    def set_content(self, content: pd.Series or pd.DataFrame):\n",
    "        self.content = content\n",
    "        if self.construct:\n",
    "            self.content = self.content.apply(lambda x: construct_content(x))\n",
    "\n",
    "    def feature_engineering(self):\n",
    "        return self.vetorize.fit_transform(self.content)\n",
    "\n",
    "    def construct_content(content: pd.Series or pd.DataFrame):\n",
    "        join_genres = \"\".join(content.split(' '))\n",
    "        join_category = \"\".join(join_genres.upper().split('_AND_'))\n",
    "\n",
    "        results = []\n",
    "\n",
    "        for i in join_category.split(';'):\n",
    "            if i not in results:\n",
    "                results.append(i)\n",
    "\n",
    "        return \";\".join(results)\n",
    "\n",
    "    def build(self):\n",
    "        self.remove_columns()\n",
    "        self.data_cleaning()\n",
    "        self.reset_index()\n",
    "        return self.feature_engineering()\n"
   ]
  },
  {
   "cell_type": "markdown",
   "metadata": {},
   "source": [
    "## **เรียกใช้ PipeLine, ปรับแต่ง algorithm**\n"
   ]
  },
  {
   "cell_type": "code",
   "execution_count": 41,
   "metadata": {},
   "outputs": [],
   "source": [
    "\n",
    "# 1. content recommendation เราจะใช้ตัว count vectorizer\n",
    "pipe = Pipeline(df_temp, count_vectorizer, True)\n",
    "pipe.set_content((df['genres'].replace(to_replace='(;|&| +)', value=' ',\n",
    "                                       regex=True) + \";\" + df['category'] + \";\" + df['content rating'] + \";\" + df['type']))\n",
    "\n",
    "matrix = pipe.build()\n",
    "\n",
    "# content recommendation เราจะใช้ตัว cousine similarity\n",
    "content_similarity = cosine_similarity(matrix, matrix)\n",
    "\n",
    "# 2. type recommendation เราจะใช้ตัว tfidf vectorizer\n",
    "pipe = Pipeline(df_temp, tfidf_vectorizer, True)\n",
    "pipe.set_content((df['genres'].replace(to_replace='(;|&| +)', value=' ',\n",
    "                 regex=True)+';' + df['category']).apply(lambda x: construct_content(x)))\n",
    "matrix = pipe.build()\n",
    "# content recommendation เราจะใช้ตัว linear kernel\n",
    "type_similarity = cosine_similarity(matrix, matrix)\n",
    "\n",
    "# 3. name recommendation เราจะใช้ตัว tfidf vectorizer\n",
    "pipe = Pipeline(df_temp, tfidf_vectorizer)\n",
    "pipe.set_content((df['category']+';' + df['app']))\n",
    "matrix = pipe.build()\n",
    "# name recommendation เราจะใช้ตัว linear kernel\n",
    "name_similarity = cosine_similarity(matrix, matrix)\n"
   ]
  },
  {
   "cell_type": "markdown",
   "metadata": {},
   "source": [
    "## **สร้างฟังชั่นเพื่อนนำไปใช้ในการ deployment**\n"
   ]
  },
  {
   "cell_type": "code",
   "execution_count": 42,
   "metadata": {},
   "outputs": [],
   "source": [
    "def get_recommendations(name, type='content', checkbox=False):\n",
    "    mapping = {\n",
    "        'content': content_similarity,\n",
    "        'type': type_similarity,\n",
    "        'name': name_similarity\n",
    "    }\n",
    "\n",
    "    name = df_temp.sample(1)['App'].item() if checkbox else name\n",
    "\n",
    "    recommend = Recommendations(name)\n",
    "    detail = recommend.get_app_detail()\n",
    "    return detail, recommend.get_recommendations(mapping[type])\n",
    "\n"
   ]
  },
  {
   "cell_type": "code",
   "execution_count": null,
   "metadata": {},
   "outputs": [],
   "source": [
    "!pip install gradio -q"
   ]
  },
  {
   "cell_type": "code",
   "execution_count": null,
   "metadata": {},
   "outputs": [],
   "source": [
    "import gradio as gr"
   ]
  },
  {
   "cell_type": "markdown",
   "metadata": {},
   "source": [
    "<a href='deployment'></a>\n",
    "\n",
    "# **Deployment**\n"
   ]
  },
  {
   "cell_type": "code",
   "execution_count": 44,
   "metadata": {},
   "outputs": [
    {
     "name": "stdout",
     "output_type": "stream",
     "text": [
      "Running on local URL:  http://127.0.0.1:7860/\n",
      "\n",
      "To create a public link, set `share=True` in `launch()`.\n"
     ]
    },
    {
     "data": {
      "text/html": [
       "\n",
       "        <iframe\n",
       "            width=\"900\"\n",
       "            height=\"500\"\n",
       "            src=\"http://127.0.0.1:7860/\"\n",
       "            frameborder=\"0\"\n",
       "            allowfullscreen\n",
       "            \n",
       "        ></iframe>\n",
       "        "
      ],
      "text/plain": [
       "<IPython.lib.display.IFrame at 0x11850ae0a00>"
      ]
     },
     "metadata": {},
     "output_type": "display_data"
    }
   ],
   "source": [
    "\n",
    "iface = gr.Interface(\n",
    "    get_recommendations,\n",
    "    inputs=[\n",
    "        gr.inputs.Textbox(label='App Name',\n",
    "                          default=\"Santa Fe App\"),\n",
    "        gr.inputs.Radio([\"content\", \"type\", \"name\"]),\n",
    "        gr.inputs.Checkbox(label=\"Random?\", default=False)],\n",
    "    outputs=[gr.outputs.Dataframe(label='Your App'),\n",
    "             gr.outputs.Dataframe(label='Similar App')])\n",
    "iface.launch(debug=True)\n"
   ]
  },
  {
   "cell_type": "markdown",
   "metadata": {},
   "source": [
    "<a href='references'></a>\n",
    "\n",
    "# **References**\n",
    "\n",
    "-   <a href=\"https://www.kaggle.com/ahmedmohamedmahrous/google-play-store-eda-rating-prediction\" target=\"_blank\">https://www.kaggle.com/ahmedmohamedmahrous/google-play-store-eda-rating-prediction</a>\n",
    "-   <a href=\"https://github.com/MacClay/CS434/blob/main/cs434_finalexam__%E0%B8%AD%E0%B8%B5%E0%B8%AB%E0%B8%A2%E0%B8%B1%E0%B8%87%E0%B8%A7%E0%B8%B0_%E0%B8%AB%E0%B9%89%E0%B8%A7%E0%B8%A2_!_.ipynb\" target=\"_blank\">cs434*finalexam\\_\\_อีหยังวะ*ห้วย*!*</a>\n",
    "-   <a href=\"https://www.datacamp.com/community/tutorials/recommender-systems-python\" target=\"_blank\">https://www.datacamp.com/community/tutorials/recommender-systems-python</a>\n",
    "\n",
    "-   <a href=\"https://www.kaggle.com/lavanyaanandm/recommending-anime-s-using-all-recommendation-sys#10.-Reference-\">Anime\n",
    "    Recommendation</a>\n",
    "\n",
    "-   <a href=\"https://stackoverflow.com/a/59444539/15858748\">Closest Match</a>\n",
    "\n",
    "-   <a href=\"https://stackoverflow.com/questions/28080066/how-to-reference-a-ipython-notebook-cell-in-markdown\">How\n",
    "    to markdown Jupiter Notebook</a>\n"
   ]
  },
  {
   "cell_type": "markdown",
   "metadata": {},
   "source": [
    "<a href='members'></a>\n",
    "\n",
    "# **Members**\n",
    "\n",
    "-   **1620701456** นายวิลเลี่ยม ซีเฟิร์ท \n",
    "-   **1620700482** นายณัฐพฤกษ์ บุญฤทธิ์ลักขณา \n",
    "-   **1620902864** นายรามิล งามพิทยพร \n"
   ]
  }
 ],
 "metadata": {
  "interpreter": {
   "hash": "6ca079cfc3dba9581ca024f10f4a466f79644bace2317455bc30872f8fc7da6d"
  },
  "kernelspec": {
   "display_name": "Python 3.9.9 64-bit (windows store)",
   "language": "python",
   "name": "python3"
  },
  "language_info": {
   "codemirror_mode": {
    "name": "ipython",
    "version": 3
   },
   "file_extension": ".py",
   "mimetype": "text/x-python",
   "name": "python",
   "nbconvert_exporter": "python",
   "pygments_lexer": "ipython3",
   "version": "3.9.9"
  },
  "orig_nbformat": 4
 },
 "nbformat": 4,
 "nbformat_minor": 2
}
