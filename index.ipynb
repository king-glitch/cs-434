{
 "cells": [
  {
   "cell_type": "markdown",
   "metadata": {},
   "source": [
    "# **Introduction**\n",
    "\n",
    "สวัสดีครับ นี้เป็นการส่ง Final Project ของ CS434\n",
    "\n",
    "ทุกๆ วันนี้ 2 พันกว่าล้านแอพให้ผู้ใชได้ดาวโหลด และกว่า 2 ล้านกว่าแอพให้โหลดใน\n",
    "Google Play Store. แอพพวกนี้ได้มีช่วยในการใช้ชีวติของพวกเราจนถึงทุกวันนี้\n",
    "\n",
    "วันนี้ผมจะมาลองศึกษาเกี่ยวกับการแนะนำ App ตามคำค้นหาในแต่ละรูปแบบ\n",
    "\n",
    "# **Table of Contents**\n",
    "\n",
    "-   [Importing Libraries](#importing)\n",
    "-   [Importing Dataset](#datasets)\n",
    "-   [Basic Data Exploration](#basic_understanding)\n",
    "-   [Data Cleaning](#data_cleaning)\n",
    "-   [Exploratory Data Analysis](#eda)\n",
    "-   [Feature Engineering](#feature_engineering)\n",
    "-   [References](#references)\n"
   ]
  },
  {
   "cell_type": "markdown",
   "metadata": {},
   "source": [
    "<a id='importing'></a>\n",
    "\n",
    "## **Importing libraies**\n"
   ]
  },
  {
   "cell_type": "code",
   "execution_count": 10658,
   "metadata": {},
   "outputs": [],
   "source": [
    "# imports\n",
    "# ref: https://www.kaggle.com/nandalald/android-app-recommendation\n",
    "from sklearn.feature_extraction.text import CountVectorizer\n",
    "from sklearn.feature_extraction.text import TfidfVectorizer\n",
    "from sklearn.metrics.pairwise import cosine_similarity, linear_kernel\n",
    "import pandas as pd\n",
    "import numpy as np\n",
    "import gradio as gr\n",
    "from matplotlib import pyplot as plt\n",
    "import seaborn as sns\n",
    "plt.style.use('seaborn')\n"
   ]
  },
  {
   "cell_type": "markdown",
   "metadata": {},
   "source": [
    "<a id='dataset' ></a>\n",
    "\n",
    "## **Dataset**\n"
   ]
  },
  {
   "cell_type": "code",
   "execution_count": 10659,
   "metadata": {},
   "outputs": [],
   "source": [
    "\n",
    "file_name = \"data/googleplaystore.csv\"\n",
    "df_temp = pd.read_csv(file_name, encoding=\"utf-8\")\n"
   ]
  },
  {
   "cell_type": "markdown",
   "metadata": {},
   "source": [
    "<a id='basic_understanding' />\n"
   ]
  },
  {
   "cell_type": "code",
   "execution_count": 10660,
   "metadata": {},
   "outputs": [
    {
     "data": {
      "text/html": [
       "<div>\n",
       "<style scoped>\n",
       "    .dataframe tbody tr th:only-of-type {\n",
       "        vertical-align: middle;\n",
       "    }\n",
       "\n",
       "    .dataframe tbody tr th {\n",
       "        vertical-align: top;\n",
       "    }\n",
       "\n",
       "    .dataframe thead th {\n",
       "        text-align: right;\n",
       "    }\n",
       "</style>\n",
       "<table border=\"1\" class=\"dataframe\">\n",
       "  <thead>\n",
       "    <tr style=\"text-align: right;\">\n",
       "      <th></th>\n",
       "      <th>App</th>\n",
       "      <th>Category</th>\n",
       "      <th>Rating</th>\n",
       "      <th>Reviews</th>\n",
       "      <th>Size</th>\n",
       "      <th>Installs</th>\n",
       "      <th>Type</th>\n",
       "      <th>Price</th>\n",
       "      <th>Content Rating</th>\n",
       "      <th>Genres</th>\n",
       "      <th>Last Updated</th>\n",
       "      <th>Current Ver</th>\n",
       "      <th>Android Ver</th>\n",
       "    </tr>\n",
       "  </thead>\n",
       "  <tbody>\n",
       "    <tr>\n",
       "      <th>9600</th>\n",
       "      <td>Boyaa Poker (En) – Social Texas Hold’em</td>\n",
       "      <td>GAME</td>\n",
       "      <td>4.3</td>\n",
       "      <td>71468</td>\n",
       "      <td>51M</td>\n",
       "      <td>1,000,000+</td>\n",
       "      <td>Free</td>\n",
       "      <td>0</td>\n",
       "      <td>Teen</td>\n",
       "      <td>Card</td>\n",
       "      <td>June 12, 2018</td>\n",
       "      <td>5.8.0</td>\n",
       "      <td>4.1 and up</td>\n",
       "    </tr>\n",
       "    <tr>\n",
       "      <th>10378</th>\n",
       "      <td>BMX Boy</td>\n",
       "      <td>GAME</td>\n",
       "      <td>4.2</td>\n",
       "      <td>839206</td>\n",
       "      <td>12M</td>\n",
       "      <td>50,000,000+</td>\n",
       "      <td>Free</td>\n",
       "      <td>0</td>\n",
       "      <td>Everyone</td>\n",
       "      <td>Racing</td>\n",
       "      <td>September 20, 2017</td>\n",
       "      <td>1.16.33</td>\n",
       "      <td>4.1 and up</td>\n",
       "    </tr>\n",
       "    <tr>\n",
       "      <th>8265</th>\n",
       "      <td>DC HSEMA</td>\n",
       "      <td>BOOKS_AND_REFERENCE</td>\n",
       "      <td>3.8</td>\n",
       "      <td>38</td>\n",
       "      <td>7.2M</td>\n",
       "      <td>5,000+</td>\n",
       "      <td>Free</td>\n",
       "      <td>0</td>\n",
       "      <td>Everyone</td>\n",
       "      <td>Books &amp; Reference</td>\n",
       "      <td>June 18, 2018</td>\n",
       "      <td>4.0</td>\n",
       "      <td>4.4 and up</td>\n",
       "    </tr>\n",
       "    <tr>\n",
       "      <th>8653</th>\n",
       "      <td>2Do - Reminders, To-do List &amp; Notes</td>\n",
       "      <td>PRODUCTIVITY</td>\n",
       "      <td>4.3</td>\n",
       "      <td>4649</td>\n",
       "      <td>30M</td>\n",
       "      <td>100,000+</td>\n",
       "      <td>Free</td>\n",
       "      <td>0</td>\n",
       "      <td>Everyone</td>\n",
       "      <td>Productivity</td>\n",
       "      <td>June 19, 2018</td>\n",
       "      <td>2.8.12</td>\n",
       "      <td>5.0 and up</td>\n",
       "    </tr>\n",
       "    <tr>\n",
       "      <th>8852</th>\n",
       "      <td>DT Manager</td>\n",
       "      <td>PRODUCTIVITY</td>\n",
       "      <td>4.0</td>\n",
       "      <td>9</td>\n",
       "      <td>3.1M</td>\n",
       "      <td>500+</td>\n",
       "      <td>Free</td>\n",
       "      <td>0</td>\n",
       "      <td>Everyone</td>\n",
       "      <td>Productivity</td>\n",
       "      <td>May 21, 2015</td>\n",
       "      <td>1.7</td>\n",
       "      <td>2.3 and up</td>\n",
       "    </tr>\n",
       "  </tbody>\n",
       "</table>\n",
       "</div>"
      ],
      "text/plain": [
       "                                           App             Category  Rating  \\\n",
       "9600   Boyaa Poker (En) – Social Texas Hold’em                 GAME     4.3   \n",
       "10378                                  BMX Boy                 GAME     4.2   \n",
       "8265                                  DC HSEMA  BOOKS_AND_REFERENCE     3.8   \n",
       "8653       2Do - Reminders, To-do List & Notes         PRODUCTIVITY     4.3   \n",
       "8852                                DT Manager         PRODUCTIVITY     4.0   \n",
       "\n",
       "      Reviews  Size     Installs  Type Price Content Rating  \\\n",
       "9600    71468   51M   1,000,000+  Free     0           Teen   \n",
       "10378  839206   12M  50,000,000+  Free     0       Everyone   \n",
       "8265       38  7.2M       5,000+  Free     0       Everyone   \n",
       "8653     4649   30M     100,000+  Free     0       Everyone   \n",
       "8852        9  3.1M         500+  Free     0       Everyone   \n",
       "\n",
       "                  Genres        Last Updated Current Ver Android Ver  \n",
       "9600                Card       June 12, 2018       5.8.0  4.1 and up  \n",
       "10378             Racing  September 20, 2017     1.16.33  4.1 and up  \n",
       "8265   Books & Reference       June 18, 2018         4.0  4.4 and up  \n",
       "8653        Productivity       June 19, 2018      2.8.12  5.0 and up  \n",
       "8852        Productivity        May 21, 2015         1.7  2.3 and up  "
      ]
     },
     "execution_count": 10660,
     "metadata": {},
     "output_type": "execute_result"
    }
   ],
   "source": [
    "df_temp.sample(5)\n"
   ]
  },
  {
   "cell_type": "code",
   "execution_count": 10661,
   "metadata": {},
   "outputs": [
    {
     "name": "stdout",
     "output_type": "stream",
     "text": [
      "<class 'pandas.core.frame.DataFrame'>\n",
      "RangeIndex: 10841 entries, 0 to 10840\n",
      "Data columns (total 13 columns):\n",
      " #   Column          Non-Null Count  Dtype  \n",
      "---  ------          --------------  -----  \n",
      " 0   App             10841 non-null  object \n",
      " 1   Category        10841 non-null  object \n",
      " 2   Rating          9367 non-null   float64\n",
      " 3   Reviews         10841 non-null  object \n",
      " 4   Size            10841 non-null  object \n",
      " 5   Installs        10841 non-null  object \n",
      " 6   Type            10840 non-null  object \n",
      " 7   Price           10841 non-null  object \n",
      " 8   Content Rating  10840 non-null  object \n",
      " 9   Genres          10841 non-null  object \n",
      " 10  Last Updated    10841 non-null  object \n",
      " 11  Current Ver     10833 non-null  object \n",
      " 12  Android Ver     10838 non-null  object \n",
      "dtypes: float64(1), object(12)\n",
      "memory usage: 1.1+ MB\n"
     ]
    }
   ],
   "source": [
    "# เข้าใจข้อมูล\n",
    "# check dataset info\n",
    "df_temp.info()\n"
   ]
  },
  {
   "cell_type": "code",
   "execution_count": 10662,
   "metadata": {},
   "outputs": [
    {
     "data": {
      "text/plain": [
       "App                  0\n",
       "Category             0\n",
       "Rating            1474\n",
       "Reviews              0\n",
       "Size                 0\n",
       "Installs             0\n",
       "Type                 1\n",
       "Price                0\n",
       "Content Rating       1\n",
       "Genres               0\n",
       "Last Updated         0\n",
       "Current Ver          8\n",
       "Android Ver          3\n",
       "dtype: int64"
      ]
     },
     "execution_count": 10662,
     "metadata": {},
     "output_type": "execute_result"
    }
   ],
   "source": [
    "# check null\n",
    "df_temp.isna().sum()\n"
   ]
  },
  {
   "cell_type": "markdown",
   "metadata": {},
   "source": [
    "_จะเห็นได้ว่า rating มีข้อมูลเสียเยอะ_\n"
   ]
  },
  {
   "cell_type": "markdown",
   "metadata": {},
   "source": [
    "<a id='data_cleaning' ></a>\n",
    "\n",
    "## **Data Cleaning**\n",
    "\n",
    "> เราจะใช้ข้อมูลที่จำเป็นสำหรับการใช้ข้อมูลนี้เท่านั้น  \n",
    "> เช็คข้อมูล insight หลักๆ ที่อาจจะทำให้เรามีปัญหาในการใช้ข้อมูล  \n",
    "> ข้อมูลที่ไม่จำเป็นเราจะนำออกไป เช่น rating, reviews บลาๆ  \n",
    ">\n"
   ]
  },
  {
   "cell_type": "code",
   "execution_count": 10663,
   "metadata": {},
   "outputs": [],
   "source": [
    "df = df_temp.copy()\n",
    "\n",
    "# remove unuse cols\n",
    "df = df.reindex(columns=['App', 'Category', 'Size',\n",
    "                'Type', 'Genres', 'Price', 'Installs', 'Content Rating'])\n"
   ]
  },
  {
   "cell_type": "code",
   "execution_count": 10664,
   "metadata": {},
   "outputs": [],
   "source": [
    "# rename col\n",
    "temp_keys = {}\n",
    "for i in df.columns:\n",
    "    temp_keys[i] = i.lower()\n",
    "df = df.rename(columns=temp_keys)\n"
   ]
  },
  {
   "cell_type": "code",
   "execution_count": 10665,
   "metadata": {},
   "outputs": [
    {
     "data": {
      "text/plain": [
       "app               0\n",
       "category          0\n",
       "size              0\n",
       "type              1\n",
       "genres            0\n",
       "price             0\n",
       "installs          0\n",
       "content rating    1\n",
       "dtype: int64"
      ]
     },
     "execution_count": 10665,
     "metadata": {},
     "output_type": "execute_result"
    }
   ],
   "source": [
    "df.isna().sum()\n",
    "# ข้อมูลที่เสียมีน้อยมาก\n"
   ]
  },
  {
   "cell_type": "code",
   "execution_count": 10666,
   "metadata": {},
   "outputs": [
    {
     "data": {
      "text/plain": [
       "(9660, 8)"
      ]
     },
     "execution_count": 10666,
     "metadata": {},
     "output_type": "execute_result"
    }
   ],
   "source": [
    "# ลบข้อมูลที่เสียออกไปซะ\n",
    "df.drop_duplicates(subset='app', inplace=True, ignore_index=True)\n",
    "df.shape\n"
   ]
  },
  {
   "cell_type": "code",
   "execution_count": 10667,
   "metadata": {},
   "outputs": [
    {
     "data": {
      "text/plain": [
       "app               0\n",
       "category          0\n",
       "size              0\n",
       "type              0\n",
       "genres            0\n",
       "price             0\n",
       "installs          0\n",
       "content rating    0\n",
       "dtype: int64"
      ]
     },
     "execution_count": 10667,
     "metadata": {},
     "output_type": "execute_result"
    }
   ],
   "source": [
    "# เราจะทำการลบข้อมูล ที่เสียหาย\n",
    "df.dropna(axis=0, inplace=True)\n",
    "df.isna().sum()\n"
   ]
  },
  {
   "cell_type": "markdown",
   "metadata": {},
   "source": [
    "_ข้อมูลที่เสียหายหมดแล้วว_\n",
    "\n",
    "#### เช็คแต่ละตารางที่อาจจะมีปัญหา\n"
   ]
  },
  {
   "cell_type": "code",
   "execution_count": 10668,
   "metadata": {},
   "outputs": [
    {
     "data": {
      "text/plain": [
       "content rating\n",
       "Adults only 18+       3\n",
       "Everyone           7903\n",
       "Everyone 10+        321\n",
       "Mature 17+          393\n",
       "Teen               1036\n",
       "Unrated               2\n",
       "Name: content rating, dtype: int64"
      ]
     },
     "execution_count": 10668,
     "metadata": {},
     "output_type": "execute_result"
    }
   ],
   "source": [
    "df.groupby(['content rating'])['content rating'].count()\n"
   ]
  },
  {
   "cell_type": "markdown",
   "metadata": {},
   "source": [
    "_จากข้อมูลชุดนี้ Unrate น่าจะหมายถึง everyone_\n",
    "\n",
    "#### ทำการเปลี่ยนข้อมูล\n"
   ]
  },
  {
   "cell_type": "code",
   "execution_count": 10669,
   "metadata": {},
   "outputs": [
    {
     "data": {
      "text/plain": [
       "content rating\n",
       "Adults only 18+       3\n",
       "Everyone           7905\n",
       "Everyone 10+        321\n",
       "Mature 17+          393\n",
       "Teen               1036\n",
       "Name: content rating, dtype: int64"
      ]
     },
     "execution_count": 10669,
     "metadata": {},
     "output_type": "execute_result"
    }
   ],
   "source": [
    "df.loc[df['content rating'] == 'Unrated', ['content rating']] = 'Everyone'\n",
    "\n",
    "df.groupby(['content rating'])['content rating'].count()\n"
   ]
  },
  {
   "cell_type": "markdown",
   "metadata": {},
   "source": [
    "_ข้อมูลถูกเปลี่ยนแล้วเย้_\n"
   ]
  },
  {
   "cell_type": "code",
   "execution_count": 10670,
   "metadata": {},
   "outputs": [
    {
     "data": {
      "text/plain": [
       "category\n",
       "ART_AND_DESIGN           64\n",
       "AUTO_AND_VEHICLES        85\n",
       "BEAUTY                   53\n",
       "BOOKS_AND_REFERENCE     222\n",
       "BUSINESS                420\n",
       "COMICS                   56\n",
       "COMMUNICATION           315\n",
       "DATING                  171\n",
       "EDUCATION               119\n",
       "ENTERTAINMENT           102\n",
       "EVENTS                   64\n",
       "FAMILY                 1831\n",
       "FINANCE                 345\n",
       "FOOD_AND_DRINK          112\n",
       "GAME                    959\n",
       "HEALTH_AND_FITNESS      288\n",
       "HOUSE_AND_HOME           74\n",
       "LIBRARIES_AND_DEMO       84\n",
       "LIFESTYLE               369\n",
       "MAPS_AND_NAVIGATION     131\n",
       "MEDICAL                 395\n",
       "NEWS_AND_MAGAZINES      254\n",
       "PARENTING                60\n",
       "PERSONALIZATION         376\n",
       "PHOTOGRAPHY             281\n",
       "PRODUCTIVITY            374\n",
       "SHOPPING                202\n",
       "SOCIAL                  239\n",
       "SPORTS                  325\n",
       "TOOLS                   827\n",
       "TRAVEL_AND_LOCAL        219\n",
       "VIDEO_PLAYERS           163\n",
       "WEATHER                  79\n",
       "Name: category, dtype: int64"
      ]
     },
     "execution_count": 10670,
     "metadata": {},
     "output_type": "execute_result"
    }
   ],
   "source": [
    "\n",
    "df.groupby(['category'])['category'].count()\n"
   ]
  },
  {
   "cell_type": "code",
   "execution_count": 10674,
   "metadata": {},
   "outputs": [
    {
     "data": {
      "text/plain": [
       "genres\n",
       "Action                                   299\n",
       "Action;Action & Adventure                 12\n",
       "Adventure                                 73\n",
       "Adventure;Action & Adventure               5\n",
       "Adventure;Brain Games                      1\n",
       "                                        ... \n",
       "Video Players & Editors                  162\n",
       "Video Players & Editors;Creativity         1\n",
       "Video Players & Editors;Music & Video      2\n",
       "Weather                                   79\n",
       "Word                                      23\n",
       "Name: genres, Length: 118, dtype: int64"
      ]
     },
     "execution_count": 10674,
     "metadata": {},
     "output_type": "execute_result"
    }
   ],
   "source": [
    "# มาดูส่วนของ genres\n",
    "df.groupby(['genres'])['genres'].count()\n"
   ]
  },
  {
   "cell_type": "markdown",
   "metadata": {},
   "source": [
    "_จะเป็นได้ว่าบาง genres มีมา่กกว่า 1 รูปแบบ ซึ่งแบ่งด้วย ตัว semi colon_  \n",
    "_เราจะแบ่งตัว genres ให้เป็นรูปแบบ ว่าตัว genres มันมีเท่าไหร่_\n"
   ]
  },
  {
   "cell_type": "code",
   "execution_count": 10675,
   "metadata": {},
   "outputs": [
    {
     "data": {
      "text/plain": [
       "{'Art & Design': 65,\n",
       " 'Pretend Play': 69,\n",
       " 'Creativity': 33,\n",
       " 'Action & Adventure': 98,\n",
       " 'Auto & Vehicles': 85,\n",
       " 'Beauty': 53,\n",
       " 'Books & Reference': 225,\n",
       " 'Business': 420,\n",
       " 'Comics': 56,\n",
       " 'Communication': 316,\n",
       " 'Dating': 171,\n",
       " 'Education': 678,\n",
       " 'Music & Video': 31,\n",
       " 'Brain Games': 64,\n",
       " 'Entertainment': 592,\n",
       " 'Events': 64,\n",
       " 'Finance': 345,\n",
       " 'Food & Drink': 112,\n",
       " 'Health & Fitness': 290,\n",
       " 'House & Home': 74,\n",
       " 'Libraries & Demo': 84,\n",
       " 'Lifestyle': 370,\n",
       " 'Adventure': 80,\n",
       " 'Arcade': 199,\n",
       " 'Casual': 225,\n",
       " 'Card': 49,\n",
       " 'Action': 311,\n",
       " 'Strategy': 98,\n",
       " 'Puzzle': 142,\n",
       " 'Sports': 335,\n",
       " 'Music': 22,\n",
       " 'Word': 23,\n",
       " 'Racing': 108,\n",
       " 'Simulation': 206,\n",
       " 'Board': 60,\n",
       " 'Trivia': 39,\n",
       " 'Role Playing': 115,\n",
       " 'Educational': 102,\n",
       " 'Music & Audio': 1,\n",
       " 'Video Players & Editors': 165,\n",
       " 'Medical': 395,\n",
       " 'Social': 239,\n",
       " 'Shopping': 202,\n",
       " 'Photography': 281,\n",
       " 'Travel & Local': 219,\n",
       " 'Tools': 827,\n",
       " 'Personalization': 376,\n",
       " 'Productivity': 374,\n",
       " 'Parenting': 60,\n",
       " 'Weather': 79,\n",
       " 'News & Magazines': 254,\n",
       " 'Maps & Navigation': 131,\n",
       " 'Casino': 39}"
      ]
     },
     "execution_count": 10675,
     "metadata": {},
     "output_type": "execute_result"
    }
   ],
   "source": [
    "\n",
    "genres = df['genres']\n",
    "genres_results = {}\n",
    "for gen in genres:\n",
    "    for g in gen.split(';'):\n",
    "        if g not in genres_results:\n",
    "            genres_results[g] = 1\n",
    "            continue\n",
    "        genres_results[g] += 1\n",
    "genres_results\n"
   ]
  },
  {
   "cell_type": "code",
   "execution_count": 10676,
   "metadata": {},
   "outputs": [],
   "source": [
    "def convert_size(s):\n",
    "    if s.replace('M', '').replace('.', '', 1).isdigit():\n",
    "        size = float(s.replace('M', ''))\n",
    "        return 1024 * size\n",
    "    if s.replace('k', '').replace('.', '', 1).isdigit():\n",
    "        return float(s.replace('k', ''))\n",
    "    return 0\n"
   ]
  },
  {
   "cell_type": "markdown",
   "metadata": {},
   "source": [
    "> จะเห็นได้ว่า size เป็น type object ต้องเปลี่ยนเป็น int  \n",
    "> ซึ่งเราจะแปลกตัวเลขนี้ ให้เป็นค่า kb ทั้งหมด จะได้ใช้ได้ง่าย เมื่อมีค่าอิน\n",
    "> นอกจากตัวค่า mb\n"
   ]
  },
  {
   "cell_type": "code",
   "execution_count": 10677,
   "metadata": {},
   "outputs": [
    {
     "data": {
      "text/plain": [
       "6040     7065.6\n",
       "6450     6451.2\n",
       "5953    48128.0\n",
       "4207    22528.0\n",
       "6594    18432.0\n",
       "Name: size, dtype: float64"
      ]
     },
     "execution_count": 10677,
     "metadata": {},
     "output_type": "execute_result"
    }
   ],
   "source": [
    "df['size'] = df['size'].apply(convert_size)\n",
    "df['size'].sample(5)\n"
   ]
  },
  {
   "cell_type": "markdown",
   "metadata": {},
   "source": [
    "_จะเห็นได้ว่า installs เป็น type object ต้องเปลี่ยนเป็น int_\n"
   ]
  },
  {
   "cell_type": "code",
   "execution_count": 10678,
   "metadata": {},
   "outputs": [
    {
     "data": {
      "text/plain": [
       "7056        10,000+\n",
       "3923    10,000,000+\n",
       "Name: installs, dtype: object"
      ]
     },
     "execution_count": 10678,
     "metadata": {},
     "output_type": "execute_result"
    }
   ],
   "source": [
    "df['installs'].sample(2)\n"
   ]
  },
  {
   "cell_type": "markdown",
   "metadata": {},
   "source": [
    "_ข้อมูลจะมี + ตามหลัง และ comma เราจะนำออก; และเปลี่ยนค่าเป็น int32_\n"
   ]
  },
  {
   "cell_type": "code",
   "execution_count": 10679,
   "metadata": {},
   "outputs": [
    {
     "data": {
      "text/plain": [
       "0          10000\n",
       "1         500000\n",
       "2        5000000\n",
       "3       50000000\n",
       "4         100000\n",
       "          ...   \n",
       "9655        5000\n",
       "9656         100\n",
       "9657        1000\n",
       "9658        1000\n",
       "9659    10000000\n",
       "Name: installs, Length: 9658, dtype: int32"
      ]
     },
     "execution_count": 10679,
     "metadata": {},
     "output_type": "execute_result"
    }
   ],
   "source": [
    "df['installs'] = df['installs'].str.replace(\n",
    "    '+', '', regex=True).replace(',', '', regex=True).astype(int)\n",
    "df['installs']\n"
   ]
  },
  {
   "cell_type": "code",
   "execution_count": 10680,
   "metadata": {},
   "outputs": [
    {
     "data": {
      "text/plain": [
       "5869    0.0\n",
       "5090    0.0\n",
       "511     0.0\n",
       "8977    0.0\n",
       "4242    0.0\n",
       "Name: price, dtype: float64"
      ]
     },
     "execution_count": 10680,
     "metadata": {},
     "output_type": "execute_result"
    }
   ],
   "source": [
    "# price จะมีสองรูปแบบคือ free กับ paid ต้องเปลี่ยนเป็น bin ถึงจะได้ง่ายต่อการทำงาน\n",
    "\n",
    "df.loc[df['price'] != \"Free\", 'price'] = df.loc[df['price']\n",
    "                                                != \"Free\", 'price'].apply(lambda x: float(x.replace('$', '')))\n",
    "\n",
    "df.loc[df['price'] == 'Free', 'price'] = 0\n",
    "\n",
    "df['price'].sample(5)\n"
   ]
  },
  {
   "cell_type": "markdown",
   "metadata": {},
   "source": [
    "<a id='eda'></a>\n",
    "\n",
    "## **Exploratory Data Analysis**\n"
   ]
  },
  {
   "cell_type": "markdown",
   "metadata": {},
   "source": [
    "### ดูประรูปแบบของอายุของแต่ละประเภท\n",
    "\n",
    "    ดูว่าแต่แอพแต่ละประเภทนั้นมีความนิยมในช่วงอายุไหน\n"
   ]
  },
  {
   "cell_type": "code",
   "execution_count": 10681,
   "metadata": {},
   "outputs": [
    {
     "data": {
      "image/png": "[encoded data removed]",
      "text/plain": [
       "<Figure size 720x720 with 1 Axes>"
      ]
     },
     "metadata": {},
     "output_type": "display_data"
    }
   ],
   "source": [
    "plt.figure(figsize=(10, 10))\n",
    "df['content rating'].value_counts().plot(kind='pie', autopct=\"%.2f\",\n",
    "                                         colors=sns.color_palette(\"deep\"), fontsize=20)\n",
    "plt.show()\n"
   ]
  },
  {
   "cell_type": "markdown",
   "metadata": {},
   "source": [
    "*จะเห็นได้ว่า ความนิยมส่วนใหญ่นั้น จะเน้นนิยมไปทางทุกช่วงอายุคน*"
   ]
  },
  {
   "cell_type": "markdown",
   "metadata": {},
   "source": [
    "### ดูความนิยมของ 20 อันดับแรกของ แต่ละหมวดหมู่\n",
    "\n",
    "    ดูว่าแต่แอพแต่ละหมวดหมู่นั้นมีความนิยมเป็นประเภทไหนซะส่วนใหญ่\n"
   ]
  },
  {
   "cell_type": "code",
   "execution_count": 10682,
   "metadata": {},
   "outputs": [
    {
     "data": {
      "image/png": "[encoded data removed]",
      "text/plain": [
       "<Figure size 720x720 with 1 Axes>"
      ]
     },
     "metadata": {},
     "output_type": "display_data"
    }
   ],
   "source": [
    "plt.figure(figsize=(10, 10))\n",
    "category_dict = dict(df[['category']].groupby(\n",
    "    'category')['category'].count().nlargest(20))\n",
    "data_plot = dict(sorted(category_dict.items(),\n",
    "                 key=lambda kv: kv[1], reverse=True))\n",
    "data_plot = [key for key, val in data_plot.items() for _ in range(val)]\n",
    "sns.countplot(y=data_plot)\n",
    "plt.show()\n"
   ]
  },
  {
   "cell_type": "markdown",
   "metadata": {},
   "source": [
    "*แอพหมวดหมู่ FAMILY จะมีเยอะที่สุด และ ตามมาด้วย GAME ใน Google Play Store*\n"
   ]
  },
  {
   "cell_type": "markdown",
   "metadata": {},
   "source": [
    "### ดูความนิยมของแต่ละประเภทในแต่ละแอพ\n",
    "\n",
    "    ดูว่าแต่ละแอพนั้นนิยมประเภทแบบไหนบ้าง\n"
   ]
  },
  {
   "cell_type": "code",
   "execution_count": 10683,
   "metadata": {},
   "outputs": [
    {
     "data": {
      "image/png": "[encoded data removed]",
      "text/plain": [
       "<Figure size 720x720 with 1 Axes>"
      ]
     },
     "metadata": {},
     "output_type": "display_data"
    }
   ],
   "source": [
    "# ดูความนิยมของแต่ละ tag ในแอพ\n",
    "plt.figure(figsize=(10, 10))\n",
    "data_plot = dict(sorted(genres_results.items(),\n",
    "                 key=lambda kv: kv[1], reverse=True))\n",
    "data_plot = [key for key, val in data_plot.items() for _ in range(val)]\n",
    "sns.countplot(y=data_plot)\n",
    "plt.show()\n"
   ]
  },
  {
   "cell_type": "markdown",
   "metadata": {},
   "source": [
    "*แอพประเภท Tools จะมีเยอะที่สุดใน Google Play Store*\n"
   ]
  },
  {
   "cell_type": "markdown",
   "metadata": {},
   "source": [
    "### ดูหมวดหมูแต่ละหมวดหมู่ว่า หมวดหมู่ไหนนิยมเสียเงิน\n",
    "\n",
    "    แสดงหมวดหมูที่นิยมเสียเงิน\n"
   ]
  },
  {
   "cell_type": "code",
   "execution_count": 10684,
   "metadata": {},
   "outputs": [
    {
     "data": {
      "image/png": "[encoded data removed]",
      "text/plain": [
       "<Figure size 720x720 with 1 Axes>"
      ]
     },
     "metadata": {},
     "output_type": "display_data"
    }
   ],
   "source": [
    "plt.figure(figsize=(10, 10))\n",
    "price_sort = df.loc[df.type == 'Paid', ['price', 'category']]\n",
    "data_plot = dict(price_sort.sort_values(by=['price'], ascending=False))\n",
    "sns.barplot(data=data_plot, x='price', y='category')\n",
    "plt.show()\n"
   ]
  },
  {
   "cell_type": "markdown",
   "metadata": {},
   "source": [
    "*จะเห็นได้ว่า หมวดหมู่ LIFT STYLE จะแพงที่สุด แต่หมวดหมู่ FINANCE\n",
    "แอพส่วนใหญ่แน่นเป็นแอพเสียเงิน*\n"
   ]
  },
  {
   "cell_type": "markdown",
   "metadata": {},
   "source": [
    "<a id='feature_engineering'></a>\n",
    "\n",
    "## **Feature Engineering**\n",
    "\n",
    "#### เราจะทำในเรื่องของ App Recommendation\n",
    "- เราจะใช้ตัว CountVectorizer เพราะเราจะใช้ข้อมูลที่ใช้ในการค้นหาเป็นหลักๆ"
   ]
  },
  {
   "cell_type": "code",
   "execution_count": 10686,
   "metadata": {},
   "outputs": [],
   "source": [
    "# เรียกใช้ตัว CountVectorizer\n",
    "count_vectorizer = CountVectorizer(lowercase=True, stop_words='english')\n"
   ]
  },
  {
   "cell_type": "markdown",
   "metadata": {},
   "source": [
    "*แต่ก่อนอื่นเราต้องจัดข้อมูลใหม่ก่อน ให้ ตัว CountVectorizer จะได้แบ่งคำง่ายๆ*"
   ]
  },
  {
   "cell_type": "code",
   "execution_count": 10712,
   "metadata": {},
   "outputs": [
    {
     "data": {
      "text/plain": [
       "7988              Shopping SHOPPING Free\n",
       "1859                Medical MEDICAL Free\n",
       "5862                     Board GAME Paid\n",
       "2899                Weather WEATHER Free\n",
       "956     Food   Drink FOOD_AND_DRINK Free\n",
       "dtype: object"
      ]
     },
     "execution_count": 10712,
     "metadata": {},
     "output_type": "execute_result"
    }
   ],
   "source": [
    "# สร้างข้อมูลของ content\n",
    "describe = (df['genres'].replace(to_replace='(;|&| +)', value=' ',\n",
    "            regex=True) + \" \" + df['category'] + \" \" + df['type'])\n",
    "describe.sample(5)\n"
   ]
  },
  {
   "cell_type": "code",
   "execution_count": 10713,
   "metadata": {},
   "outputs": [
    {
     "data": {
      "text/plain": [
       "(9658, 81)"
      ]
     },
     "execution_count": 10713,
     "metadata": {},
     "output_type": "execute_result"
    }
   ],
   "source": [
    "# สร้างตัว matrix สำหรับ content ที่ใช้สำหรับข้อมูลที่คล้ายๆกัน\n",
    "content_count_matrix = count_vectorizer.fit_transform(describe)\n",
    "content_cosine_sim = cosine_similarity(\n",
    "    content_count_matrix, content_count_matrix)\n",
    "content_count_matrix.shape\n"
   ]
  },
  {
   "cell_type": "code",
   "execution_count": 10714,
   "metadata": {},
   "outputs": [
    {
     "data": {
      "text/plain": [
       "(9658, 126)"
      ]
     },
     "execution_count": 10714,
     "metadata": {},
     "output_type": "execute_result"
    }
   ],
   "source": [
    "# สร้างตัว matrix สำหรับ content ที่คล้ายแกัน โดยไม่สนว่าจ่ายเงินหรือไม่จ่าย\n",
    "type_count_matrix = count_vectorizer.fit_transform(df['genres'].replace(\n",
    "    to_replace='(;|&| +)', value=' ', regex=True)+df['category'])\n",
    "type_cosine_sim = cosine_similarity(type_count_matrix, type_count_matrix)\n",
    "type_count_matrix.shape\n"
   ]
  },
  {
   "cell_type": "code",
   "execution_count": 10715,
   "metadata": {},
   "outputs": [
    {
     "data": {
      "text/plain": [
       "(9658, 12342)"
      ]
     },
     "execution_count": 10715,
     "metadata": {},
     "output_type": "execute_result"
    }
   ],
   "source": [
    "# สร้างตัว matrix สำหรับ ชื่อแอพที่คล้ายๆ กีน\n",
    "name_count_matrix = count_vectorizer.fit_transform(df['category']+df['app'])\n",
    "name_cosine_sim = cosine_similarity(name_count_matrix, name_count_matrix)\n",
    "name_count_matrix.shape\n"
   ]
  },
  {
   "cell_type": "code",
   "execution_count": 10719,
   "metadata": {},
   "outputs": [],
   "source": [
    "class Recommendations:\n",
    "    def __init__(self, name: str, amount: int = 10):\n",
    "        self.name = self.nearest_name(name)\n",
    "        self.amount = amount\n",
    "\n",
    "    def nearest_name(self, name: str):\n",
    "        close = self.get_close_matches(name)\n",
    "        get_sr = df['app'][df['app'].isin([name])]\n",
    "        if len(get_sr) != 0:\n",
    "            return get_sr.iloc[0]\n",
    "        elif close:\n",
    "            return close[0]\n",
    "        return None\n",
    "\n",
    "    def get_close_matches(self, name: str):\n",
    "        global df\n",
    "        get_sr2 = df['app'][df['app'].apply(\n",
    "            lambda x: x.lower()).str.contains(name.lower())]\n",
    "        if len(get_sr2) != 0:\n",
    "            return get_sr2.tolist()\n",
    "        return []\n",
    "\n",
    "    def get_indices(self):\n",
    "        metadata = df.reset_index()\n",
    "        indices = pd.Series(metadata.index, index=metadata['app'])\n",
    "        if not self.name:\n",
    "            return None\n",
    "        return indices[self.name]\n",
    "\n",
    "    def get_recommendations(self, cosine_sim=content_cosine_sim):\n",
    "        indice = self.get_indices()\n",
    "        if not indice:\n",
    "            return 'No name was near'\n",
    "        sim_scores = list(enumerate(cosine_sim[indice]))\n",
    "        sim_scores = sorted(sim_scores, key=lambda x: x[1], reverse=True)\n",
    "        sim_scores = sim_scores[0:self.amount + 1]\n",
    "        _indices = [i[0] for i in sim_scores]\n",
    "\n",
    "        recs = df[['app', 'genres', 'category', 'type']].iloc[_indices]\n",
    "        recs['match_score'] = [i[1] for i in sim_scores]\n",
    "        recs['match_score'] = recs['match_score'].apply(lambda x: round(x, 4))\n",
    "        recs = recs.loc[recs.app != self.name]\n",
    "        return recs.loc[recs.match_score > 0, ['app', 'genres', 'category', 'type', 'match_score']]\n",
    "\n",
    "    def get_app_detail(self):\n",
    "        return df.loc[df['app'] == self.name, ['app', 'genres', 'category', 'type']]\n"
   ]
  },
  {
   "cell_type": "code",
   "execution_count": 10720,
   "metadata": {},
   "outputs": [
    {
     "data": {
      "text/html": [
       "<div>\n",
       "<style scoped>\n",
       "    .dataframe tbody tr th:only-of-type {\n",
       "        vertical-align: middle;\n",
       "    }\n",
       "\n",
       "    .dataframe tbody tr th {\n",
       "        vertical-align: top;\n",
       "    }\n",
       "\n",
       "    .dataframe thead th {\n",
       "        text-align: right;\n",
       "    }\n",
       "</style>\n",
       "<table border=\"1\" class=\"dataframe\">\n",
       "  <thead>\n",
       "    <tr style=\"text-align: right;\">\n",
       "      <th></th>\n",
       "      <th>app</th>\n",
       "      <th>genres</th>\n",
       "      <th>category</th>\n",
       "      <th>type</th>\n",
       "    </tr>\n",
       "  </thead>\n",
       "  <tbody>\n",
       "    <tr>\n",
       "      <th>409</th>\n",
       "      <td>Private Dating, Hide App- Blue for PrivacyHider</td>\n",
       "      <td>Dating</td>\n",
       "      <td>DATING</td>\n",
       "      <td>Paid</td>\n",
       "    </tr>\n",
       "  </tbody>\n",
       "</table>\n",
       "</div>"
      ],
      "text/plain": [
       "                                                 app  genres category  type\n",
       "409  Private Dating, Hide App- Blue for PrivacyHider  Dating   DATING  Paid"
      ]
     },
     "execution_count": 10720,
     "metadata": {},
     "output_type": "execute_result"
    }
   ],
   "source": [
    "# construct ข้อมูลแอพ จากชื่อที่ให้ไป\n",
    "recommend = Recommendations('Dating')\n",
    "\n",
    "# แสดงข้อมูลแอพที่ใกล้เคียงกับชื่อมากที่สุดมาแสดง\n",
    "recommend.get_app_detail()\n"
   ]
  },
  {
   "cell_type": "markdown",
   "metadata": {},
   "source": [
    "*จะได้ข้อมูลใกล้เคียงกับแอพที่เราค้นหามากที่สุด*\n",
    "- จะนำข้อมูลที่ได้ แนะนำลูกค้า"
   ]
  },
  {
   "cell_type": "code",
   "execution_count": 10721,
   "metadata": {},
   "outputs": [
    {
     "data": {
      "text/html": [
       "<div>\n",
       "<style scoped>\n",
       "    .dataframe tbody tr th:only-of-type {\n",
       "        vertical-align: middle;\n",
       "    }\n",
       "\n",
       "    .dataframe tbody tr th {\n",
       "        vertical-align: top;\n",
       "    }\n",
       "\n",
       "    .dataframe thead th {\n",
       "        text-align: right;\n",
       "    }\n",
       "</style>\n",
       "<table border=\"1\" class=\"dataframe\">\n",
       "  <thead>\n",
       "    <tr style=\"text-align: right;\">\n",
       "      <th></th>\n",
       "      <th>app</th>\n",
       "      <th>genres</th>\n",
       "      <th>category</th>\n",
       "      <th>type</th>\n",
       "      <th>match_score</th>\n",
       "    </tr>\n",
       "  </thead>\n",
       "  <tbody>\n",
       "    <tr>\n",
       "      <th>406</th>\n",
       "      <td>Moco+ - Chat, Meet People</td>\n",
       "      <td>Dating</td>\n",
       "      <td>DATING</td>\n",
       "      <td>Paid</td>\n",
       "      <td>1.0</td>\n",
       "    </tr>\n",
       "    <tr>\n",
       "      <th>407</th>\n",
       "      <td>Calculator</td>\n",
       "      <td>Dating</td>\n",
       "      <td>DATING</td>\n",
       "      <td>Paid</td>\n",
       "      <td>1.0</td>\n",
       "    </tr>\n",
       "    <tr>\n",
       "      <th>408</th>\n",
       "      <td>Truth or Dare Pro</td>\n",
       "      <td>Dating</td>\n",
       "      <td>DATING</td>\n",
       "      <td>Paid</td>\n",
       "      <td>1.0</td>\n",
       "    </tr>\n",
       "    <tr>\n",
       "      <th>410</th>\n",
       "      <td>Ad Blocker for SayHi</td>\n",
       "      <td>Dating</td>\n",
       "      <td>DATING</td>\n",
       "      <td>Paid</td>\n",
       "      <td>1.0</td>\n",
       "    </tr>\n",
       "    <tr>\n",
       "      <th>411</th>\n",
       "      <td>AMBW Dating App: Asian Men Black Women Interra...</td>\n",
       "      <td>Dating</td>\n",
       "      <td>DATING</td>\n",
       "      <td>Paid</td>\n",
       "      <td>1.0</td>\n",
       "    </tr>\n",
       "    <tr>\n",
       "      <th>412</th>\n",
       "      <td>Zoosk Dating App: Meet Singles</td>\n",
       "      <td>Dating</td>\n",
       "      <td>DATING</td>\n",
       "      <td>Free</td>\n",
       "      <td>0.8</td>\n",
       "    </tr>\n",
       "    <tr>\n",
       "      <th>413</th>\n",
       "      <td>OkCupid Dating</td>\n",
       "      <td>Dating</td>\n",
       "      <td>DATING</td>\n",
       "      <td>Free</td>\n",
       "      <td>0.8</td>\n",
       "    </tr>\n",
       "    <tr>\n",
       "      <th>414</th>\n",
       "      <td>Match™ Dating - Meet Singles</td>\n",
       "      <td>Dating</td>\n",
       "      <td>DATING</td>\n",
       "      <td>Free</td>\n",
       "      <td>0.8</td>\n",
       "    </tr>\n",
       "    <tr>\n",
       "      <th>415</th>\n",
       "      <td>Hily: Dating, Chat, Match, Meet &amp; Hook up</td>\n",
       "      <td>Dating</td>\n",
       "      <td>DATING</td>\n",
       "      <td>Free</td>\n",
       "      <td>0.8</td>\n",
       "    </tr>\n",
       "    <tr>\n",
       "      <th>416</th>\n",
       "      <td>Hinge: Dating &amp; Relationships</td>\n",
       "      <td>Dating</td>\n",
       "      <td>DATING</td>\n",
       "      <td>Free</td>\n",
       "      <td>0.8</td>\n",
       "    </tr>\n",
       "  </tbody>\n",
       "</table>\n",
       "</div>"
      ],
      "text/plain": [
       "                                                   app  genres category  type  \\\n",
       "406                          Moco+ - Chat, Meet People  Dating   DATING  Paid   \n",
       "407                                         Calculator  Dating   DATING  Paid   \n",
       "408                                  Truth or Dare Pro  Dating   DATING  Paid   \n",
       "410                               Ad Blocker for SayHi  Dating   DATING  Paid   \n",
       "411  AMBW Dating App: Asian Men Black Women Interra...  Dating   DATING  Paid   \n",
       "412                     Zoosk Dating App: Meet Singles  Dating   DATING  Free   \n",
       "413                                     OkCupid Dating  Dating   DATING  Free   \n",
       "414                       Match™ Dating - Meet Singles  Dating   DATING  Free   \n",
       "415          Hily: Dating, Chat, Match, Meet & Hook up  Dating   DATING  Free   \n",
       "416                      Hinge: Dating & Relationships  Dating   DATING  Free   \n",
       "\n",
       "     match_score  \n",
       "406          1.0  \n",
       "407          1.0  \n",
       "408          1.0  \n",
       "410          1.0  \n",
       "411          1.0  \n",
       "412          0.8  \n",
       "413          0.8  \n",
       "414          0.8  \n",
       "415          0.8  \n",
       "416          0.8  "
      ]
     },
     "execution_count": 10721,
     "metadata": {},
     "output_type": "execute_result"
    }
   ],
   "source": [
    "# แสดงข้อมูล content ที่ใกล้เคียงที่สุด ของแอพที่ได้มาแสดง\n",
    "recommend.get_recommendations()"
   ]
  },
  {
   "cell_type": "markdown",
   "metadata": {},
   "source": [
    "*แสดลงข้อมูลทีี่ใกล้เคียงกับข้อมูลหลักที่เราได้มา*"
   ]
  },
  {
   "cell_type": "code",
   "execution_count": 10722,
   "metadata": {},
   "outputs": [
    {
     "data": {
      "text/html": [
       "<div>\n",
       "<style scoped>\n",
       "    .dataframe tbody tr th:only-of-type {\n",
       "        vertical-align: middle;\n",
       "    }\n",
       "\n",
       "    .dataframe tbody tr th {\n",
       "        vertical-align: top;\n",
       "    }\n",
       "\n",
       "    .dataframe thead th {\n",
       "        text-align: right;\n",
       "    }\n",
       "</style>\n",
       "<table border=\"1\" class=\"dataframe\">\n",
       "  <thead>\n",
       "    <tr style=\"text-align: right;\">\n",
       "      <th></th>\n",
       "      <th>app</th>\n",
       "      <th>genres</th>\n",
       "      <th>category</th>\n",
       "      <th>type</th>\n",
       "      <th>match_score</th>\n",
       "    </tr>\n",
       "  </thead>\n",
       "  <tbody>\n",
       "    <tr>\n",
       "      <th>425</th>\n",
       "      <td>Clover Dating App</td>\n",
       "      <td>Dating</td>\n",
       "      <td>DATING</td>\n",
       "      <td>Free</td>\n",
       "      <td>0.4714</td>\n",
       "    </tr>\n",
       "    <tr>\n",
       "      <th>532</th>\n",
       "      <td>Spine- The dating app</td>\n",
       "      <td>Dating</td>\n",
       "      <td>DATING</td>\n",
       "      <td>Free</td>\n",
       "      <td>0.4714</td>\n",
       "    </tr>\n",
       "    <tr>\n",
       "      <th>454</th>\n",
       "      <td>Hide App, Private Dating, Safe Chat - PrivacyH...</td>\n",
       "      <td>Dating</td>\n",
       "      <td>DATING</td>\n",
       "      <td>Free</td>\n",
       "      <td>0.4629</td>\n",
       "    </tr>\n",
       "    <tr>\n",
       "      <th>420</th>\n",
       "      <td>CMB Free Dating App</td>\n",
       "      <td>Dating</td>\n",
       "      <td>DATING</td>\n",
       "      <td>Free</td>\n",
       "      <td>0.4082</td>\n",
       "    </tr>\n",
       "    <tr>\n",
       "      <th>422</th>\n",
       "      <td>eharmony - Online Dating App</td>\n",
       "      <td>Dating</td>\n",
       "      <td>DATING</td>\n",
       "      <td>Free</td>\n",
       "      <td>0.4082</td>\n",
       "    </tr>\n",
       "    <tr>\n",
       "      <th>447</th>\n",
       "      <td>Christian Dating For Free App</td>\n",
       "      <td>Dating</td>\n",
       "      <td>DATING</td>\n",
       "      <td>Free</td>\n",
       "      <td>0.4082</td>\n",
       "    </tr>\n",
       "    <tr>\n",
       "      <th>452</th>\n",
       "      <td>InterracialCupid - Interracial Dating App</td>\n",
       "      <td>Dating</td>\n",
       "      <td>DATING</td>\n",
       "      <td>Free</td>\n",
       "      <td>0.4082</td>\n",
       "    </tr>\n",
       "    <tr>\n",
       "      <th>456</th>\n",
       "      <td>NoBuffDating - Free Dating App</td>\n",
       "      <td>Dating</td>\n",
       "      <td>DATING</td>\n",
       "      <td>Free</td>\n",
       "      <td>0.4082</td>\n",
       "    </tr>\n",
       "    <tr>\n",
       "      <th>457</th>\n",
       "      <td>Sugar Daddy Dating App</td>\n",
       "      <td>Dating</td>\n",
       "      <td>DATING</td>\n",
       "      <td>Free</td>\n",
       "      <td>0.4082</td>\n",
       "    </tr>\n",
       "    <tr>\n",
       "      <th>466</th>\n",
       "      <td>BBWCupid - BBW Dating App</td>\n",
       "      <td>Dating</td>\n",
       "      <td>DATING</td>\n",
       "      <td>Free</td>\n",
       "      <td>0.4082</td>\n",
       "    </tr>\n",
       "  </tbody>\n",
       "</table>\n",
       "</div>"
      ],
      "text/plain": [
       "                                                   app  genres category  type  \\\n",
       "425                                  Clover Dating App  Dating   DATING  Free   \n",
       "532                              Spine- The dating app  Dating   DATING  Free   \n",
       "454  Hide App, Private Dating, Safe Chat - PrivacyH...  Dating   DATING  Free   \n",
       "420                                CMB Free Dating App  Dating   DATING  Free   \n",
       "422                       eharmony - Online Dating App  Dating   DATING  Free   \n",
       "447                      Christian Dating For Free App  Dating   DATING  Free   \n",
       "452          InterracialCupid - Interracial Dating App  Dating   DATING  Free   \n",
       "456                     NoBuffDating - Free Dating App  Dating   DATING  Free   \n",
       "457                             Sugar Daddy Dating App  Dating   DATING  Free   \n",
       "466                          BBWCupid - BBW Dating App  Dating   DATING  Free   \n",
       "\n",
       "     match_score  \n",
       "425       0.4714  \n",
       "532       0.4714  \n",
       "454       0.4629  \n",
       "420       0.4082  \n",
       "422       0.4082  \n",
       "447       0.4082  \n",
       "452       0.4082  \n",
       "456       0.4082  \n",
       "457       0.4082  \n",
       "466       0.4082  "
      ]
     },
     "execution_count": 10722,
     "metadata": {},
     "output_type": "execute_result"
    }
   ],
   "source": [
    "# แสดงข้อมูลชื่อ ที่ใกล้เคียงที่สุด ของแอพที่ได้มาแสดง\n",
    "recommend.get_recommendations(name_cosine_sim)"
   ]
  },
  {
   "cell_type": "markdown",
   "metadata": {},
   "source": [
    "*แสดลงข้อมูลทีี่ใกล้เคียงกับชื่อหลักที่เราได้มา*"
   ]
  },
  {
   "cell_type": "code",
   "execution_count": 10723,
   "metadata": {},
   "outputs": [
    {
     "data": {
      "text/html": [
       "<div>\n",
       "<style scoped>\n",
       "    .dataframe tbody tr th:only-of-type {\n",
       "        vertical-align: middle;\n",
       "    }\n",
       "\n",
       "    .dataframe tbody tr th {\n",
       "        vertical-align: top;\n",
       "    }\n",
       "\n",
       "    .dataframe thead th {\n",
       "        text-align: right;\n",
       "    }\n",
       "</style>\n",
       "<table border=\"1\" class=\"dataframe\">\n",
       "  <thead>\n",
       "    <tr style=\"text-align: right;\">\n",
       "      <th></th>\n",
       "      <th>app</th>\n",
       "      <th>genres</th>\n",
       "      <th>category</th>\n",
       "      <th>type</th>\n",
       "      <th>match_score</th>\n",
       "    </tr>\n",
       "  </thead>\n",
       "  <tbody>\n",
       "    <tr>\n",
       "      <th>406</th>\n",
       "      <td>Moco+ - Chat, Meet People</td>\n",
       "      <td>Dating</td>\n",
       "      <td>DATING</td>\n",
       "      <td>Paid</td>\n",
       "      <td>1.0</td>\n",
       "    </tr>\n",
       "    <tr>\n",
       "      <th>407</th>\n",
       "      <td>Calculator</td>\n",
       "      <td>Dating</td>\n",
       "      <td>DATING</td>\n",
       "      <td>Paid</td>\n",
       "      <td>1.0</td>\n",
       "    </tr>\n",
       "    <tr>\n",
       "      <th>408</th>\n",
       "      <td>Truth or Dare Pro</td>\n",
       "      <td>Dating</td>\n",
       "      <td>DATING</td>\n",
       "      <td>Paid</td>\n",
       "      <td>1.0</td>\n",
       "    </tr>\n",
       "    <tr>\n",
       "      <th>410</th>\n",
       "      <td>Ad Blocker for SayHi</td>\n",
       "      <td>Dating</td>\n",
       "      <td>DATING</td>\n",
       "      <td>Paid</td>\n",
       "      <td>1.0</td>\n",
       "    </tr>\n",
       "    <tr>\n",
       "      <th>411</th>\n",
       "      <td>AMBW Dating App: Asian Men Black Women Interra...</td>\n",
       "      <td>Dating</td>\n",
       "      <td>DATING</td>\n",
       "      <td>Paid</td>\n",
       "      <td>1.0</td>\n",
       "    </tr>\n",
       "    <tr>\n",
       "      <th>412</th>\n",
       "      <td>Zoosk Dating App: Meet Singles</td>\n",
       "      <td>Dating</td>\n",
       "      <td>DATING</td>\n",
       "      <td>Free</td>\n",
       "      <td>1.0</td>\n",
       "    </tr>\n",
       "    <tr>\n",
       "      <th>413</th>\n",
       "      <td>OkCupid Dating</td>\n",
       "      <td>Dating</td>\n",
       "      <td>DATING</td>\n",
       "      <td>Free</td>\n",
       "      <td>1.0</td>\n",
       "    </tr>\n",
       "    <tr>\n",
       "      <th>414</th>\n",
       "      <td>Match™ Dating - Meet Singles</td>\n",
       "      <td>Dating</td>\n",
       "      <td>DATING</td>\n",
       "      <td>Free</td>\n",
       "      <td>1.0</td>\n",
       "    </tr>\n",
       "    <tr>\n",
       "      <th>415</th>\n",
       "      <td>Hily: Dating, Chat, Match, Meet &amp; Hook up</td>\n",
       "      <td>Dating</td>\n",
       "      <td>DATING</td>\n",
       "      <td>Free</td>\n",
       "      <td>1.0</td>\n",
       "    </tr>\n",
       "    <tr>\n",
       "      <th>416</th>\n",
       "      <td>Hinge: Dating &amp; Relationships</td>\n",
       "      <td>Dating</td>\n",
       "      <td>DATING</td>\n",
       "      <td>Free</td>\n",
       "      <td>1.0</td>\n",
       "    </tr>\n",
       "  </tbody>\n",
       "</table>\n",
       "</div>"
      ],
      "text/plain": [
       "                                                   app  genres category  type  \\\n",
       "406                          Moco+ - Chat, Meet People  Dating   DATING  Paid   \n",
       "407                                         Calculator  Dating   DATING  Paid   \n",
       "408                                  Truth or Dare Pro  Dating   DATING  Paid   \n",
       "410                               Ad Blocker for SayHi  Dating   DATING  Paid   \n",
       "411  AMBW Dating App: Asian Men Black Women Interra...  Dating   DATING  Paid   \n",
       "412                     Zoosk Dating App: Meet Singles  Dating   DATING  Free   \n",
       "413                                     OkCupid Dating  Dating   DATING  Free   \n",
       "414                       Match™ Dating - Meet Singles  Dating   DATING  Free   \n",
       "415          Hily: Dating, Chat, Match, Meet & Hook up  Dating   DATING  Free   \n",
       "416                      Hinge: Dating & Relationships  Dating   DATING  Free   \n",
       "\n",
       "     match_score  \n",
       "406          1.0  \n",
       "407          1.0  \n",
       "408          1.0  \n",
       "410          1.0  \n",
       "411          1.0  \n",
       "412          1.0  \n",
       "413          1.0  \n",
       "414          1.0  \n",
       "415          1.0  \n",
       "416          1.0  "
      ]
     },
     "execution_count": 10723,
     "metadata": {},
     "output_type": "execute_result"
    }
   ],
   "source": [
    "# แสดงข้อมูล content ที่ใกล้เคียงที่สุด ของแอพที่ได้มาแสดง โดยไม่สนว่าแพงหรือไม่แพง\n",
    "recommend.get_recommendations(type_cosine_sim)"
   ]
  },
  {
   "cell_type": "markdown",
   "metadata": {},
   "source": [
    "*แสดลงข้อมูลทีี่ใกล้เคียงกับหมวดหมู่และประเภทหลักที่เราได้มา (ไม่สนว่าเป็นแอพฟรีหรือจ่าย)*"
   ]
  },
  {
   "cell_type": "markdown",
   "metadata": {},
   "source": [
    "<a id='modelling'></a>\n",
    "\n",
    "## **Modelling**\n",
    "\n",
    "> สิ่งที่เราจะทำคือ ค้นหาแอพที่ใกล้เคีบงกับค้นหามากที่สุดมาก่อน  \n",
    "> หลังจากนั้น จะนำข้อมูลส่วนนั้นมาแนะนำ ข้อมูลที่ใกล้เคียงมากที่สุด  \n",
    "> และจะมีส่วนที่เรา ต้องการจะแนะนำชื่อที่ใกล้เคียงกับแอพหลัก  \n",
    "> และจะมีส่วนที่เรา ข้อมูลเหมือนกันซึงไม่สนว่าจะเป็นแอพฟรีหรือไม่ฟรี\n",
    "\n",
    "### **Modelling Benchmark**\n",
    "\n",
    "เราจะทดสอบโดยใช้ตัว TfidfVectorizer และ CountVectorizer\n",
    "\n",
    "โดย เราจะลองใช้ของ TfidfVectorizer และ CountVectorizer โดยใช้รูปแบบ\n",
    "cosine_similarity ทั้งสอง\n",
    "\n",
    "จากที่ได้ทดสอบมา ทั้งของ TfidfVectorizer และ CountVectorizer\n",
    "\n",
    "-   ตัวแนะนำข้อมูลที่ใกล้เคียงที่สุด ของ TfidfVectorizer และ CountVectorizer\n",
    "    นั้นเหมือนกัน\n",
    "-   ตัวที่แนะนำประเภทเหมือนกันนั้น ของ TfidfVectorizer และ CountVectorizer\n",
    "    นั้นเหมือนกัน\n",
    "-   ส่วนของที่แนะนำตามชื่อ ของ TfidfVectorizer และ CountVectorizer\n",
    "นั้นไม่เหมือนกัน คะแนนของ Count นั้นจะมากกว่า เราเลยตัดสินใจใช้ตัว\n",
    "**CountVectorizer**\n",
    "<div>\n",
    "    <h3><b>CountVectorizer</b></h3>\n",
    "    <img src=\"./images/modelling_count_similality_name.png\" width =\"500\" height=500 />\n",
    "<div>\n",
    "<div>\n",
    "    <h3><b>TfidfVectorizer</b></h3>\n",
    "    <img src=\"./images/modelling_tfid_similality_name.png\" width =\"500\" height=500 />\n",
    "<div>\n",
    "\n",
    "-   มาดูในส่วนของ Algorithm ในการใช้คำคล้ายดีกว่า\n",
    "-   ในที่นี้เรามีอยู่สองตัว ก็คือ Linear kernel กับ Cosine similarity\n",
    "\n",
    "จากที่ได้ทดสอบ ผลลัพพ์ที่ได้ก็คือ\n",
    "\n",
    "-   ตัว Cosine similarity กับ Linear kernel นั้น ผลลัพพ์ขอมูลนั้นเหมือนกัน\n",
    "ส่วนที่แตกต่างจะเป็น คะแนน ซึ่ง จากที่ส่งเกตุได้นั้น ถ้าเอาค่าของ linear kernel\n",
    "นั้น ไป หาร 5 นั้น เราจะได้ข้อมูลที่เหมือน Cosine similarity เลย\n",
    "เราเลยตัดสินใจใช้ **Cosine similarity** เพื่อลดทรัพยากรในการทำงาน\n",
    "<div>\n",
    "    <h3><b>Cousine Similarity</b></h3>\n",
    "    <img src=\"./images/cousine_similar.png\" width =\"500\" height=500 />\n",
    "<div>\n",
    "<div>\n",
    "    <h3><b>Linear Similarity</b></h3>\n",
    "    <img src=\"./images/linear_similar.png\" width =\"500\" height=500 />\n",
    "<div>\n",
    "\n",
    "จากที่สรุปได้ เราจะใช้ตัว CountVectorizer คู่กับ Cousine Similarity คู่กัน\n"
   ]
  },
  {
   "cell_type": "markdown",
   "metadata": {},
   "source": [
    "<a href='deployment'></a>\n",
    "\n",
    "## **Deployment**\n"
   ]
  },
  {
   "cell_type": "code",
   "execution_count": 10724,
   "metadata": {},
   "outputs": [],
   "source": [
    "\n",
    "# iface = gr.Interface(get_recommendations, inputs=[gr.inputs.Textbox(label='App Name', default=\"Santa Fe App\")], outputs=[\n",
    "#                      gr.outputs.Dataframe(label='Your App'), gr.outputs.Dataframe(label='Similar App')])\n",
    "# iface.launch(debug=True)"
   ]
  },
  {
   "cell_type": "markdown",
   "metadata": {},
   "source": [
    "<a href='references'></a>\n",
    "\n",
    "## **References**\n",
    "\n",
    "-   <a href=\"https://www.kaggle.com/ahmedmohamedmahrous/google-play-store-eda-rating-prediction\" target=\"_blank\">https://www.kaggle.com/ahmedmohamedmahrous/google-play-store-eda-rating-prediction</a>\n",
    "-   <a href=\"https://github.com/MacClay/CS434/blob/main/cs434_finalexam__%E0%B8%AD%E0%B8%B5%E0%B8%AB%E0%B8%A2%E0%B8%B1%E0%B8%87%E0%B8%A7%E0%B8%B0_%E0%B8%AB%E0%B9%89%E0%B8%A7%E0%B8%A2_!_.ipynb\" target=\"_blank\">cs434*finalexam\\_\\_อีหยังวะ*ห้วย*!*</a>\n",
    "-   <a href=\"https://www.datacamp.com/community/tutorials/recommender-systems-python\" target=\"_blank\">https://www.datacamp.com/community/tutorials/recommender-systems-python</a>\n",
    "\n",
    "-   <a href=\"https://www.kaggle.com/lavanyaanandm/recommending-anime-s-using-all-recommendation-sys#10.-Reference-\">Anime\n",
    "    Recommendation</a>\n",
    "\n",
    "-   <a href=\"https://stackoverflow.com/a/59444539/15858748\">Closest Match</a>\n",
    "\n",
    "-   <a href=\"https://stackoverflow.com/questions/28080066/how-to-reference-a-ipython-notebook-cell-in-markdown\">How\n",
    "    to markdown Jupiter Notebook</a>\n"
   ]
  },
  {
   "cell_type": "markdown",
   "metadata": {},
   "source": [
    "<a href='members'></a>\n",
    "\n",
    "## **Members**\n",
    "\n",
    "-   sad\n",
    "-   sad\n",
    "-   sad\n"
   ]
  }
 ],
 "metadata": {
  "interpreter": {
   "hash": "6ca079cfc3dba9581ca024f10f4a466f79644bace2317455bc30872f8fc7da6d"
  },
  "kernelspec": {
   "display_name": "Python 3.9.9 64-bit (windows store)",
   "language": "python",
   "name": "python3"
  },
  "language_info": {
   "codemirror_mode": {
    "name": "ipython",
    "version": 3
   },
   "file_extension": ".py",
   "mimetype": "text/x-python",
   "name": "python",
   "nbconvert_exporter": "python",
   "pygments_lexer": "ipython3",
   "version": "3.9.9"
  },
  "orig_nbformat": 4
 },
 "nbformat": 4,
 "nbformat_minor": 2
}
